{
  "nbformat": 4,
  "nbformat_minor": 0,
  "metadata": {
    "colab": {
      "provenance": [],
      "authorship_tag": "ABX9TyNEqAOzeYdvX3/OWthfcppG",
      "include_colab_link": true
    },
    "kernelspec": {
      "name": "python3",
      "display_name": "Python 3"
    },
    "language_info": {
      "name": "python"
    }
  },
  "cells": [
    {
      "cell_type": "markdown",
      "metadata": {
        "id": "view-in-github",
        "colab_type": "text"
      },
      "source": [
        "<a href=\"https://colab.research.google.com/github/Suffragette/github-slideshow/blob/master/FINAL_PROJECT_evaluation.ipynb\" target=\"_parent\"><img src=\"https://colab.research.google.com/assets/colab-badge.svg\" alt=\"Open In Colab\"/></a>"
      ]
    },
    {
      "cell_type": "code",
      "execution_count": 15,
      "metadata": {
        "id": "hMl1YSWtuchU"
      },
      "outputs": [],
      "source": [
        "!apt-get install openjdk-8-jdk-headless -qq > /dev/null\n"
      ]
    },
    {
      "cell_type": "code",
      "source": [
        "import os\n",
        "os.environ[\"JAVA_HOME\"] = \"/usr/lib/jvm/java-8-openjdk-amd64\"\n",
        "os.environ[\"PATH\"] = os.environ[\"JAVA_HOME\"] + \"/bin:\" + os.environ[\"PATH\"]\n"
      ],
      "metadata": {
        "id": "PXAiciY3uv9g"
      },
      "execution_count": 16,
      "outputs": []
    },
    {
      "cell_type": "code",
      "source": [
        "!pip install pyspark==3.1.2\n",
        "!pip install spark-nlp==3.3.1\n"
      ],
      "metadata": {
        "colab": {
          "base_uri": "https://localhost:8080/"
        },
        "id": "hCew9aFOu2iw",
        "outputId": "3ae872e1-b09a-465c-f904-dbca9e76a521"
      },
      "execution_count": 17,
      "outputs": [
        {
          "output_type": "stream",
          "name": "stdout",
          "text": [
            "Requirement already satisfied: pyspark==3.1.2 in /usr/local/lib/python3.10/dist-packages (3.1.2)\n",
            "Requirement already satisfied: py4j==0.10.9 in /usr/local/lib/python3.10/dist-packages (from pyspark==3.1.2) (0.10.9)\n",
            "Requirement already satisfied: spark-nlp==3.3.1 in /usr/local/lib/python3.10/dist-packages (3.3.1)\n"
          ]
        }
      ]
    },
    {
      "cell_type": "code",
      "source": [
        "!java -version\n",
        "!echo $JAVA_HOME\n"
      ],
      "metadata": {
        "colab": {
          "base_uri": "https://localhost:8080/"
        },
        "id": "TmQcGqNeBlKl",
        "outputId": "103b3268-88ac-4d93-9e32-1b8be8147214"
      },
      "execution_count": 18,
      "outputs": [
        {
          "output_type": "stream",
          "name": "stdout",
          "text": [
            "openjdk version \"1.8.0_362\"\n",
            "OpenJDK Runtime Environment (build 1.8.0_362-8u372-ga~us1-0ubuntu1~20.04-b09)\n",
            "OpenJDK 64-Bit Server VM (build 25.362-b09, mixed mode)\n",
            "/usr/lib/jvm/java-8-openjdk-amd64\n"
          ]
        }
      ]
    },
    {
      "cell_type": "code",
      "source": [
        "import sparknlp\n",
        "spark = sparknlp.start()\n"
      ],
      "metadata": {
        "id": "lh9jDfenvFHG"
      },
      "execution_count": 19,
      "outputs": []
    },
    {
      "cell_type": "code",
      "source": [
        "!wget -O train_data.csv https://raw.githubusercontent.com/sebischair/Medical-Abstracts-TC-Corpus/main/medical_tc_train.csv\n",
        "!wget -O test_data.csv https://raw.githubusercontent.com/sebischair/Medical-Abstracts-TC-Corpus/main/medical_tc_test.csv\n",
        "\n",
        "train_data = spark.read.csv(\"train_data.csv\", inferSchema=True, header=True)\n",
        "test_data = spark.read.csv(\"test_data.csv\", inferSchema=True, header=True)\n"
      ],
      "metadata": {
        "colab": {
          "base_uri": "https://localhost:8080/"
        },
        "id": "S7s6HVa8xSae",
        "outputId": "6955a9e0-31f6-4c04-fd70-7b2bac7a7db2"
      },
      "execution_count": 20,
      "outputs": [
        {
          "output_type": "stream",
          "name": "stdout",
          "text": [
            "--2023-07-08 15:39:49--  https://raw.githubusercontent.com/sebischair/Medical-Abstracts-TC-Corpus/main/medical_tc_train.csv\n",
            "Resolving raw.githubusercontent.com (raw.githubusercontent.com)... 185.199.108.133, 185.199.109.133, 185.199.110.133, ...\n",
            "Connecting to raw.githubusercontent.com (raw.githubusercontent.com)|185.199.108.133|:443... connected.\n",
            "HTTP request sent, awaiting response... 200 OK\n",
            "Length: 14254503 (14M) [text/plain]\n",
            "Saving to: ‘train_data.csv’\n",
            "\n",
            "train_data.csv      100%[===================>]  13.59M  87.1MB/s    in 0.2s    \n",
            "\n",
            "2023-07-08 15:39:49 (87.1 MB/s) - ‘train_data.csv’ saved [14254503/14254503]\n",
            "\n",
            "--2023-07-08 15:39:49--  https://raw.githubusercontent.com/sebischair/Medical-Abstracts-TC-Corpus/main/medical_tc_test.csv\n",
            "Resolving raw.githubusercontent.com (raw.githubusercontent.com)... 185.199.108.133, 185.199.109.133, 185.199.110.133, ...\n",
            "Connecting to raw.githubusercontent.com (raw.githubusercontent.com)|185.199.108.133|:443... connected.\n",
            "HTTP request sent, awaiting response... 200 OK\n",
            "Length: 3586836 (3.4M) [text/plain]\n",
            "Saving to: ‘test_data.csv’\n",
            "\n",
            "test_data.csv       100%[===================>]   3.42M  --.-KB/s    in 0.1s    \n",
            "\n",
            "2023-07-08 15:39:49 (35.1 MB/s) - ‘test_data.csv’ saved [3586836/3586836]\n",
            "\n"
          ]
        }
      ]
    },
    {
      "cell_type": "code",
      "source": [
        "print(train_data.columns)\n"
      ],
      "metadata": {
        "colab": {
          "base_uri": "https://localhost:8080/"
        },
        "id": "R_d5isZBx-_M",
        "outputId": "5b911628-5c94-4721-f7e9-565c1a87dc11"
      },
      "execution_count": 21,
      "outputs": [
        {
          "output_type": "stream",
          "name": "stdout",
          "text": [
            "['condition_label', 'medical_abstract']\n"
          ]
        }
      ]
    },
    {
      "cell_type": "code",
      "source": [
        "from google.colab import drive\n",
        "drive.mount('/content/gdrive')\n"
      ],
      "metadata": {
        "colab": {
          "base_uri": "https://localhost:8080/"
        },
        "id": "eIS9_L5KtywY",
        "outputId": "0b6bf100-bba3-4cfb-c129-71587194d86f"
      },
      "execution_count": 22,
      "outputs": [
        {
          "output_type": "stream",
          "name": "stdout",
          "text": [
            "Drive already mounted at /content/gdrive; to attempt to forcibly remount, call drive.mount(\"/content/gdrive\", force_remount=True).\n"
          ]
        }
      ]
    },
    {
      "cell_type": "code",
      "source": [
        "from pyspark.ml import PipelineModel\n",
        "\n",
        "model = PipelineModel.load(\"/content/gdrive/MyDrive/ΥΔΑ/ΜΑΚΡΗΣ\")\n",
        "\n"
      ],
      "metadata": {
        "id": "EAj9TgtjEwjl"
      },
      "execution_count": 23,
      "outputs": []
    },
    {
      "cell_type": "code",
      "source": [
        "from pyspark.ml import PipelineModel\n",
        "from pyspark.sql.functions import col\n",
        "\n",
        "# Load the trained model\n",
        "model = PipelineModel.load(\"/content/gdrive/MyDrive/ΥΔΑ/ΜΑΚΡΗΣ\")\n",
        "\n",
        "# Check if 'bert_embeddings' column exists in the test data\n",
        "if 'bert_embeddings' in test_data.columns:\n",
        "    # If it exists, drop the column\n",
        "    test_data = test_data.drop('bert_embeddings')\n",
        "\n",
        "# Make predictions on the test data\n",
        "predictions = model.transform(test_data)\n"
      ],
      "metadata": {
        "id": "sql6avDjxI97"
      },
      "execution_count": 24,
      "outputs": []
    },
    {
      "cell_type": "code",
      "source": [
        "print(predictions.columns)\n"
      ],
      "metadata": {
        "colab": {
          "base_uri": "https://localhost:8080/"
        },
        "id": "fljMmRL3H_jL",
        "outputId": "665101fe-5cc5-49d0-ae5a-32db06af4402"
      },
      "execution_count": 25,
      "outputs": [
        {
          "output_type": "stream",
          "name": "stdout",
          "text": [
            "['condition_label', 'medical_abstract', 'document', 'token', 'normalized', 'cleanTokens', 'glove_embeddings', 'bert_embeddings', 'bert_sentence_embeddings', 'class']\n"
          ]
        }
      ]
    },
    {
      "cell_type": "code",
      "source": [
        "predictions.select('class').show()\n"
      ],
      "metadata": {
        "colab": {
          "base_uri": "https://localhost:8080/"
        },
        "id": "JFnQxaseITE6",
        "outputId": "a8358815-6f11-4982-dbce-39cd588a28bb"
      },
      "execution_count": 26,
      "outputs": [
        {
          "output_type": "stream",
          "name": "stdout",
          "text": [
            "+--------------------+\n",
            "|               class|\n",
            "+--------------------+\n",
            "|[{category, 0, 15...|\n",
            "|[{category, 0, 16...|\n",
            "|[{category, 0, 18...|\n",
            "|[{category, 0, 19...|\n",
            "|[{category, 0, 68...|\n",
            "|[{category, 0, 12...|\n",
            "|[{category, 0, 80...|\n",
            "|[{category, 0, 10...|\n",
            "|[{category, 0, 22...|\n",
            "|[{category, 0, 10...|\n",
            "|[{category, 0, 52...|\n",
            "|[{category, 0, 70...|\n",
            "|[{category, 0, 98...|\n",
            "|[{category, 0, 78...|\n",
            "|[{category, 0, 15...|\n",
            "|[{category, 0, 13...|\n",
            "|[{category, 0, 14...|\n",
            "|[{category, 0, 11...|\n",
            "|[{category, 0, 17...|\n",
            "|[{category, 0, 95...|\n",
            "+--------------------+\n",
            "only showing top 20 rows\n",
            "\n"
          ]
        }
      ]
    }
  ]
}