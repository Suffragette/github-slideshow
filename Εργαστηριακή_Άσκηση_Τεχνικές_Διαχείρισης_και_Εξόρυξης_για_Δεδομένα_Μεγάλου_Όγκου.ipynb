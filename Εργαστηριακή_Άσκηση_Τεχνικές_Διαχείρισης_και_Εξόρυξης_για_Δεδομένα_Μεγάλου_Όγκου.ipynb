{
  "nbformat": 4,
  "nbformat_minor": 0,
  "metadata": {
    "colab": {
      "provenance": [],
      "authorship_tag": "ABX9TyMdSS3wOGMigtKkZ888oXvS",
      "include_colab_link": true
    },
    "kernelspec": {
      "name": "python3",
      "display_name": "Python 3"
    },
    "language_info": {
      "name": "python"
    }
  },
  "cells": [
    {
      "cell_type": "markdown",
      "metadata": {
        "id": "view-in-github",
        "colab_type": "text"
      },
      "source": [
        "<a href=\"https://colab.research.google.com/github/Suffragette/github-slideshow/blob/master/%CE%95%CF%81%CE%B3%CE%B1%CF%83%CF%84%CE%B7%CF%81%CE%B9%CE%B1%CE%BA%CE%AE_%CE%86%CF%83%CE%BA%CE%B7%CF%83%CE%B7_%CE%A4%CE%B5%CF%87%CE%BD%CE%B9%CE%BA%CE%AD%CF%82_%CE%94%CE%B9%CE%B1%CF%87%CE%B5%CE%AF%CF%81%CE%B9%CF%83%CE%B7%CF%82_%CE%BA%CE%B1%CE%B9_%CE%95%CE%BE%CF%8C%CF%81%CF%85%CE%BE%CE%B7%CF%82_%CE%B3%CE%B9%CE%B1_%CE%94%CE%B5%CE%B4%CE%BF%CE%BC%CE%AD%CE%BD%CE%B1_%CE%9C%CE%B5%CE%B3%CE%AC%CE%BB%CE%BF%CF%85_%CE%8C%CE%B3%CE%BA%CE%BF%CF%85.ipynb\" target=\"_parent\"><img src=\"https://colab.research.google.com/assets/colab-badge.svg\" alt=\"Open In Colab\"/></a>"
      ]
    },
    {
      "cell_type": "code",
      "source": [
        "!apt-get update\n",
        "!apt-get install openjdk-8-jdk-headless -qq > /dev/null\n",
        "!wget -q https://archive.apache.org/dist/spark/spark-3.1.2/spark-3.1.2-bin-hadoop2.7.tgz\n",
        "!tar xf spark-3.1.2-bin-hadoop2.7.tgz\n",
        "!pip install -q findspark\n",
        "!pip install pyspark==3.1.2\n",
        "!pip install spark-nlp==3.3.1\n",
        "\n",
        "import os\n",
        "os.environ[\"JAVA_HOME\"] = \"/usr/lib/jvm/java-8-openjdk-amd64\"\n",
        "os.environ[\"SPARK_HOME\"] = \"/content/spark-3.1.2-bin-hadoop2.7\"\n",
        "\n",
        "import findspark\n",
        "findspark.init()\n",
        "\n",
        "from pyspark.sql import SparkSession\n",
        "import sparknlp\n",
        "\n",
        "spark = SparkSession.builder \\\n",
        "    .appName(\"Spark NLP\") \\\n",
        "    .master(\"local[4]\") \\\n",
        "    .config(\"spark.driver.memory\",\"16G\") \\\n",
        "    .config(\"spark.driver.maxResultSize\", \"0\") \\\n",
        "    .config(\"spark.kryoserializer.buffer.max\", \"2000M\") \\\n",
        "    .config(\"spark.jars.packages\", \"com.johnsnowlabs.nlp:spark-nlp_2.12:3.3.1\") \\\n",
        "    .getOrCreate()\n",
        "\n",
        "print(\"Spark NLP version: \", sparknlp.version())\n",
        "print(\"Apache Spark version: \", spark.version)\n"
      ],
      "metadata": {
        "id": "Duo0jJKTReHL",
        "colab": {
          "base_uri": "https://localhost:8080/"
        },
        "outputId": "0cfdb267-e112-495d-ecce-f254cb11e2df"
      },
      "execution_count": 55,
      "outputs": [
        {
          "output_type": "stream",
          "name": "stdout",
          "text": [
            "\r0% [Working]\r            \rGet:1 http://security.ubuntu.com/ubuntu focal-security InRelease [114 kB]\n",
            "\r0% [Connecting to archive.ubuntu.com] [1 InRelease 14.2 kB/114 kB 12%] [Connect\r                                                                               \rHit:2 https://cloud.r-project.org/bin/linux/ubuntu focal-cran40/ InRelease\n",
            "\r0% [Connecting to archive.ubuntu.com (91.189.91.38)] [1 InRelease 47.5 kB/114 k\r                                                                               \rHit:3 https://developer.download.nvidia.com/compute/cuda/repos/ubuntu2004/x86_64  InRelease\n",
            "\r0% [Waiting for headers] [1 InRelease 59.1 kB/114 kB 52%] [Connecting to ppa.la\r                                                                               \rHit:4 http://archive.ubuntu.com/ubuntu focal InRelease\n",
            "\r0% [1 InRelease 108 kB/114 kB 95%] [Connecting to ppa.launchpad.net (185.125.19\r                                                                               \r0% [Waiting for headers] [Connecting to ppa.launchpad.net (185.125.190.52)]\r                                                                           \rGet:5 http://archive.ubuntu.com/ubuntu focal-updates InRelease [114 kB]\n",
            "Hit:6 http://ppa.launchpad.net/c2d4u.team/c2d4u4.0+/ubuntu focal InRelease\n",
            "Get:7 http://archive.ubuntu.com/ubuntu focal-backports InRelease [108 kB]\n",
            "Hit:8 http://ppa.launchpad.net/cran/libgit2/ubuntu focal InRelease\n",
            "Hit:9 http://ppa.launchpad.net/deadsnakes/ppa/ubuntu focal InRelease\n",
            "Hit:10 http://ppa.launchpad.net/graphics-drivers/ppa/ubuntu focal InRelease\n",
            "Hit:11 http://ppa.launchpad.net/ubuntugis/ppa/ubuntu focal InRelease\n",
            "Fetched 336 kB in 1s (237 kB/s)\n",
            "Reading package lists... Done\n",
            "Requirement already satisfied: pyspark==3.1.2 in /usr/local/lib/python3.10/dist-packages (3.1.2)\n",
            "Requirement already satisfied: py4j==0.10.9 in /usr/local/lib/python3.10/dist-packages (from pyspark==3.1.2) (0.10.9)\n",
            "Requirement already satisfied: spark-nlp==3.3.1 in /usr/local/lib/python3.10/dist-packages (3.3.1)\n",
            "Spark NLP version:  3.3.1\n",
            "Apache Spark version:  3.1.2\n"
          ]
        }
      ]
    },
    {
      "cell_type": "code",
      "source": [
        "from google.colab import drive\n",
        "drive.mount('/content/drive')\n"
      ],
      "metadata": {
        "id": "OwpjxuaVTbkm",
        "colab": {
          "base_uri": "https://localhost:8080/"
        },
        "outputId": "98f607b0-968c-4d6c-8d0e-ea3ada50008f"
      },
      "execution_count": 56,
      "outputs": [
        {
          "output_type": "stream",
          "name": "stdout",
          "text": [
            "Drive already mounted at /content/drive; to attempt to forcibly remount, call drive.mount(\"/content/drive\", force_remount=True).\n"
          ]
        }
      ]
    },
    {
      "cell_type": "code",
      "source": [
        "from pyspark.sql import SparkSession\n",
        "\n",
        "# Create a SparkSession\n",
        "spark = SparkSession.builder.getOrCreate()\n",
        "\n",
        "# Load the data\n",
        "# Load the data\n",
        "labels = spark.read.csv(\"/content/drive/MyDrive/Chatgpt/Τεχνικές Διαχείρισης και Εξόρυξης για  Δεδομένα Μεγάλου Όγκου/Medical-Abstracts-TC-Corpus-main/medical_tc_labels.csv\", inferSchema=True, header=True)\n",
        "train = spark.read.csv(\"/content/drive/MyDrive/Chatgpt/Τεχνικές Διαχείρισης και Εξόρυξης για  Δεδομένα Μεγάλου Όγκου/Medical-Abstracts-TC-Corpus-main/medical_tc_train.csv\", inferSchema=True, header=True)\n",
        "test = spark.read.csv(\"/content/drive/MyDrive/Chatgpt/Τεχνικές Διαχείρισης και Εξόρυξης για  Δεδομένα Μεγάλου Όγκου/Medical-Abstracts-TC-Corpus-main/medical_tc_test.csv\", inferSchema=True, header=True)\n",
        "\n",
        "\n",
        "# Show the first few rows of the DataFrame\n",
        "data.show()\n"
      ],
      "metadata": {
        "id": "jHn84pKyScca",
        "colab": {
          "base_uri": "https://localhost:8080/"
        },
        "outputId": "0b4da9e5-0a47-4cf5-c83f-c41fb712b931"
      },
      "execution_count": 57,
      "outputs": [
        {
          "output_type": "stream",
          "name": "stdout",
          "text": [
            "+---------------+--------------------+\n",
            "|condition_label|    medical_abstract|\n",
            "+---------------+--------------------+\n",
            "|              5|Tissue changes ar...|\n",
            "|              1|Neuropeptide Y an...|\n",
            "|              2|Sexually transmit...|\n",
            "|              1|Lipolytic factors...|\n",
            "|              3|Does carotid rest...|\n",
            "|              3|The shoulder in m...|\n",
            "|              2|The management of...|\n",
            "|              4|Pharmacomechanica...|\n",
            "|              5|Color Doppler dia...|\n",
            "|              5|Noninvasive diagn...|\n",
            "|              4|Sodium sensitive ...|\n",
            "|              1|Imaging bone tumo...|\n",
            "|              5|Closure of a bron...|\n",
            "|              1|Utility of frozen...|\n",
            "|              4|Antihypertensive ...|\n",
            "|              2|Gallbladder perfo...|\n",
            "|              1|Left ventricular ...|\n",
            "|              4|Tongue ischemia f...|\n",
            "|              5|In vitro and in v...|\n",
            "|              1|Chondrosarcoma of...|\n",
            "+---------------+--------------------+\n",
            "only showing top 20 rows\n",
            "\n"
          ]
        }
      ]
    },
    {
      "cell_type": "code",
      "source": [
        "print(data.columns)\n"
      ],
      "metadata": {
        "id": "Yy9BeFzAUbhR",
        "colab": {
          "base_uri": "https://localhost:8080/"
        },
        "outputId": "0889c6c3-6d22-4eab-b5cb-6c53394e8ef7"
      },
      "execution_count": 58,
      "outputs": [
        {
          "output_type": "stream",
          "name": "stdout",
          "text": [
            "['condition_label', 'medical_abstract']\n"
          ]
        }
      ]
    },
    {
      "cell_type": "code",
      "source": [
        "from sparknlp.base import DocumentAssembler, Finisher\n",
        "from sparknlp.annotator import Tokenizer, Normalizer, StopWordsCleaner\n",
        "\n",
        "# Assemble the text column into a Document type column\n",
        "document_assembler = DocumentAssembler() \\\n",
        "    .setInputCol(\"medical_abstract\") \\\n",
        "    .setOutputCol(\"document\")\n",
        "\n",
        "# Tokenize the document\n",
        "tokenizer = Tokenizer() \\\n",
        "    .setInputCols([\"document\"]) \\\n",
        "    .setOutputCol(\"token\")\n",
        "\n",
        "# Normalize the tokens (remove punctuation and convert to lowercase)\n",
        "normalizer = Normalizer() \\\n",
        "    .setInputCols([\"token\"]) \\\n",
        "    .setOutputCol(\"normalized\")\n",
        "\n",
        "# Remove stopwords\n",
        "stopwords_cleaner = StopWordsCleaner() \\\n",
        "    .setInputCols([\"normalized\"]) \\\n",
        "    .setOutputCol(\"clean_tokens\") \\\n",
        "    .setCaseSensitive(False)\n",
        "\n",
        "# Finish the preprocessing (convert the result back to a string column)\n",
        "finisher = Finisher() \\\n",
        "    .setInputCols([\"clean_tokens\"]) \\\n",
        "    .setOutputCols([\"clean_text\"]) \\\n",
        "    .setOutputAsArray(False) \\\n",
        "    .setCleanAnnotations(False)\n",
        "\n",
        "# Define the stages of the pipeline\n",
        "stages = [document_assembler, tokenizer, normalizer, stopwords_cleaner, finisher]\n",
        "\n",
        "# Create a pipeline\n",
        "from pyspark.ml import Pipeline\n",
        "pipeline = Pipeline().setStages(stages)\n",
        "\n",
        "# Fit the pipeline to the training data\n",
        "model = pipeline.fit(train)\n",
        "\n",
        "# Transform the training and test data\n",
        "train_clean = model.transform(train)\n",
        "test_clean = model.transform(test)\n",
        "\n",
        "# Fit the pipeline to the test data and transform it\n",
        "test_clean = model.transform(test)\n",
        "\n",
        "# Show the first few rows of the cleaned training data\n",
        "train_clean.show()\n",
        "\n",
        "# Show the first few rows of the cleaned test data\n",
        "test_clean.show()\n",
        "\n"
      ],
      "metadata": {
        "id": "-HotsT_5UH0L",
        "colab": {
          "base_uri": "https://localhost:8080/"
        },
        "outputId": "27e5903c-f38d-4355-c8c9-7dc68dcdd3c2"
      },
      "execution_count": 62,
      "outputs": [
        {
          "output_type": "stream",
          "name": "stdout",
          "text": [
            "+---------------+--------------------+--------------------+--------------------+--------------------+--------------------+--------------------+\n",
            "|condition_label|    medical_abstract|            document|               token|          normalized|        clean_tokens|          clean_text|\n",
            "+---------------+--------------------+--------------------+--------------------+--------------------+--------------------+--------------------+\n",
            "|              5|Tissue changes ar...|[{document, 0, 10...|[{token, 0, 5, Ti...|[{token, 0, 5, Ti...|[{token, 0, 5, Ti...|Tissue@changes@ar...|\n",
            "|              1|Neuropeptide Y an...|[{document, 0, 12...|[{token, 0, 11, N...|[{token, 0, 11, N...|[{token, 0, 11, N...|Neuropeptide@Y@ne...|\n",
            "|              2|Sexually transmit...|[{document, 0, 17...|[{token, 0, 7, Se...|[{token, 0, 7, Se...|[{token, 0, 7, Se...|Sexually@transmit...|\n",
            "|              1|Lipolytic factors...|[{document, 0, 10...|[{token, 0, 8, Li...|[{token, 0, 8, Li...|[{token, 0, 8, Li...|Lipolytic@factors...|\n",
            "|              3|Does carotid rest...|[{document, 0, 14...|[{token, 0, 3, Do...|[{token, 0, 3, Do...|[{token, 5, 11, c...|carotid@restenosi...|\n",
            "|              3|The shoulder in m...|[{document, 0, 56...|[{token, 0, 2, Th...|[{token, 0, 2, Th...|[{token, 4, 11, s...|shoulder@multiple...|\n",
            "|              2|The management of...|[{document, 0, 91...|[{token, 0, 2, Th...|[{token, 0, 2, Th...|[{token, 4, 13, m...|management@postop...|\n",
            "|              4|Pharmacomechanica...|[{document, 0, 13...|[{token, 0, 17, P...|[{token, 0, 17, P...|[{token, 0, 17, P...|Pharmacomechanica...|\n",
            "|              5|Color Doppler dia...|[{document, 0, 15...|[{token, 0, 4, Co...|[{token, 0, 4, Co...|[{token, 0, 4, Co...|Color@Doppler@dia...|\n",
            "|              5|Noninvasive diagn...|[{document, 0, 14...|[{token, 0, 10, N...|[{token, 0, 10, N...|[{token, 0, 10, N...|Noninvasive@diagn...|\n",
            "|              4|Sodium sensitive ...|[{document, 0, 18...|[{token, 0, 5, So...|[{token, 0, 5, So...|[{token, 0, 5, So...|Sodium@sensitive@...|\n",
            "|              1|Imaging bone tumo...|[{document, 0, 12...|[{token, 0, 6, Im...|[{token, 0, 6, Im...|[{token, 0, 6, Im...|Imaging@bone@tumo...|\n",
            "|              5|Closure of a bron...|[{document, 0, 64...|[{token, 0, 6, Cl...|[{token, 0, 6, Cl...|[{token, 0, 6, Cl...|Closure@bronchopl...|\n",
            "|              1|Utility of frozen...|[{document, 0, 19...|[{token, 0, 6, Ut...|[{token, 0, 6, Ut...|[{token, 0, 6, Ut...|Utility@frozensec...|\n",
            "|              4|Antihypertensive ...|[{document, 0, 11...|[{token, 0, 15, A...|[{token, 0, 15, A...|[{token, 0, 15, A...|Antihypertensive@...|\n",
            "|              2|Gallbladder perfo...|[{document, 0, 12...|[{token, 0, 10, G...|[{token, 0, 10, G...|[{token, 0, 10, G...|Gallbladder@perfo...|\n",
            "|              1|Left ventricular ...|[{document, 0, 61...|[{token, 0, 3, Le...|[{token, 0, 3, Le...|[{token, 0, 3, Le...|Left@ventricular@...|\n",
            "|              4|Tongue ischemia f...|[{document, 0, 33...|[{token, 0, 5, To...|[{token, 0, 5, To...|[{token, 0, 5, To...|Tongue@ischemia@s...|\n",
            "|              5|In vitro and in v...|[{document, 0, 25...|[{token, 0, 1, In...|[{token, 0, 1, In...|[{token, 3, 7, vi...|vitro@vivo@effect...|\n",
            "|              1|Chondrosarcoma of...|[{document, 0, 85...|[{token, 0, 13, C...|[{token, 0, 13, C...|[{token, 0, 13, C...|Chondrosarcoma@ja...|\n",
            "+---------------+--------------------+--------------------+--------------------+--------------------+--------------------+--------------------+\n",
            "only showing top 20 rows\n",
            "\n",
            "+---------------+--------------------+--------------------+--------------------+--------------------+--------------------+--------------------+\n",
            "|condition_label|    medical_abstract|            document|               token|          normalized|        clean_tokens|          clean_text|\n",
            "+---------------+--------------------+--------------------+--------------------+--------------------+--------------------+--------------------+\n",
            "|              3|Obstructive sleep...|[{document, 0, 15...|[{token, 0, 10, O...|[{token, 0, 10, O...|[{token, 0, 10, O...|Obstructive@sleep...|\n",
            "|              5|Neutrophil functi...|[{document, 0, 16...|[{token, 0, 9, Ne...|[{token, 0, 9, Ne...|[{token, 0, 9, Ne...|Neutrophil@functi...|\n",
            "|              5|A phase II study ...|[{document, 0, 18...|[{token, 0, 0, A,...|[{token, 0, 0, A,...|[{token, 2, 6, ph...|phase@II@study@co...|\n",
            "|              1|Flow cytometric D...|[{document, 0, 19...|[{token, 0, 3, Fl...|[{token, 0, 3, Fl...|[{token, 0, 3, Fl...|Flow@cytometric@D...|\n",
            "|              4|Paraneoplastic va...|[{document, 0, 68...|[{token, 0, 13, P...|[{token, 0, 13, P...|[{token, 0, 13, P...|Paraneoplastic@va...|\n",
            "|              1|Treatment of chil...|[{document, 0, 12...|[{token, 0, 8, Tr...|[{token, 0, 8, Tr...|[{token, 0, 8, Tr...|Treatment@childho...|\n",
            "|              1|Expression of maj...|[{document, 0, 80...|[{token, 0, 9, Ex...|[{token, 0, 9, Ex...|[{token, 0, 9, Ex...|Expression@major@...|\n",
            "|              1|Questionable role...|[{document, 0, 10...|[{token, 0, 11, Q...|[{token, 0, 11, Q...|[{token, 0, 11, Q...|Questionable@role...|\n",
            "|              5|Reversibility of ...|[{document, 0, 22...|[{token, 0, 12, R...|[{token, 0, 12, R...|[{token, 0, 12, R...|Reversibility@hep...|\n",
            "|              2|Current status of...|[{document, 0, 10...|[{token, 0, 6, Cu...|[{token, 0, 6, Cu...|[{token, 0, 6, Cu...|Current@status@du...|\n",
            "|              5|The importance of...|[{document, 0, 52...|[{token, 0, 2, Th...|[{token, 0, 2, Th...|[{token, 4, 13, i...|importance@congen...|\n",
            "|              1|Human papillomavi...|[{document, 0, 70...|[{token, 0, 4, Hu...|[{token, 0, 4, Hu...|[{token, 0, 4, Hu...|Human@papillomavi...|\n",
            "|              5|Gentamicin iontop...|[{document, 0, 98...|[{token, 0, 9, Ge...|[{token, 0, 9, Ge...|[{token, 0, 9, Ge...|Gentamicin@iontop...|\n",
            "|              1|Repeat hepatic re...|[{document, 0, 78...|[{token, 0, 5, Re...|[{token, 0, 5, Re...|[{token, 0, 5, Re...|Repeat@hepatic@re...|\n",
            "|              5|Evidence for intr...|[{document, 0, 15...|[{token, 0, 7, Ev...|[{token, 0, 7, Ev...|[{token, 0, 7, Ev...|Evidence@intralum...|\n",
            "|              5|Glutamic acid and...|[{document, 0, 13...|[{token, 0, 7, Gl...|[{token, 0, 7, Gl...|[{token, 0, 7, Gl...|Glutamic@acid@gam...|\n",
            "|              5|A useful techniqu...|[{document, 0, 14...|[{token, 0, 0, A,...|[{token, 0, 0, A,...|[{token, 2, 7, us...|useful@technique@...|\n",
            "|              5|The natural histo...|[{document, 0, 11...|[{token, 0, 2, Th...|[{token, 0, 2, Th...|[{token, 4, 10, n...|natural@history@u...|\n",
            "|              3|Hereditary intern...|[{document, 0, 17...|[{token, 0, 9, He...|[{token, 0, 9, He...|[{token, 0, 9, He...|Hereditary@intern...|\n",
            "|              5|Immune response o...|[{document, 0, 95...|[{token, 0, 5, Im...|[{token, 0, 5, Im...|[{token, 0, 5, Im...|Immune@response@p...|\n",
            "+---------------+--------------------+--------------------+--------------------+--------------------+--------------------+--------------------+\n",
            "only showing top 20 rows\n",
            "\n"
          ]
        }
      ]
    },
    {
      "cell_type": "code",
      "source": [
        "from sparknlp.annotator import WordEmbeddingsModel\n",
        "\n",
        "# Load the pre-trained word embeddings model\n",
        "embeddings = WordEmbeddingsModel.pretrained('glove_100d', 'en') \\\n",
        "    .setInputCols([\"document\", \"token\"]) \\\n",
        "    .setOutputCol(\"embeddings\")\n",
        "\n",
        "# Add the embeddings to the stages of the pipeline\n",
        "stages = [document_assembler, tokenizer, normalizer, stopwords_cleaner, embeddings, finisher]\n",
        "\n",
        "# Create a pipeline\n",
        "from pyspark.ml import Pipeline\n",
        "pipeline = Pipeline().setStages(stages)\n",
        "\n",
        "# Fit the pipeline to the data\n",
        "model = pipeline.fit(data)\n",
        "\n",
        "# Transform the data\n",
        "data_clean = model.transform(data)\n",
        "\n",
        "# Show the first few rows of the cleaned data\n",
        "data_clean.show()\n"
      ],
      "metadata": {
        "colab": {
          "base_uri": "https://localhost:8080/"
        },
        "id": "CjepGLJ2mnGA",
        "outputId": "ebfe81af-193b-4090-8c2a-d10a88c31f9a"
      },
      "execution_count": null,
      "outputs": [
        {
          "output_type": "stream",
          "name": "stdout",
          "text": [
            "glove_100d download started this may take some time.\n",
            "Approximate size to download 145.3 MB\n",
            "[OK!]\n",
            "+---------------+--------------------+--------------------+--------------------+--------------------+--------------------+--------------------+--------------------+\n",
            "|condition_label|    medical_abstract|            document|               token|          normalized|        clean_tokens|          embeddings|          clean_text|\n",
            "+---------------+--------------------+--------------------+--------------------+--------------------+--------------------+--------------------+--------------------+\n",
            "|              3|Obstructive sleep...|[{document, 0, 15...|[{token, 0, 10, O...|[{token, 0, 10, O...|[{token, 0, 10, O...|[{word_embeddings...|Obstructive@sleep...|\n",
            "|              5|Neutrophil functi...|[{document, 0, 16...|[{token, 0, 9, Ne...|[{token, 0, 9, Ne...|[{token, 0, 9, Ne...|[{word_embeddings...|Neutrophil@functi...|\n",
            "|              5|A phase II study ...|[{document, 0, 18...|[{token, 0, 0, A,...|[{token, 0, 0, A,...|[{token, 2, 6, ph...|[{word_embeddings...|phase@II@study@co...|\n",
            "|              1|Flow cytometric D...|[{document, 0, 19...|[{token, 0, 3, Fl...|[{token, 0, 3, Fl...|[{token, 0, 3, Fl...|[{word_embeddings...|Flow@cytometric@D...|\n",
            "|              4|Paraneoplastic va...|[{document, 0, 68...|[{token, 0, 13, P...|[{token, 0, 13, P...|[{token, 0, 13, P...|[{word_embeddings...|Paraneoplastic@va...|\n",
            "|              1|Treatment of chil...|[{document, 0, 12...|[{token, 0, 8, Tr...|[{token, 0, 8, Tr...|[{token, 0, 8, Tr...|[{word_embeddings...|Treatment@childho...|\n",
            "|              1|Expression of maj...|[{document, 0, 80...|[{token, 0, 9, Ex...|[{token, 0, 9, Ex...|[{token, 0, 9, Ex...|[{word_embeddings...|Expression@major@...|\n",
            "|              1|Questionable role...|[{document, 0, 10...|[{token, 0, 11, Q...|[{token, 0, 11, Q...|[{token, 0, 11, Q...|[{word_embeddings...|Questionable@role...|\n",
            "|              5|Reversibility of ...|[{document, 0, 22...|[{token, 0, 12, R...|[{token, 0, 12, R...|[{token, 0, 12, R...|[{word_embeddings...|Reversibility@hep...|\n",
            "|              2|Current status of...|[{document, 0, 10...|[{token, 0, 6, Cu...|[{token, 0, 6, Cu...|[{token, 0, 6, Cu...|[{word_embeddings...|Current@status@du...|\n",
            "|              5|The importance of...|[{document, 0, 52...|[{token, 0, 2, Th...|[{token, 0, 2, Th...|[{token, 4, 13, i...|[{word_embeddings...|importance@congen...|\n",
            "|              1|Human papillomavi...|[{document, 0, 70...|[{token, 0, 4, Hu...|[{token, 0, 4, Hu...|[{token, 0, 4, Hu...|[{word_embeddings...|Human@papillomavi...|\n",
            "|              5|Gentamicin iontop...|[{document, 0, 98...|[{token, 0, 9, Ge...|[{token, 0, 9, Ge...|[{token, 0, 9, Ge...|[{word_embeddings...|Gentamicin@iontop...|\n",
            "|              1|Repeat hepatic re...|[{document, 0, 78...|[{token, 0, 5, Re...|[{token, 0, 5, Re...|[{token, 0, 5, Re...|[{word_embeddings...|Repeat@hepatic@re...|\n",
            "|              5|Evidence for intr...|[{document, 0, 15...|[{token, 0, 7, Ev...|[{token, 0, 7, Ev...|[{token, 0, 7, Ev...|[{word_embeddings...|Evidence@intralum...|\n",
            "|              5|Glutamic acid and...|[{document, 0, 13...|[{token, 0, 7, Gl...|[{token, 0, 7, Gl...|[{token, 0, 7, Gl...|[{word_embeddings...|Glutamic@acid@gam...|\n",
            "|              5|A useful techniqu...|[{document, 0, 14...|[{token, 0, 0, A,...|[{token, 0, 0, A,...|[{token, 2, 7, us...|[{word_embeddings...|useful@technique@...|\n",
            "|              5|The natural histo...|[{document, 0, 11...|[{token, 0, 2, Th...|[{token, 0, 2, Th...|[{token, 4, 10, n...|[{word_embeddings...|natural@history@u...|\n",
            "|              3|Hereditary intern...|[{document, 0, 17...|[{token, 0, 9, He...|[{token, 0, 9, He...|[{token, 0, 9, He...|[{word_embeddings...|Hereditary@intern...|\n",
            "|              5|Immune response o...|[{document, 0, 95...|[{token, 0, 5, Im...|[{token, 0, 5, Im...|[{token, 0, 5, Im...|[{word_embeddings...|Immune@response@p...|\n",
            "+---------------+--------------------+--------------------+--------------------+--------------------+--------------------+--------------------+--------------------+\n",
            "only showing top 20 rows\n",
            "\n"
          ]
        }
      ]
    },
    {
      "cell_type": "code",
      "source": [
        "from sparknlp.annotator import SentenceEmbeddings\n",
        "\n",
        "# Create a SentenceEmbeddings object\n",
        "sentence_embeddings = SentenceEmbeddings() \\\n",
        "    .setInputCols([\"document\", \"embeddings\"]) \\\n",
        "    .setOutputCol(\"sentence_embeddings\") \\\n",
        "    .setPoolingStrategy(\"AVERAGE\")\n",
        "\n",
        "# Add the sentence_embeddings to the stages of the pipeline\n",
        "stages = [document_assembler, tokenizer, normalizer, stopwords_cleaner, embeddings, sentence_embeddings, finisher]\n",
        "\n",
        "# Create a pipeline\n",
        "from pyspark.ml import Pipeline\n",
        "pipeline = Pipeline().setStages(stages)\n",
        "\n",
        "# Fit the pipeline to the data\n",
        "model = pipeline.fit(data)\n",
        "\n",
        "# Transform the data\n",
        "data_clean = model.transform(data)\n",
        "\n",
        "# Show the first few rows of the cleaned data\n",
        "data_clean.show()\n"
      ],
      "metadata": {
        "colab": {
          "base_uri": "https://localhost:8080/"
        },
        "id": "0NvSZogoqnVS",
        "outputId": "e7716a4a-649a-4479-f3f3-859b3047babf"
      },
      "execution_count": null,
      "outputs": [
        {
          "output_type": "stream",
          "name": "stdout",
          "text": [
            "+---------------+--------------------+--------------------+--------------------+--------------------+--------------------+--------------------+--------------------+--------------------+\n",
            "|condition_label|    medical_abstract|            document|               token|          normalized|        clean_tokens|          embeddings| sentence_embeddings|          clean_text|\n",
            "+---------------+--------------------+--------------------+--------------------+--------------------+--------------------+--------------------+--------------------+--------------------+\n",
            "|              3|Obstructive sleep...|[{document, 0, 15...|[{token, 0, 10, O...|[{token, 0, 10, O...|[{token, 0, 10, O...|[{word_embeddings...|[{sentence_embedd...|Obstructive@sleep...|\n",
            "|              5|Neutrophil functi...|[{document, 0, 16...|[{token, 0, 9, Ne...|[{token, 0, 9, Ne...|[{token, 0, 9, Ne...|[{word_embeddings...|[{sentence_embedd...|Neutrophil@functi...|\n",
            "|              5|A phase II study ...|[{document, 0, 18...|[{token, 0, 0, A,...|[{token, 0, 0, A,...|[{token, 2, 6, ph...|[{word_embeddings...|[{sentence_embedd...|phase@II@study@co...|\n",
            "|              1|Flow cytometric D...|[{document, 0, 19...|[{token, 0, 3, Fl...|[{token, 0, 3, Fl...|[{token, 0, 3, Fl...|[{word_embeddings...|[{sentence_embedd...|Flow@cytometric@D...|\n",
            "|              4|Paraneoplastic va...|[{document, 0, 68...|[{token, 0, 13, P...|[{token, 0, 13, P...|[{token, 0, 13, P...|[{word_embeddings...|[{sentence_embedd...|Paraneoplastic@va...|\n",
            "|              1|Treatment of chil...|[{document, 0, 12...|[{token, 0, 8, Tr...|[{token, 0, 8, Tr...|[{token, 0, 8, Tr...|[{word_embeddings...|[{sentence_embedd...|Treatment@childho...|\n",
            "|              1|Expression of maj...|[{document, 0, 80...|[{token, 0, 9, Ex...|[{token, 0, 9, Ex...|[{token, 0, 9, Ex...|[{word_embeddings...|[{sentence_embedd...|Expression@major@...|\n",
            "|              1|Questionable role...|[{document, 0, 10...|[{token, 0, 11, Q...|[{token, 0, 11, Q...|[{token, 0, 11, Q...|[{word_embeddings...|[{sentence_embedd...|Questionable@role...|\n",
            "|              5|Reversibility of ...|[{document, 0, 22...|[{token, 0, 12, R...|[{token, 0, 12, R...|[{token, 0, 12, R...|[{word_embeddings...|[{sentence_embedd...|Reversibility@hep...|\n",
            "|              2|Current status of...|[{document, 0, 10...|[{token, 0, 6, Cu...|[{token, 0, 6, Cu...|[{token, 0, 6, Cu...|[{word_embeddings...|[{sentence_embedd...|Current@status@du...|\n",
            "|              5|The importance of...|[{document, 0, 52...|[{token, 0, 2, Th...|[{token, 0, 2, Th...|[{token, 4, 13, i...|[{word_embeddings...|[{sentence_embedd...|importance@congen...|\n",
            "|              1|Human papillomavi...|[{document, 0, 70...|[{token, 0, 4, Hu...|[{token, 0, 4, Hu...|[{token, 0, 4, Hu...|[{word_embeddings...|[{sentence_embedd...|Human@papillomavi...|\n",
            "|              5|Gentamicin iontop...|[{document, 0, 98...|[{token, 0, 9, Ge...|[{token, 0, 9, Ge...|[{token, 0, 9, Ge...|[{word_embeddings...|[{sentence_embedd...|Gentamicin@iontop...|\n",
            "|              1|Repeat hepatic re...|[{document, 0, 78...|[{token, 0, 5, Re...|[{token, 0, 5, Re...|[{token, 0, 5, Re...|[{word_embeddings...|[{sentence_embedd...|Repeat@hepatic@re...|\n",
            "|              5|Evidence for intr...|[{document, 0, 15...|[{token, 0, 7, Ev...|[{token, 0, 7, Ev...|[{token, 0, 7, Ev...|[{word_embeddings...|[{sentence_embedd...|Evidence@intralum...|\n",
            "|              5|Glutamic acid and...|[{document, 0, 13...|[{token, 0, 7, Gl...|[{token, 0, 7, Gl...|[{token, 0, 7, Gl...|[{word_embeddings...|[{sentence_embedd...|Glutamic@acid@gam...|\n",
            "|              5|A useful techniqu...|[{document, 0, 14...|[{token, 0, 0, A,...|[{token, 0, 0, A,...|[{token, 2, 7, us...|[{word_embeddings...|[{sentence_embedd...|useful@technique@...|\n",
            "|              5|The natural histo...|[{document, 0, 11...|[{token, 0, 2, Th...|[{token, 0, 2, Th...|[{token, 4, 10, n...|[{word_embeddings...|[{sentence_embedd...|natural@history@u...|\n",
            "|              3|Hereditary intern...|[{document, 0, 17...|[{token, 0, 9, He...|[{token, 0, 9, He...|[{token, 0, 9, He...|[{word_embeddings...|[{sentence_embedd...|Hereditary@intern...|\n",
            "|              5|Immune response o...|[{document, 0, 95...|[{token, 0, 5, Im...|[{token, 0, 5, Im...|[{token, 0, 5, Im...|[{word_embeddings...|[{sentence_embedd...|Immune@response@p...|\n",
            "+---------------+--------------------+--------------------+--------------------+--------------------+--------------------+--------------------+--------------------+--------------------+\n",
            "only showing top 20 rows\n",
            "\n"
          ]
        }
      ]
    },
    {
      "cell_type": "code",
      "source": [
        "data_clean.select(\"finished_sentence_embeddings\").show(truncate=False)\n"
      ],
      "metadata": {
        "colab": {
          "base_uri": "https://localhost:8080/"
        },
        "id": "OwZBkPhX5x_S",
        "outputId": "dcfce826-dd7d-4314-e680-6d99cb4c103d"
      },
      "execution_count": 40,
      "outputs": [
        {
          "output_type": "stream",
          "name": "stdout",
          "text": [
            "+------------------------------------------------------------------------------------------------------------------------------------------------------------------------------------------------------------------------------------------------------------------------------------------------------------------------------------------------------------------------------------------------------------------------------------------------------------------------------------------------------------------------------------------------------------------------------------------------------------------------------------------------------------------------------------------------------------------------------------------------------------------------------------------------------------------------------------------------------------------------------------------------------------------------------------------------------------------------------------------------------------------------------------------------------------------------------------------------------------------------------------------------------------------------------------------------------------------------------------------------------------------------------------------------------------------------------------------------------------------------------------------------------------------------------------------------------------------------------------------------------------------------------------------------------------------------------------------------------------------------------------------------------------------------------------------------------------------------------------------------------------------------------------------------------------------------------------------------------------------------------------------------------------------------------------------------------------------------------------------------------------------------------------------------------------------------------------------------------------------------------+\n",
            "|finished_sentence_embeddings                                                                                                                                                                                                                                                                                                                                                                                                                                                                                                                                                                                                                                                                                                                                                                                                                                                                                                                                                                                                                                                                                                                                                                                                                                                                                                                                                                                                                                                                                                                                                                                                                                                                                                                                                                                                                                                                                                                                                                                                                                                                                                  |\n",
            "+------------------------------------------------------------------------------------------------------------------------------------------------------------------------------------------------------------------------------------------------------------------------------------------------------------------------------------------------------------------------------------------------------------------------------------------------------------------------------------------------------------------------------------------------------------------------------------------------------------------------------------------------------------------------------------------------------------------------------------------------------------------------------------------------------------------------------------------------------------------------------------------------------------------------------------------------------------------------------------------------------------------------------------------------------------------------------------------------------------------------------------------------------------------------------------------------------------------------------------------------------------------------------------------------------------------------------------------------------------------------------------------------------------------------------------------------------------------------------------------------------------------------------------------------------------------------------------------------------------------------------------------------------------------------------------------------------------------------------------------------------------------------------------------------------------------------------------------------------------------------------------------------------------------------------------------------------------------------------------------------------------------------------------------------------------------------------------------------------------------------------+\n",
            "|[[-0.11948354542255402,0.1841171681880951,0.17091166973114014,-0.07783786952495575,-0.12330012768507004,0.13571283221244812,0.06888636201620102,0.24554912745952606,-0.323140949010849,-0.003490244969725609,0.24516358971595764,-0.11952900886535645,0.06463778018951416,0.1564885973930359,0.36689555644989014,-0.18442292511463165,-0.0010095005854964256,-0.13709771633148193,-0.17713232338428497,0.08214067667722702,0.26413536071777344,-0.08700591325759888,0.1458362340927124,0.26836514472961426,0.21944844722747803,-0.07904382050037384,0.07432892173528671,-0.2464483380317688,-7.575417403131723E-4,-0.055551521480083466,-0.0850042998790741,0.2822587490081787,-0.07322228699922562,0.07131094485521317,-0.034702569246292114,0.17033590376377106,0.16589432954788208,0.3155992031097412,-0.032562583684921265,0.0536283440887928,-0.23843082785606384,-0.2817559838294983,-0.036816634237766266,-0.1789463609457016,0.054353017359972,-0.09242560714483261,0.003452548524364829,-0.29409804940223694,-0.028377940878272057,-0.4472094178199768,-0.0740739181637764,-0.08254804462194443,0.1419144868850708,0.7177010774612427,-0.276528924703598,-1.609845757484436,0.020845042541623116,-0.18214748799800873,1.1169646978378296,0.4139338433742523,-0.09263874590396881,0.4098031520843506,-0.1812950223684311,0.09816256165504456,0.4170437753200531,0.07981088012456894,0.2194448560476303,-0.011772388592362404,0.2936837375164032,-0.032957155257463455,-0.1582859456539154,-0.18456026911735535,-0.0443061925470829,-0.07835254073143005,0.06039758026599884,-0.10409969836473465,-0.0933113545179367,-0.03284478932619095,-0.6419623494148254,-0.1681748330593109,0.27737435698509216,-0.03108597733080387,-0.2798733115196228,0.13380132615566254,-0.8948261141777039,0.10710756480693817,0.09427735209465027,-0.05434001609683037,0.021611278876662254,-0.07043340057134628,-0.06576162576675415,0.02000812254846096,-0.08674956858158112,0.17143873870372772,-0.3555149435997009,0.08575095981359482,-0.13796743750572205,-0.2964586615562439,0.4353080093860626,-0.196383535861969]]              |\n",
            "|[[-0.029939966276288033,0.14613109827041626,0.11131323873996735,-0.04358111321926117,-0.07309309393167496,0.14325959980487823,0.07022899389266968,0.1811397820711136,-0.14488588273525238,0.018815379589796066,0.15055575966835022,-0.09098230302333832,0.2207627147436142,0.17442934215068817,0.34882330894470215,-0.2330865114927292,-0.02357124350965023,-0.03793838247656822,-0.1772516965866089,0.09796775132417679,0.17835769057273865,-0.19382540881633759,0.2386687695980072,0.27961575984954834,0.2083912044763565,-0.04238256439566612,0.1678398847579956,-0.33499130606651306,0.037058573216199875,-0.07615800946950912,0.06164082512259483,0.31463462114334106,-0.061743684113025665,0.0010186341824010015,0.021549588069319725,0.13184140622615814,0.08858489245176315,0.2444634735584259,-0.1347944438457489,0.028584597632288933,-0.21032488346099854,-0.2665390372276306,0.006349751725792885,-0.25577473640441895,0.11592604219913483,-0.03127295523881912,0.22390806674957275,-0.3968566656112671,-0.14691302180290222,-0.4787091612815857,0.08853312581777573,-0.18205027282238007,0.0775233656167984,0.8290228843688965,-0.22841788828372955,-1.7691279649734497,-0.1608039140701294,-0.35682031512260437,1.1660315990447998,0.5050302147865295,-0.20594368875026703,0.5155457258224487,-0.09091421216726303,0.12512139976024628,0.4673151969909668,0.08556979894638062,0.18621791899204254,0.0408988818526268,0.4154340326786041,-0.10650651901960373,-0.1572096049785614,-0.1586674600839615,-0.09124930202960968,-0.05100566893815994,0.17581644654273987,-0.00916414987295866,-0.13419440388679504,-0.014121697284281254,-0.6341111063957214,-0.14972488582134247,0.4806727468967438,0.10420652478933334,-0.4087845981121063,0.24635489284992218,-1.0964032411575317,0.012656720355153084,0.1482861489057541,-0.12289882451295853,-0.14997325837612152,-0.10702674090862274,-0.11235930770635605,-0.07311698794364929,-0.06191905215382576,0.2113771140575409,-0.44893553853034973,0.08717560768127441,-0.09684950858354568,-0.29076993465423584,0.46279674768447876,-0.17999248206615448]]           |\n",
            "|[[-0.025098891928792,0.20185481011867523,0.10389634966850281,-0.012660869397222996,-0.025050466880202293,0.1439426690340042,0.09012411534786224,0.2476905733346939,-0.2199968695640564,0.04868611320853233,0.13782945275306702,-0.08521178364753723,0.11084205657243729,0.2011002153158188,0.3222503066062927,-0.13070444762706757,0.09330548346042633,-0.06909845769405365,-0.18101011216640472,0.10445991903543472,0.1364137977361679,-0.16941292583942413,0.0792655199766159,0.27605190873146057,0.10263072699308395,-0.02202022261917591,0.17092126607894897,-0.29930657148361206,0.006409355439245701,-0.07760650664567947,-0.021715305745601654,0.298500657081604,-0.1733243614435196,0.002067802706733346,0.0321374386548996,0.1463722437620163,0.11307153105735779,0.2531648874282837,-0.13886956870555878,0.03963194787502289,-0.20965956151485443,-0.20360787212848663,-0.02275846339762211,-0.2697063982486725,0.07481571286916733,-0.042673029005527496,0.12932418286800385,-0.3232915997505188,-0.1222410798072815,-0.452856183052063,0.05918804183602333,-0.09788461774587631,0.13655047118663788,0.779567539691925,-0.18416881561279297,-1.7590301036834717,-0.04516282677650452,-0.4189387857913971,1.1431394815444946,0.4338602125644684,-0.16423076391220093,0.4841105341911316,-0.09716876596212387,0.17043328285217285,0.5611034035682678,0.0377020537853241,0.16915233433246613,0.04899727553129196,0.30668696761131287,-0.11475820094347,-0.11089485138654709,-0.16570444405078888,-0.08680032193660736,-0.0841258317232132,0.12993083894252777,0.05952060595154762,-0.1747129261493683,-0.06507932394742966,-0.7364338636398315,-0.17501500248908997,0.4781827926635742,0.04278741031885147,-0.38812583684921265,0.1717781275510788,-1.1045814752578735,0.03466261178255081,0.2359893023967743,-0.16865427792072296,-0.1684861183166504,-0.16069279611110687,-0.08475099503993988,-0.07927560806274414,-0.11974896490573883,0.1587424874305725,-0.3831501305103302,0.06888017803430557,-0.07265057414770126,-0.32274261116981506,0.46220654249191284,-0.11167833209037781]]                            |\n",
            "|[[-0.10787557810544968,0.12659156322479248,0.16907285153865814,-0.0405663326382637,0.06413112580776215,0.0694936141371727,0.011181901209056377,0.1714092344045639,-0.13469886779785156,0.1407468467950821,0.032179560512304306,-0.016843043267726898,0.219729483127594,0.15003344416618347,0.4086519777774811,-0.11307988315820694,0.06612338125705719,0.006733675021678209,-0.023005543276667595,0.06327921152114868,-0.026104316115379333,-0.21961793303489685,0.17491412162780762,0.21046465635299683,0.06353380531072617,-0.048029057681560516,0.3005106747150421,-0.32882270216941833,-0.02332877553999424,-0.05797863379120827,0.11736913025379181,0.18895670771598816,-0.06076881289482117,-0.01628284528851509,0.09552659839391708,0.05579706281423569,0.1279781311750412,0.2891049087047577,-0.0957971140742302,0.052221253514289856,-0.33631399273872375,-0.2588542401790619,-0.00583599042147398,-0.28681933879852295,-0.0010792221873998642,-4.7256017569452524E-4,0.29258790612220764,-0.24488292634487152,-0.24590730667114258,-0.39403459429740906,0.14691504836082458,-0.0731184333562851,0.13214591145515442,0.7129825949668884,-0.17333821952342987,-1.6320282220840454,-0.04674608260393143,-0.37223270535469055,1.0831762552261353,0.48612701892852783,-0.24510613083839417,0.5849083065986633,0.10467620939016342,0.21067453920841217,0.6016092300415039,0.06453581899404526,0.22894276678562164,0.031057655811309814,0.4191402494907379,-0.13353276252746582,-0.07165846973657608,-0.06545595824718475,-0.013451621867716312,-0.1274738311767578,0.1747744083404541,-0.03838123381137848,-0.10730525106191635,-0.06408245861530304,-0.6643864512443542,-0.07877057045698166,0.46176549792289734,0.13746163249015808,-0.44786733388900757,0.2379644513130188,-1.1126999855041504,-0.029486849904060364,0.19850347936153412,-0.07388979941606522,-0.11795614659786224,-0.13226726651191711,-0.11531125754117966,-0.14225947856903076,-0.0977601483464241,0.26376187801361084,-0.2391384392976761,0.06500360369682312,-0.23661360144615173,-0.44590431451797485,0.47585323452949524,-0.04560831934213638]] |\n",
            "|[[-0.14111503958702087,0.09557565301656723,0.12901660799980164,-0.02776256948709488,8.974965894594789E-4,0.09443125128746033,0.10220104455947876,0.13925807178020477,-0.1047062948346138,0.08206555992364883,-0.08527543395757675,-0.02729661576449871,0.23037901520729065,0.079338937997818,0.4142147898674011,-0.015111525543034077,-0.010044175200164318,-0.1842498630285263,-0.024739492684602737,0.03690071403980255,0.07205870002508163,-0.21843969821929932,-0.0012008092598989606,0.2612840533256531,0.12350314855575562,0.03559302166104317,0.1914074420928955,-0.25106704235076904,-0.07261564582586288,-0.018650710582733154,-0.01204653363674879,0.36883771419525146,-0.09216909855604172,-0.009241263382136822,0.026748117059469223,0.12340284138917923,0.09135658293962479,0.2415676712989807,-0.06855963915586472,0.06998467445373535,-0.1433885395526886,-0.11812207847833633,0.0671641007065773,-0.34712761640548706,0.02147543616592884,0.015937333926558495,0.36251991987228394,-0.21531942486763,-0.1618427187204361,-0.375521183013916,0.14130337536334991,-0.08698013424873352,0.19379223883152008,0.7305248379707336,-0.08452925831079483,-1.4773916006088257,0.00822418462485075,-0.2192523330450058,0.8520885705947876,0.47198620438575745,-0.06852993369102478,0.5000319480895996,0.008013682439923286,0.12991684675216675,0.5108662247657776,0.05661337450146675,0.2703777551651001,0.004027430433779955,0.33208122849464417,-0.15149597823619843,-0.14748182892799377,-0.08747730404138565,0.05721794813871384,-0.10361011326313019,0.1703307330608368,0.02191251516342163,-0.032278288155794144,-0.005080945789813995,-0.5975754857063293,-0.16376782953739166,0.5042177438735962,0.18101483583450317,-0.3308864235877991,0.2937699854373932,-0.9897900819778442,-0.07929936796426773,0.17836645245552063,-0.0170733705163002,-0.23227305710315704,-0.20361725986003876,-0.06081070378422737,-0.27019813656806946,-0.15697500109672546,0.21597406268119812,-0.16752421855926514,0.1262335479259491,-0.04758967459201813,-0.47530972957611084,0.3990938663482666,-0.04664379730820656]]           |\n",
            "|[[-0.05955750495195389,0.19351837038993835,0.09028449654579163,0.008548233658075333,-0.03260517120361328,0.2126978486776352,0.090974360704422,0.18691876530647278,-0.19018599390983582,0.029398804530501366,0.04454609379172325,-0.12773995101451874,0.18346601724624634,0.16501644253730774,0.3883172273635864,-0.18864117562770844,0.044325780123472214,-0.10662658512592316,-0.14295481145381927,0.09140943735837936,0.14481158554553986,-0.15696413815021515,0.06883779913187027,0.2846659719944,0.1493149846792221,0.01830255426466465,0.17853009700775146,-0.3369985818862915,-0.01016560010612011,-0.0262238048017025,0.06013653054833412,0.2985481023788452,-0.07088479399681091,-0.03606293722987175,-0.027598561719059944,0.1325099617242813,0.1405373364686966,0.33915725350379944,-0.13435156643390656,0.10578661412000656,-0.24281230568885803,-0.2497013956308365,0.04425882175564766,-0.3142569661140442,0.12421765923500061,-0.008333018980920315,0.16889351606369019,-0.2694045305252075,-0.16884467005729675,-0.39175480604171753,0.084583580493927,-0.09063930809497833,0.12642879784107208,0.7951346635818481,-0.10553261637687683,-1.6586291790008545,-0.003514212090522051,-0.34492984414100647,1.0900689363479614,0.4925159811973572,-0.18032972514629364,0.5247043967247009,-0.044722482562065125,0.178010955452919,0.4947054088115692,0.11523565649986267,0.20517030358314514,-0.024471759796142578,0.40840086340904236,-0.11275781691074371,-0.15569671988487244,-0.16311930119991302,-0.0484844408929348,-3.5105980350635946E-4,0.21195662021636963,0.025994541123509407,-0.14303672313690186,-0.04527748003602028,-0.683808445930481,-0.16111865639686584,0.5389772653579712,0.1000005453824997,-0.40260985493659973,0.30488577485084534,-1.1355763673782349,0.044442906975746155,0.18269860744476318,-0.09045550972223282,-0.2234245389699936,-0.16280518472194672,-0.07562215626239777,-0.14112286269664764,-0.0456603579223156,0.21772931516170502,-0.3810650110244751,0.15153346955776215,-0.13292740285396576,-0.39898374676704407,0.496368944644928,-0.18056905269622803]]                  |\n",
            "|[[-0.129141166806221,0.11862537264823914,0.10108339786529541,-0.02948906272649765,0.02669326402246952,0.12413495779037476,-0.028595654293894768,0.054393596947193146,-0.11965551972389221,0.14013181626796722,0.06970327347517014,-0.22422002255916595,0.08795084059238434,0.15589748322963715,0.32463914155960083,-0.10417813062667847,-0.0063685467466712,0.07388009876012802,-0.006542840972542763,-0.04554550349712372,-0.02002888359129429,-0.3504570722579956,0.17765721678733826,0.1712195724248886,0.14915750920772552,0.05489512160420418,0.26151931285858154,-0.32397761940956116,0.1621309369802475,0.06353206932544708,0.10176306217908859,0.33273768424987793,-0.007383159827440977,0.03685417398810387,0.1372501701116562,0.10112801939249039,0.16381551325321198,0.33484694361686707,-0.11795438081026077,0.1091529130935669,-0.21539536118507385,-0.36581453680992126,-0.027951842173933983,-0.2583511471748352,0.14376643300056458,-0.07205521315336227,0.24570439755916595,-0.03210830315947533,-0.26168176531791687,-0.25898677110671997,0.05005165562033653,0.033051859587430954,0.3040572702884674,0.6991159319877625,-0.24371673166751862,-1.5353584289550781,-0.14495275914669037,-0.3339575231075287,1.0230082273483276,0.4325942099094391,-0.2076876312494278,0.5544189810752869,0.09781300276517868,0.24830424785614014,0.7241075038909912,0.07225801050662994,0.18787303566932678,0.09093253314495087,0.32708194851875305,-0.14278151094913483,0.1420559138059616,-0.26060914993286133,-0.05581367388367653,-0.2966937720775604,0.08224675059318542,0.007875715382397175,-0.06681502610445023,-0.006689506117254496,-0.5778024196624756,-0.008469699881970882,0.40088972449302673,0.13354137539863586,-0.43801552057266235,0.31616726517677307,-0.945976734161377,0.14016130566596985,0.121042899787426,-0.2180566042661667,-0.0865941271185875,-0.1257392168045044,-0.15316206216812134,-0.16750937700271606,-7.633473142050207E-4,0.29843300580978394,-0.21559783816337585,0.016951726749539375,-0.21591490507125854,-0.5589935183525085,0.521693766117096,-0.07315859943628311]]                |\n",
            "|[[-0.017227206379175186,0.10566776245832443,0.20727451145648956,-0.11267441511154175,0.04481934383511543,0.11983449757099152,0.07414935529232025,0.22936603426933289,-0.22540642321109772,0.04809139668941498,0.16215983033180237,-0.16922147572040558,0.1620432585477829,0.2561066150665283,0.31630924344062805,-0.12572933733463287,0.12251710146665573,-0.12674595415592194,-0.14682896435260773,0.11840204149484634,0.0950232520699501,-0.14456498622894287,0.037711385637521744,0.26385727524757385,0.1613912433385849,-0.030224857851862907,0.13358481228351593,-0.3159913122653961,-0.09288859367370605,-0.053399525582790375,-0.11478133499622345,0.33738479018211365,-0.09987654536962509,-0.03341022878885269,-0.015031044371426105,0.1137394830584526,0.06805258244276047,0.27166974544525146,-0.03799049183726311,0.05213233083486557,-0.17763447761535645,-0.22337549924850464,0.044792454689741135,-0.23842158913612366,0.09003690630197525,-0.06747518479824066,0.12779630720615387,-0.24407562613487244,-0.1544371396303177,-0.32218849658966064,0.0464899055659771,-0.03148932382464409,0.14604006707668304,0.7175598740577698,-0.20860294997692108,-1.6855347156524658,0.02123444713652134,-0.2724606394767761,0.9387575387954712,0.4277612566947937,-0.09913700819015503,0.47479888796806335,-0.001611347310245037,0.17324599623680115,0.447210431098938,-8.409207221120596E-4,0.2276064157485962,0.0512995570898056,0.29117026925086975,-0.004899406339973211,-0.10197006911039352,-0.11295511573553085,-0.11951480805873871,-0.07630506157875061,0.07432186603546143,-0.011915433220565319,-0.11538419127464294,0.05019000917673111,-0.7049952745437622,-0.10224156826734543,0.40209513902664185,0.050724029541015625,-0.3523653447628021,0.15530870854854584,-0.9241619110107422,0.13623619079589844,0.08989501744508743,-0.09815467894077301,0.01561813335865736,-0.1602129191160202,-0.08710137754678726,-0.06996114552021027,-0.10524233430624008,0.2228376269340515,-0.34775522351264954,0.05104995518922806,-0.12391556054353714,-0.31164583563804626,0.4255372881889343,-0.10236938297748566]]    |\n",
            "|[[-0.11137908697128296,0.029433676972985268,0.16133950650691986,-0.07411354780197144,0.1029684841632843,0.10460655391216278,0.04952729120850563,0.16381940245628357,-0.1369389146566391,0.07361533492803574,0.04639202356338501,-0.1355150043964386,0.16555911302566528,0.14102628827095032,0.32179003953933716,-0.09530051052570343,-0.0028692905325442553,-0.07112476229667664,-0.030186843127012253,0.030683618038892746,0.026748724281787872,-0.13185666501522064,0.18718266487121582,0.24420776963233948,0.18035279214382172,0.011167401447892189,0.12993912398815155,-0.22233177721500397,0.03694096952676773,-0.06566441059112549,0.051287438720464706,0.19818532466888428,-0.08662907034158707,-0.03185227885842323,-0.022387787699699402,0.1374189704656601,0.238005131483078,0.2977186441421509,-0.04803979769349098,-0.030934453010559082,-0.1980150043964386,-0.29070401191711426,0.011942669749259949,-0.26819339394569397,0.07466957718133926,0.02421802654862404,0.2299552708864212,-0.2581561207771301,-0.1519862860441208,-0.3841846287250519,0.02048483118414879,-0.07884193956851959,0.12938977777957916,0.7398872971534729,-0.2560974061489105,-1.609939455986023,-0.11509059369564056,-0.3155020773410797,1.0270766019821167,0.4720577597618103,-0.1331588476896286,0.49983876943588257,0.01750822737812996,0.21614259481430054,0.6082615852355957,0.0292052049189806,0.2534586191177368,0.006485580932348967,0.3956666886806488,-0.18773573637008667,-0.06398950517177582,-0.212065190076828,0.08457282185554504,-0.0870964527130127,0.1196059137582779,-0.027675935998558998,-0.1071329265832901,-0.047043491154909134,-0.6526796221733093,-0.0604034923017025,0.391096830368042,0.151560440659523,-0.44387269020080566,0.2651149034500122,-0.891287088394165,0.055062659084796906,0.141978919506073,-0.19068418443202972,-0.15681883692741394,-0.16804347932338715,-0.09867721796035767,-0.1717883199453354,-0.19239942729473114,0.3434932231903076,-0.26865527033805847,-0.004673616960644722,-0.17455944418907166,-0.3480682671070099,0.39501404762268066,-0.06696248054504395]]                    |\n",
            "|[[-0.13134446740150452,0.0861222967505455,0.2742146849632263,-0.034915465861558914,0.04149771109223366,0.0617617629468441,-0.12208162248134613,0.15651823580265045,-0.13099929690361023,0.16648177802562714,-0.09514473378658295,-0.11676712334156036,0.2359141856431961,0.08929065614938736,0.30411773920059204,-0.13772593438625336,0.12406081706285477,-0.0921657606959343,-0.059926047921180725,-0.043877359479665756,-0.04451100155711174,-0.18339312076568604,0.16922591626644135,0.11073128879070282,0.21724854409694672,-0.036445729434490204,0.2011803537607193,-0.31558701395988464,-0.1083054393529892,-0.08618941903114319,-0.02482409030199051,0.20181433856487274,-0.1264074146747589,-0.009567653760313988,-0.03409113734960556,0.10333768278360367,0.11967054009437561,0.3153339624404907,-0.04809771478176117,-0.01770012080669403,-0.28627321124076843,-0.1954633742570877,8.119864505715668E-4,-0.3032289147377014,-0.018925275653600693,0.1513127237558365,0.3017944395542145,-0.25067493319511414,-0.13274630904197693,-0.3629930317401886,0.2044750452041626,0.0057556116953492165,0.12150068581104279,0.7609431147575378,-0.1881190538406372,-1.838826298713684,0.038742050528526306,-0.40362176299095154,1.1597009897232056,0.4152776896953583,-0.17763647437095642,0.5254897475242615,0.10444227606058121,0.23255284130573273,0.617504358291626,0.0029878849163651466,0.21214498579502106,-0.04437160864472389,0.35117578506469727,-0.1604248434305191,-0.11209545284509659,-0.1741776466369629,0.010804686695337296,-0.144109308719635,0.227458193898201,-0.08427879959344864,-0.09773512184619904,0.07583871483802795,-0.6263372898101807,-0.13677789270877838,0.48698610067367554,0.20797400176525116,-0.4017379879951477,0.3114699125289917,-1.1710139513015747,0.013282118365168571,0.13043621182441711,-0.12332987785339355,-0.16757884621620178,-0.2295953631401062,-0.031595628708601,-0.1266488879919052,-0.0844363197684288,0.36828285455703735,-0.23149695992469788,0.09096650779247284,-0.10714171081781387,-0.5201911926269531,0.4848489761352539,0.05104422941803932]]                 |\n",
            "|[[-0.09021157771348953,0.06973213702440262,0.19323548674583435,-0.02037925273180008,-0.012872468680143356,0.2276766300201416,-0.11383422464132309,0.10739575326442719,-0.15306153893470764,-0.03819630667567253,-0.08690289407968521,-0.09050127118825912,0.3682236075401306,0.08882889151573181,0.3357833921909332,-0.04937033727765083,0.13856416940689087,-0.14624319970607758,0.09819938242435455,-0.018258899450302124,-0.030512366443872452,-0.1807675063610077,-0.032569725066423416,0.16602389514446259,0.2548772096633911,-0.07954525947570801,0.3047664761543274,-0.34354400634765625,0.05644415318965912,-0.22355015575885773,0.03288774564862251,0.20314529538154602,0.007238014601171017,0.0035239553544670343,0.09839152544736862,0.02534680999815464,0.158051535487175,0.4376806914806366,-0.005028161685913801,0.1642053872346878,-0.21312882006168365,-0.240452840924263,0.09926144033670425,-0.32059499621391296,-0.025784604251384735,-0.0020146602764725685,0.2176603525876999,-0.038445860147476196,-0.31155529618263245,-0.32433000206947327,0.1105073094367981,-0.0911901667714119,0.041809238493442535,0.6654963493347168,-0.22065693140029907,-1.5245569944381714,0.07155296951532364,-0.3073543608188629,0.8441931009292603,0.4825844466686249,-0.22606432437896729,0.5623546242713928,0.025018343701958656,0.20377542078495026,0.4432344138622284,0.016824686899781227,0.2197059690952301,-0.04894157499074936,0.3191381096839905,-0.2986901104450226,-0.08980340510606766,-0.11497895419597626,-0.22223086655139923,-0.15858416259288788,0.15686161816120148,0.032570917159318924,-0.05165195092558861,-0.039865341037511826,-0.5976116061210632,-0.011690938845276833,0.33747461438179016,0.16398029029369354,-0.36792466044425964,0.38535040616989136,-0.924836277961731,0.1509382277727127,0.10032912343740463,-0.04823355749249458,-0.11903157830238342,-0.10659371316432953,-0.12910741567611694,-0.15847398340702057,-0.057345613837242126,0.27504733204841614,-0.26172998547554016,0.028480272740125656,-0.19024528563022614,-0.5279729962348938,0.39523807168006897,-0.18723468482494354]]|\n",
            "|[[-0.03581590950489044,0.22746804356575012,0.15613427758216858,-0.10079700499773026,-0.0015363486018031836,0.16552671790122986,0.14312459528446198,0.14623981714248657,-0.1561749130487442,0.03186700865626335,0.0892031192779541,-0.14380331337451935,0.16809409856796265,0.18590322136878967,0.38016054034233093,-0.13642510771751404,0.10695585608482361,0.016519738361239433,-0.2123740017414093,0.14466072618961334,0.15206585824489594,-0.1866338551044464,0.26104244589805603,0.34748438000679016,0.23573948442935944,-0.0029232657980173826,0.28599774837493896,-0.3735727071762085,0.09209783375263214,0.04829278215765953,0.04125138744711876,0.27610117197036743,-0.004654944874346256,-0.06000524386763573,0.16313721239566803,0.08996998518705368,0.05603627860546112,0.29203686118125916,-0.11339278519153595,0.1910746693611145,-0.3414810001850128,-0.2671808898448944,-0.07321661710739136,-0.3553459644317627,0.03538447245955467,-0.049629706889390945,0.1976068764925003,-0.3242594599723816,-0.20230288803577423,-0.4252605140209198,0.03713617101311684,-0.06966934353113174,0.017471756786108017,0.7501333355903625,-0.2958313524723053,-1.6994410753250122,-0.10362590104341507,-0.28916674852371216,1.0877673625946045,0.560658872127533,-0.1915736049413681,0.6361469626426697,0.06150605529546738,0.29011601209640503,0.5804823040962219,0.04063219577074051,0.20856495201587677,0.13176023960113525,0.3382825255393982,-0.059405505657196045,-0.06887983530759811,-0.1847492754459381,-0.061619751155376434,-0.011794178746640682,0.20063959062099457,-0.08857379108667374,-0.06153962016105652,0.024570222944021225,-0.7747237086296082,-0.10817096382379532,0.49661001563072205,0.021793078631162643,-0.3031948506832123,0.30563127994537354,-1.0385247468948364,-0.05002402141690254,0.11264137923717499,-0.11147717386484146,-0.13949289917945862,-0.07900793105363846,-0.060114786028862,-0.2005629986524582,-0.03250475972890854,0.27507340908050537,-0.3855457007884979,0.16152465343475342,-0.3565664291381836,-0.4702807664871216,0.43523070216178894,-0.19300146400928497]]             |\n",
            "|[[-0.08884888887405396,0.21500754356384277,0.20887400209903717,-0.16562846302986145,0.0848495289683342,0.19351156055927277,0.043355926871299744,0.14082974195480347,-0.14177386462688446,0.06543639302253723,0.09906832128763199,-0.2311190664768219,0.18520762026309967,0.1499413698911667,0.2786811292171478,-0.18997077643871307,0.05624688044190407,-0.13985024392604828,-0.19642861187458038,0.09661121666431427,0.25397756695747375,-0.15186329185962677,0.2853231728076935,0.2738178074359894,0.21772779524326324,-0.0031978918705135584,0.1120583638548851,-0.24598291516304016,-0.01561025157570839,-0.06085032969713211,0.01986585557460785,0.3775147795677185,-0.10659686475992203,0.07927942276000977,0.07928845286369324,0.24122172594070435,0.16249577701091766,0.25808703899383545,-0.08038388192653656,-0.05539264529943466,-0.29304251074790955,-0.19096776843070984,0.013373485766351223,-0.28541210293769836,0.10722368955612183,0.007040112745016813,0.13172143697738647,-0.28151383996009827,-0.13390745222568512,-0.47417396306991577,-0.02629513293504715,-0.03658873215317726,0.11045224219560623,0.8981196880340576,-0.2949793040752411,-1.9906408786773682,-0.13568837940692902,-0.31940117478370667,1.2660870552062988,0.5225479602813721,-0.12030556052923203,0.44449201226234436,-0.11039217561483383,0.12818704545497894,0.6374240517616272,0.06711654365062714,0.29491040110588074,0.16298051178455353,0.35264503955841064,-0.09735700488090515,-0.18717916309833527,-0.14307181537151337,-0.11678186804056168,-0.09812026470899582,0.15814445912837982,0.04441695287823677,-0.14850713312625885,0.007213981356471777,-0.8135917782783508,-0.10264778882265091,0.5374742746353149,0.02609611675143242,-0.36389613151550293,0.14604678750038147,-1.0589147806167603,-0.10434449464082718,0.18790048360824585,-0.12407032400369644,-0.053446121513843536,-0.20203590393066406,0.009946073405444622,-0.24415136873722076,-0.08021673560142517,0.21614496409893036,-0.4104001820087433,0.15783537924289703,-0.2263704240322113,-0.32715046405792236,0.46188226342201233,-0.13945531845092773]]     |\n",
            "|[[-0.04638240486383438,0.13246497511863708,0.10324696451425552,-0.03926779702305794,0.09987828880548477,0.13014444708824158,0.17664524912834167,0.26486173272132874,-0.17694465816020966,0.0648762583732605,0.14202921092510223,0.008884266950190067,0.18558087944984436,0.167307510972023,0.36309489607810974,-0.19171743094921112,0.016153836622834206,-0.07565155625343323,-0.14832445979118347,0.12771075963974,0.13200967013835907,-0.1377941220998764,0.09680341929197311,0.3045792281627655,0.21622499823570251,-0.08636441826820374,0.17921783030033112,-0.3200646638870239,0.04078821837902069,-0.058322325348854065,0.021258441731333733,0.2831689417362213,-0.008273117244243622,0.011406091041862965,0.019245950505137444,0.17340083420276642,0.03736857697367668,0.3605620563030243,-0.1371811032295227,0.06834305822849274,-0.29959556460380554,-0.21565721929073334,0.140971839427948,-0.2575235366821289,0.17142927646636963,-0.019814683124423027,0.21442371606826782,-0.4172936975955963,-0.19131723046302795,-0.44308575987815857,-0.0038548039738088846,-0.14190039038658142,0.18283136188983917,0.8152533769607544,-0.3223648965358734,-1.8419736623764038,-0.11598768085241318,-0.3972187042236328,1.1365610361099243,0.6131746172904968,-0.1577816754579544,0.4887039363384247,-0.010890140198171139,0.22239801287651062,0.5063717365264893,0.06317035108804703,0.16961725056171417,0.01902567408978939,0.3399524688720703,-0.1435587853193283,-0.22325603663921356,-0.017838481813669205,-0.12410581111907959,-0.03569034859538078,0.09461256861686707,-0.03738808631896973,-0.26863881945610046,0.02543116733431816,-0.6662468314170837,-0.1280004233121872,0.532319962978363,0.15430769324302673,-0.3551587462425232,0.31632786989212036,-1.1655148267745972,-0.07479028403759003,0.19504044950008392,-0.08125867694616318,-0.06869538128376007,-0.07970145344734192,-0.05362411588430405,-0.1632751077413559,-0.10007922351360321,0.2986146807670593,-0.4649980068206787,0.09503769129514694,-0.1031535342335701,-0.27203232049942017,0.4616853892803192,-0.2777658700942993]]                     |\n",
            "|[[-0.12224163115024567,0.06146237254142761,0.2970924973487854,-0.1298641711473465,0.01583065465092659,0.07409974932670593,-0.09378989785909653,0.18307124078273773,-0.09221122413873672,0.02531515061855316,0.0402657650411129,0.004629472736269236,0.3019564151763916,0.07452729344367981,0.3031056821346283,-0.04656217619776726,0.11034788936376572,-0.089330293238163,-0.06233057752251625,0.019997576251626015,0.14758221805095673,-0.10495597869157791,0.1302303969860077,0.18401804566383362,0.08418543636798859,0.03306184336543083,0.15639743208885193,-0.28775835037231445,0.07117513567209244,-0.00359616638161242,0.036449454724788666,0.34338656067848206,-0.0943431630730629,-0.0022635881323367357,-0.001885359873995185,0.10461451858282089,0.16602322459220886,0.2519538998603821,-0.10867056250572205,-0.003770376555621624,-0.28232184052467346,-0.21180279552936554,-0.008645621128380299,-0.22013644874095917,0.04493267834186554,-0.0185511764138937,0.2307293862104416,-0.23228640854358673,-0.19005858898162842,-0.3966003358364105,0.12550769746303558,-0.009547010995447636,0.16241295635700226,0.6995038986206055,-0.20513132214546204,-1.6331125497817993,-0.1633925884962082,-0.3621147572994232,1.118937373161316,0.41961953043937683,-0.16745032370090485,0.5801935195922852,-0.033053044229745865,0.1874391734600067,0.6228238940238953,0.10691170394420624,0.2539677619934082,0.005417225416749716,0.259307861328125,-0.1806415319442749,-0.030061516910791397,-0.25955161452293396,0.0020954799838364124,-0.11899008601903915,0.1899176388978958,0.015563779510557652,-0.03629264608025551,-0.037420861423015594,-0.661011815071106,-0.0311324093490839,0.35324975848197937,0.052029989659786224,-0.42791345715522766,0.19241757690906525,-0.9401548504829407,0.04938521608710289,0.21817727386951447,-0.1595434993505478,-0.1494186967611313,-0.19816289842128754,-0.1272975504398346,-0.13614775240421295,-0.17006926238536835,0.20561067759990692,-0.23940882086753845,-0.0034255662467330694,-0.1096126139163971,-0.44269925355911255,0.5017819404602051,-0.06654591113328934]]         |\n",
            "|[[-0.1563853621482849,-0.04539903253316879,0.20122098922729492,-0.06602463126182556,0.08789008110761642,-0.004701738711446524,-0.27217745780944824,0.11432304978370667,-0.20744934678077698,0.09593437612056732,0.04196949303150177,-0.1550666242837906,0.12234017252922058,0.19410355389118195,0.2372293919324875,-0.02687761001288891,-0.019973069429397583,-0.0998125970363617,-0.10038308799266815,0.03531775251030922,0.13798381388187408,-0.25684884190559387,0.23117417097091675,0.1272033452987671,-0.002013182733207941,-0.06151142343878746,0.10907381027936935,-0.24821124970912933,-0.023215672001242638,0.056014325469732285,-0.06290441006422043,0.29105299711227417,-0.22450117766857147,0.022645287215709686,-0.09338033944368362,-0.003620969597250223,0.2091548591852188,0.3038499653339386,-0.048230644315481186,-0.07059251517057419,-0.29744118452072144,-0.23759523034095764,-0.04557044804096222,-0.22722013294696808,0.08708741515874863,0.09021946042776108,0.1381489485502243,-0.24642670154571533,-0.23842577636241913,-0.46737557649612427,0.14802411198616028,0.030181046575307846,0.10250860452651978,0.8109394907951355,-0.15993443131446838,-1.7059961557388306,0.04113805666565895,-0.4808848798274994,1.1630314588546753,0.4569173753261566,-0.1822301596403122,0.6974210143089294,0.006210851948708296,0.14563165605068207,0.7166132926940918,0.058995321393013,0.2492196261882782,-0.04343772307038307,0.3940017819404602,-0.257974237203598,-0.01130074542015791,-0.2688022553920746,0.12416064739227295,-0.28047505021095276,0.08723610639572144,0.004712202120572329,-0.12274453788995743,-0.08414912968873978,-0.7245355844497681,-0.06118351221084595,0.38698574900627136,0.14498373866081238,-0.5200026035308838,0.21477782726287842,-1.1030957698822021,0.1805247664451599,0.05305558815598488,-0.15683038532733917,-0.13427823781967163,-0.2887718975543976,-0.1432899534702301,-0.16563688218593597,-0.3334185481071472,0.30597633123397827,-0.268301784992218,0.10531932860612869,-0.220585897564888,-0.4942697286605835,0.6292490363121033,0.1079842671751976]]                |\n",
            "|[[-0.1910914182662964,0.1986352801322937,0.2885063886642456,-0.01941625215113163,-0.04612119495868683,0.09363463521003723,-0.1020122841000557,0.136049285531044,-0.2555553913116455,0.11267304420471191,0.05993961915373802,-0.1508607566356659,0.24017739295959473,0.040867943316698074,0.2950158715248108,-0.1841936558485031,0.1253286600112915,0.008335069753229618,-0.19605514407157898,0.10371996462345123,0.13034634292125702,-0.16170959174633026,0.18243831396102905,0.16807371377944946,0.12800289690494537,-0.09423699229955673,0.08058639615774155,-0.40489867329597473,-0.05986860394477844,-0.13138113915920258,-0.035401906818151474,0.36000189185142517,-0.1777978539466858,0.046547163277864456,0.0544450506567955,0.07971800118684769,0.15470969676971436,0.32756009697914124,-0.08646956831216812,-0.052905336022377014,-0.32000988721847534,-0.27805525064468384,0.07567637413740158,-0.26589876413345337,-0.0486043244600296,-0.02021215856075287,0.2089582085609436,-0.2918606400489807,-0.18987873196601868,-0.5332378149032593,0.11348459124565125,-0.06324031949043274,0.0827091857790947,0.898358166217804,-0.15584243834018707,-1.966698408126831,0.036471303552389145,-0.3329761028289795,1.3437089920043945,0.40919026732444763,-0.13292421400547028,0.4871601462364197,-0.054832521826028824,0.23751653730869293,0.6321107745170593,0.09125078469514847,0.24982361495494843,0.06331044435501099,0.35780295729637146,-0.17889660596847534,-0.05376986414194107,-0.13419601321220398,-0.06934700906276703,-0.16049866378307343,0.2901019752025604,0.04011601582169533,-0.12066631764173508,-0.02659669890999794,-0.7466281056404114,-0.15915240347385406,0.4943667948246002,0.10925354063510895,-0.46207180619239807,0.17656958103179932,-1.2444968223571777,0.027590634301304817,0.16726087033748627,-0.141652449965477,-0.11937495321035385,-0.252820760011673,-0.08162939548492432,-0.07897594571113586,-0.07326710224151611,0.1648242473602295,-0.3475790023803711,0.043640024960041046,-0.19417588412761688,-0.44477999210357666,0.5593031048774719,0.030788425356149673]]                   |\n",
            "|[[-0.0631900355219841,0.17920264601707458,0.1779138743877411,-0.06272340565919876,-0.12945915758609772,0.10258959978818893,0.07357670366764069,0.1683223992586136,-0.15635429322719574,-0.038759101182222366,0.24550092220306396,-0.12308480590581894,0.17921258509159088,0.11283587664365768,0.4055539071559906,-0.20864050090312958,0.05610515549778938,-0.08563153445720673,-0.1954861283302307,0.08895605057477951,0.1606307178735733,-0.10077017545700073,0.10205628722906113,0.27890586853027344,0.1642151027917862,0.033063873648643494,0.24429328739643097,-0.25936779379844666,0.007098854519426823,-0.0684816911816597,-0.012545686215162277,0.3507693409919739,-0.13316108286380768,-0.03436224162578583,0.0019275699742138386,0.0983048528432846,0.1714690625667572,0.21879129111766815,-0.13066793978214264,0.07573472708463669,-0.26900652050971985,-0.26748573780059814,-0.04109244421124458,-0.2447056919336319,0.0661236047744751,-0.07250280678272247,0.12533175945281982,-0.22770866751670837,-0.08629091084003448,-0.3922036290168762,0.10131621360778809,-0.007497424725443125,0.08065617829561234,0.7829590439796448,-0.2100929617881775,-1.5721114873886108,-0.0280738677829504,-0.2651969790458679,1.0512512922286987,0.3979201018810272,-0.11510531604290009,0.5367245674133301,-0.11901767551898956,0.18139316141605377,0.5645087957382202,0.056403640657663345,0.20070120692253113,0.03363994136452675,0.30988162755966187,-0.10279634594917297,-0.175459086894989,-0.1750173270702362,-0.029809918254613876,-0.026470255106687546,0.16180147230625153,-0.10871648043394089,-0.12898068130016327,-0.0023388199042528868,-0.6585605144500732,-0.07652599364519119,0.34369713068008423,-0.04719805344939232,-0.3766773045063019,0.16156761348247528,-0.9909154772758484,0.09480111300945282,0.17994065582752228,-0.057434044778347015,-0.024147257208824158,-0.11949276179075241,-0.06385438144207001,-0.06687284260988235,-0.10727555304765701,0.16135086119174957,-0.3744610846042633,0.11015331745147705,-0.18110889196395874,-0.3224017024040222,0.404569536447525,-0.1574763059616089]]         |\n",
            "|[[-0.11163865774869919,0.04602419212460518,0.14729300141334534,-0.09346853941679001,0.001648095902055502,0.16555625200271606,-0.06553266942501068,0.19758853316307068,-0.09884591400623322,0.060114581137895584,-0.01243494264781475,-0.1226535215973854,0.2968308627605438,0.12084098160266876,0.30250319838523865,-0.16924059391021729,-0.04399345815181732,-0.12891314923763275,-0.1349341720342636,-0.01733608916401863,0.15012982487678528,-0.177952378988266,0.0752338245511055,0.1801920086145401,0.19165630638599396,-0.06489123404026031,0.14008767902851105,-0.32776960730552673,0.025002870708703995,-0.04579649865627289,0.09847583621740341,0.2523631751537323,-0.10003185272216797,0.023798860609531403,-0.014276034198701382,0.08432772755622864,0.20662714540958405,0.30152422189712524,-0.0645858496427536,0.06440050899982452,-0.25560328364372253,-0.27781909704208374,0.08850197494029999,-0.2593473196029663,0.0223833117634058,0.07870683073997498,0.29788970947265625,-0.26105591654777527,-0.08901184797286987,-0.37638717889785767,0.04477852210402489,-0.06738938391208649,0.06287238001823425,0.7786479592323303,-0.17844006419181824,-1.743256688117981,-0.07774121314287186,-0.34914320707321167,1.067215919494629,0.5688459277153015,-0.14429503679275513,0.5261404514312744,-0.001165309688076377,0.1364557296037674,0.5828425288200378,-0.0062067704275250435,0.3167109787464142,-0.028902016580104828,0.3723251223564148,-0.12505581974983215,-0.07292193919420242,-0.11584477871656418,0.05090503394603729,-0.1256188154220581,0.15570874512195587,0.00959040503948927,-0.1786034107208252,-0.00918099656701088,-0.6939640045166016,-0.010098664090037346,0.38911303877830505,0.07809141278266907,-0.3325304687023163,0.296289324760437,-1.0762284994125366,-0.1081293448805809,0.10621700435876846,-0.08515369147062302,-0.1312238723039627,-0.23864594101905823,-0.016486231237649918,-0.17716547846794128,-0.16056233644485474,0.24670840799808502,-0.2223052829504013,0.08785798400640488,-0.18429943919181824,-0.4231410622596741,0.4381192624568939,-0.07977906614542007]]            |\n",
            "|[[-0.05565759912133217,0.1828155815601349,0.1869029402732849,-0.04902248457074165,-0.05330268293619156,0.1423070877790451,0.05674337223172188,0.04732995107769966,-0.1256123185157776,0.057387858629226685,0.08153942227363586,-0.16778799891471863,0.22579649090766907,0.1206459328532219,0.40442347526550293,-0.04677671566605568,0.0694568008184433,0.019264545291662216,-0.08547805994749069,0.06890998780727386,0.042044952511787415,-0.1739276498556137,0.27502092719078064,0.16453011333942413,0.0827937051653862,0.06851007789373398,0.29167410731315613,-0.178948774933815,-0.040300074964761734,0.05321069434285164,0.1468515694141388,0.3947714865207672,0.012156588025391102,0.04377106577157974,0.1920769363641739,0.0775710865855217,0.1332009881734848,0.28156211972236633,-0.09858593344688416,0.14549985527992249,-0.20492731034755707,-0.20337527990341187,-0.026341881603002548,-0.3904286026954651,0.23684333264827728,0.061302460730075836,0.1656913310289383,-0.21410629153251648,-0.3094763457775116,-0.3794231414794922,0.05859631672501564,-0.02117186039686203,0.19368098676204681,0.7041773200035095,-0.28848081827163696,-1.6590728759765625,-0.20961332321166992,-0.3545328378677368,1.1365981101989746,0.4749327003955841,-0.19119328260421753,0.5672172904014587,0.04059017077088356,0.16538965702056885,0.6521620750427246,0.18952418863773346,0.19095931947231293,0.11973653733730316,0.38421642780303955,-0.1323830932378769,-0.06660076975822449,-0.23162208497524261,-0.042419545352458954,-0.1970122754573822,0.20767387747764587,-0.00394858093932271,-0.14327305555343628,-0.08833497017621994,-0.7401515245437622,-0.0852750837802887,0.427154004573822,0.06348184496164322,-0.5590364336967468,0.21456073224544525,-1.0604031085968018,0.12227289378643036,0.13137151300907135,-0.12399447709321976,-0.19396311044692993,-0.09118542820215225,-0.10117390751838684,-0.06362280249595642,-0.07680366933345795,0.16285118460655212,-0.28214770555496216,0.07448631525039673,-0.1703418344259262,-0.5053896307945251,0.4081399440765381,-0.11301001906394958]]                          |\n",
            "+------------------------------------------------------------------------------------------------------------------------------------------------------------------------------------------------------------------------------------------------------------------------------------------------------------------------------------------------------------------------------------------------------------------------------------------------------------------------------------------------------------------------------------------------------------------------------------------------------------------------------------------------------------------------------------------------------------------------------------------------------------------------------------------------------------------------------------------------------------------------------------------------------------------------------------------------------------------------------------------------------------------------------------------------------------------------------------------------------------------------------------------------------------------------------------------------------------------------------------------------------------------------------------------------------------------------------------------------------------------------------------------------------------------------------------------------------------------------------------------------------------------------------------------------------------------------------------------------------------------------------------------------------------------------------------------------------------------------------------------------------------------------------------------------------------------------------------------------------------------------------------------------------------------------------------------------------------------------------------------------------------------------------------------------------------------------------------------------------------------------------+\n",
            "only showing top 20 rows\n",
            "\n"
          ]
        }
      ]
    },
    {
      "cell_type": "code",
      "source": [
        "from pyspark.sql.functions import udf\n",
        "from pyspark.sql.types import ArrayType, FloatType\n",
        "\n",
        "def flatten_array_of_arrays(data):\n",
        "    return [item for sublist in data for item in sublist]\n",
        "\n",
        "flatten_udf = udf(flatten_array_of_arrays, ArrayType(FloatType()))\n",
        "\n",
        "data_clean = data_clean.withColumn(\"flattened_embeddings\", flatten_udf(\"finished_sentence_embeddings\"))\n"
      ],
      "metadata": {
        "id": "skfmK2ka7JKx"
      },
      "execution_count": 41,
      "outputs": []
    },
    {
      "cell_type": "code",
      "source": [
        "from pyspark.sql import Row\n",
        "\n",
        "# Convert DataFrame to RDD\n",
        "train_data_rdd = train_data.rdd\n",
        "\n",
        "# Define a function to flatten the array\n",
        "def flatten_array(row):\n",
        "    flattened_array = [item for sublist in row.sentence_embeddings_vec for item in sublist]\n",
        "    return Row(**{\"condition_label\": row.condition_label, \"sentence_embeddings_vec\": flattened_array})\n",
        "\n",
        "# Apply the function to the RDD\n",
        "train_data_rdd = train_data_rdd.map(flatten_array)\n",
        "\n",
        "# Convert RDD back to DataFrame\n",
        "train_data = spark.createDataFrame(train_data_rdd)\n",
        "\n",
        "# Now you can use the VectorAssembler\n",
        "assembler = VectorAssembler(\n",
        "    inputCols=[\"sentence_embeddings_vec\"],\n",
        "    outputCol=\"features\")\n",
        "\n",
        "train_data = assembler.transform(train_data)\n"
      ],
      "metadata": {
        "id": "K3SLpxu08Ux5"
      },
      "execution_count": null,
      "outputs": []
    },
    {
      "cell_type": "code",
      "source": [
        "from pyspark.sql import Row\n",
        "\n",
        "# Convert DataFrame to RDD\n",
        "train_data_rdd = train_data.rdd\n",
        "\n",
        "# Define a function to flatten the array\n",
        "def flatten_array(row):\n",
        "    flattened_array = [item for sublist in row.sentence_embeddings_vec for item in sublist]\n",
        "    return Row(**{\"condition_label\": row.condition_label, \"sentence_embeddings_vec\": flattened_array})\n",
        "\n",
        "# Apply the function to the RDD\n",
        "train_data_rdd = train_data_rdd.map(flatten_array)\n",
        "\n",
        "# Convert RDD back to DataFrame\n",
        "train_data = spark.createDataFrame(train_data_rdd)\n",
        "\n",
        "# Now you can use the VectorAssembler\n",
        "assembler = VectorAssembler(\n",
        "    inputCols=[\"sentence_embeddings_vec\"],\n",
        "    outputCol=\"features\")\n",
        "\n",
        "train_data = assembler.transform(train_data)\n"
      ],
      "metadata": {
        "colab": {
          "base_uri": "https://localhost:8080/",
          "height": 800
        },
        "id": "seCoXGck770g",
        "outputId": "2a2cfd01-a3eb-4b3e-8254-af708577685d"
      },
      "execution_count": 44,
      "outputs": [
        {
          "output_type": "error",
          "ename": "PythonException",
          "evalue": "ignored",
          "traceback": [
            "\u001b[0;31m---------------------------------------------------------------------------\u001b[0m",
            "\u001b[0;31mPythonException\u001b[0m                           Traceback (most recent call last)",
            "\u001b[0;32m<ipython-input-44-c8bb41491165>\u001b[0m in \u001b[0;36m<cell line: 15>\u001b[0;34m()\u001b[0m\n\u001b[1;32m     13\u001b[0m \u001b[0;34m\u001b[0m\u001b[0m\n\u001b[1;32m     14\u001b[0m \u001b[0;31m# Convert RDD back to DataFrame\u001b[0m\u001b[0;34m\u001b[0m\u001b[0;34m\u001b[0m\u001b[0m\n\u001b[0;32m---> 15\u001b[0;31m \u001b[0mtrain_data\u001b[0m \u001b[0;34m=\u001b[0m \u001b[0mspark\u001b[0m\u001b[0;34m.\u001b[0m\u001b[0mcreateDataFrame\u001b[0m\u001b[0;34m(\u001b[0m\u001b[0mtrain_data_rdd\u001b[0m\u001b[0;34m)\u001b[0m\u001b[0;34m\u001b[0m\u001b[0;34m\u001b[0m\u001b[0m\n\u001b[0m\u001b[1;32m     16\u001b[0m \u001b[0;34m\u001b[0m\u001b[0m\n\u001b[1;32m     17\u001b[0m \u001b[0;31m# Now you can use the VectorAssembler\u001b[0m\u001b[0;34m\u001b[0m\u001b[0;34m\u001b[0m\u001b[0m\n",
            "\u001b[0;32m/content/spark-3.1.2-bin-hadoop2.7/python/pyspark/sql/session.py\u001b[0m in \u001b[0;36mcreateDataFrame\u001b[0;34m(self, data, schema, samplingRatio, verifySchema)\u001b[0m\n\u001b[1;32m    673\u001b[0m             return super(SparkSession, self).createDataFrame(\n\u001b[1;32m    674\u001b[0m                 data, schema, samplingRatio, verifySchema)\n\u001b[0;32m--> 675\u001b[0;31m         \u001b[0;32mreturn\u001b[0m \u001b[0mself\u001b[0m\u001b[0;34m.\u001b[0m\u001b[0m_create_dataframe\u001b[0m\u001b[0;34m(\u001b[0m\u001b[0mdata\u001b[0m\u001b[0;34m,\u001b[0m \u001b[0mschema\u001b[0m\u001b[0;34m,\u001b[0m \u001b[0msamplingRatio\u001b[0m\u001b[0;34m,\u001b[0m \u001b[0mverifySchema\u001b[0m\u001b[0;34m)\u001b[0m\u001b[0;34m\u001b[0m\u001b[0;34m\u001b[0m\u001b[0m\n\u001b[0m\u001b[1;32m    676\u001b[0m \u001b[0;34m\u001b[0m\u001b[0m\n\u001b[1;32m    677\u001b[0m     \u001b[0;32mdef\u001b[0m \u001b[0m_create_dataframe\u001b[0m\u001b[0;34m(\u001b[0m\u001b[0mself\u001b[0m\u001b[0;34m,\u001b[0m \u001b[0mdata\u001b[0m\u001b[0;34m,\u001b[0m \u001b[0mschema\u001b[0m\u001b[0;34m,\u001b[0m \u001b[0msamplingRatio\u001b[0m\u001b[0;34m,\u001b[0m \u001b[0mverifySchema\u001b[0m\u001b[0;34m)\u001b[0m\u001b[0;34m:\u001b[0m\u001b[0;34m\u001b[0m\u001b[0;34m\u001b[0m\u001b[0m\n",
            "\u001b[0;32m/content/spark-3.1.2-bin-hadoop2.7/python/pyspark/sql/session.py\u001b[0m in \u001b[0;36m_create_dataframe\u001b[0;34m(self, data, schema, samplingRatio, verifySchema)\u001b[0m\n\u001b[1;32m    696\u001b[0m \u001b[0;34m\u001b[0m\u001b[0m\n\u001b[1;32m    697\u001b[0m         \u001b[0;32mif\u001b[0m \u001b[0misinstance\u001b[0m\u001b[0;34m(\u001b[0m\u001b[0mdata\u001b[0m\u001b[0;34m,\u001b[0m \u001b[0mRDD\u001b[0m\u001b[0;34m)\u001b[0m\u001b[0;34m:\u001b[0m\u001b[0;34m\u001b[0m\u001b[0;34m\u001b[0m\u001b[0m\n\u001b[0;32m--> 698\u001b[0;31m             \u001b[0mrdd\u001b[0m\u001b[0;34m,\u001b[0m \u001b[0mschema\u001b[0m \u001b[0;34m=\u001b[0m \u001b[0mself\u001b[0m\u001b[0;34m.\u001b[0m\u001b[0m_createFromRDD\u001b[0m\u001b[0;34m(\u001b[0m\u001b[0mdata\u001b[0m\u001b[0;34m.\u001b[0m\u001b[0mmap\u001b[0m\u001b[0;34m(\u001b[0m\u001b[0mprepare\u001b[0m\u001b[0;34m)\u001b[0m\u001b[0;34m,\u001b[0m \u001b[0mschema\u001b[0m\u001b[0;34m,\u001b[0m \u001b[0msamplingRatio\u001b[0m\u001b[0;34m)\u001b[0m\u001b[0;34m\u001b[0m\u001b[0;34m\u001b[0m\u001b[0m\n\u001b[0m\u001b[1;32m    699\u001b[0m         \u001b[0;32melse\u001b[0m\u001b[0;34m:\u001b[0m\u001b[0;34m\u001b[0m\u001b[0;34m\u001b[0m\u001b[0m\n\u001b[1;32m    700\u001b[0m             \u001b[0mrdd\u001b[0m\u001b[0;34m,\u001b[0m \u001b[0mschema\u001b[0m \u001b[0;34m=\u001b[0m \u001b[0mself\u001b[0m\u001b[0;34m.\u001b[0m\u001b[0m_createFromLocal\u001b[0m\u001b[0;34m(\u001b[0m\u001b[0mmap\u001b[0m\u001b[0;34m(\u001b[0m\u001b[0mprepare\u001b[0m\u001b[0;34m,\u001b[0m \u001b[0mdata\u001b[0m\u001b[0;34m)\u001b[0m\u001b[0;34m,\u001b[0m \u001b[0mschema\u001b[0m\u001b[0;34m)\u001b[0m\u001b[0;34m\u001b[0m\u001b[0;34m\u001b[0m\u001b[0m\n",
            "\u001b[0;32m/content/spark-3.1.2-bin-hadoop2.7/python/pyspark/sql/session.py\u001b[0m in \u001b[0;36m_createFromRDD\u001b[0;34m(self, rdd, schema, samplingRatio)\u001b[0m\n\u001b[1;32m    484\u001b[0m         \"\"\"\n\u001b[1;32m    485\u001b[0m         \u001b[0;32mif\u001b[0m \u001b[0mschema\u001b[0m \u001b[0;32mis\u001b[0m \u001b[0;32mNone\u001b[0m \u001b[0;32mor\u001b[0m \u001b[0misinstance\u001b[0m\u001b[0;34m(\u001b[0m\u001b[0mschema\u001b[0m\u001b[0;34m,\u001b[0m \u001b[0;34m(\u001b[0m\u001b[0mlist\u001b[0m\u001b[0;34m,\u001b[0m \u001b[0mtuple\u001b[0m\u001b[0;34m)\u001b[0m\u001b[0;34m)\u001b[0m\u001b[0;34m:\u001b[0m\u001b[0;34m\u001b[0m\u001b[0;34m\u001b[0m\u001b[0m\n\u001b[0;32m--> 486\u001b[0;31m             \u001b[0mstruct\u001b[0m \u001b[0;34m=\u001b[0m \u001b[0mself\u001b[0m\u001b[0;34m.\u001b[0m\u001b[0m_inferSchema\u001b[0m\u001b[0;34m(\u001b[0m\u001b[0mrdd\u001b[0m\u001b[0;34m,\u001b[0m \u001b[0msamplingRatio\u001b[0m\u001b[0;34m,\u001b[0m \u001b[0mnames\u001b[0m\u001b[0;34m=\u001b[0m\u001b[0mschema\u001b[0m\u001b[0;34m)\u001b[0m\u001b[0;34m\u001b[0m\u001b[0;34m\u001b[0m\u001b[0m\n\u001b[0m\u001b[1;32m    487\u001b[0m             \u001b[0mconverter\u001b[0m \u001b[0;34m=\u001b[0m \u001b[0m_create_converter\u001b[0m\u001b[0;34m(\u001b[0m\u001b[0mstruct\u001b[0m\u001b[0;34m)\u001b[0m\u001b[0;34m\u001b[0m\u001b[0;34m\u001b[0m\u001b[0m\n\u001b[1;32m    488\u001b[0m             \u001b[0mrdd\u001b[0m \u001b[0;34m=\u001b[0m \u001b[0mrdd\u001b[0m\u001b[0;34m.\u001b[0m\u001b[0mmap\u001b[0m\u001b[0;34m(\u001b[0m\u001b[0mconverter\u001b[0m\u001b[0;34m)\u001b[0m\u001b[0;34m\u001b[0m\u001b[0;34m\u001b[0m\u001b[0m\n",
            "\u001b[0;32m/content/spark-3.1.2-bin-hadoop2.7/python/pyspark/sql/session.py\u001b[0m in \u001b[0;36m_inferSchema\u001b[0;34m(self, rdd, samplingRatio, names)\u001b[0m\n\u001b[1;32m    458\u001b[0m         \u001b[0;34m:\u001b[0m\u001b[0;32mclass\u001b[0m\u001b[0;34m:\u001b[0m\u001b[0;31m`\u001b[0m\u001b[0mpyspark\u001b[0m\u001b[0;34m.\u001b[0m\u001b[0msql\u001b[0m\u001b[0;34m.\u001b[0m\u001b[0mtypes\u001b[0m\u001b[0;34m.\u001b[0m\u001b[0mStructType\u001b[0m\u001b[0;31m`\u001b[0m\u001b[0;34m\u001b[0m\u001b[0;34m\u001b[0m\u001b[0m\n\u001b[1;32m    459\u001b[0m         \"\"\"\n\u001b[0;32m--> 460\u001b[0;31m         \u001b[0mfirst\u001b[0m \u001b[0;34m=\u001b[0m \u001b[0mrdd\u001b[0m\u001b[0;34m.\u001b[0m\u001b[0mfirst\u001b[0m\u001b[0;34m(\u001b[0m\u001b[0;34m)\u001b[0m\u001b[0;34m\u001b[0m\u001b[0;34m\u001b[0m\u001b[0m\n\u001b[0m\u001b[1;32m    461\u001b[0m         \u001b[0;32mif\u001b[0m \u001b[0;32mnot\u001b[0m \u001b[0mfirst\u001b[0m\u001b[0;34m:\u001b[0m\u001b[0;34m\u001b[0m\u001b[0;34m\u001b[0m\u001b[0m\n\u001b[1;32m    462\u001b[0m             raise ValueError(\"The first row in RDD is empty, \"\n",
            "\u001b[0;32m/content/spark-3.1.2-bin-hadoop2.7/python/pyspark/rdd.py\u001b[0m in \u001b[0;36mfirst\u001b[0;34m(self)\u001b[0m\n\u001b[1;32m   1584\u001b[0m         \u001b[0mValueError\u001b[0m\u001b[0;34m:\u001b[0m \u001b[0mRDD\u001b[0m \u001b[0;32mis\u001b[0m \u001b[0mempty\u001b[0m\u001b[0;34m\u001b[0m\u001b[0;34m\u001b[0m\u001b[0m\n\u001b[1;32m   1585\u001b[0m         \"\"\"\n\u001b[0;32m-> 1586\u001b[0;31m         \u001b[0mrs\u001b[0m \u001b[0;34m=\u001b[0m \u001b[0mself\u001b[0m\u001b[0;34m.\u001b[0m\u001b[0mtake\u001b[0m\u001b[0;34m(\u001b[0m\u001b[0;36m1\u001b[0m\u001b[0;34m)\u001b[0m\u001b[0;34m\u001b[0m\u001b[0;34m\u001b[0m\u001b[0m\n\u001b[0m\u001b[1;32m   1587\u001b[0m         \u001b[0;32mif\u001b[0m \u001b[0mrs\u001b[0m\u001b[0;34m:\u001b[0m\u001b[0;34m\u001b[0m\u001b[0;34m\u001b[0m\u001b[0m\n\u001b[1;32m   1588\u001b[0m             \u001b[0;32mreturn\u001b[0m \u001b[0mrs\u001b[0m\u001b[0;34m[\u001b[0m\u001b[0;36m0\u001b[0m\u001b[0;34m]\u001b[0m\u001b[0;34m\u001b[0m\u001b[0;34m\u001b[0m\u001b[0m\n",
            "\u001b[0;32m/content/spark-3.1.2-bin-hadoop2.7/python/pyspark/rdd.py\u001b[0m in \u001b[0;36mtake\u001b[0;34m(self, num)\u001b[0m\n\u001b[1;32m   1564\u001b[0m \u001b[0;34m\u001b[0m\u001b[0m\n\u001b[1;32m   1565\u001b[0m             \u001b[0mp\u001b[0m \u001b[0;34m=\u001b[0m \u001b[0mrange\u001b[0m\u001b[0;34m(\u001b[0m\u001b[0mpartsScanned\u001b[0m\u001b[0;34m,\u001b[0m \u001b[0mmin\u001b[0m\u001b[0;34m(\u001b[0m\u001b[0mpartsScanned\u001b[0m \u001b[0;34m+\u001b[0m \u001b[0mnumPartsToTry\u001b[0m\u001b[0;34m,\u001b[0m \u001b[0mtotalParts\u001b[0m\u001b[0;34m)\u001b[0m\u001b[0;34m)\u001b[0m\u001b[0;34m\u001b[0m\u001b[0;34m\u001b[0m\u001b[0m\n\u001b[0;32m-> 1566\u001b[0;31m             \u001b[0mres\u001b[0m \u001b[0;34m=\u001b[0m \u001b[0mself\u001b[0m\u001b[0;34m.\u001b[0m\u001b[0mcontext\u001b[0m\u001b[0;34m.\u001b[0m\u001b[0mrunJob\u001b[0m\u001b[0;34m(\u001b[0m\u001b[0mself\u001b[0m\u001b[0;34m,\u001b[0m \u001b[0mtakeUpToNumLeft\u001b[0m\u001b[0;34m,\u001b[0m \u001b[0mp\u001b[0m\u001b[0;34m)\u001b[0m\u001b[0;34m\u001b[0m\u001b[0;34m\u001b[0m\u001b[0m\n\u001b[0m\u001b[1;32m   1567\u001b[0m \u001b[0;34m\u001b[0m\u001b[0m\n\u001b[1;32m   1568\u001b[0m             \u001b[0mitems\u001b[0m \u001b[0;34m+=\u001b[0m \u001b[0mres\u001b[0m\u001b[0;34m\u001b[0m\u001b[0;34m\u001b[0m\u001b[0m\n",
            "\u001b[0;32m/content/spark-3.1.2-bin-hadoop2.7/python/pyspark/context.py\u001b[0m in \u001b[0;36mrunJob\u001b[0;34m(self, rdd, partitionFunc, partitions, allowLocal)\u001b[0m\n\u001b[1;32m   1231\u001b[0m         \u001b[0;31m# SparkContext#runJob.\u001b[0m\u001b[0;34m\u001b[0m\u001b[0;34m\u001b[0m\u001b[0m\n\u001b[1;32m   1232\u001b[0m         \u001b[0mmappedRDD\u001b[0m \u001b[0;34m=\u001b[0m \u001b[0mrdd\u001b[0m\u001b[0;34m.\u001b[0m\u001b[0mmapPartitions\u001b[0m\u001b[0;34m(\u001b[0m\u001b[0mpartitionFunc\u001b[0m\u001b[0;34m)\u001b[0m\u001b[0;34m\u001b[0m\u001b[0;34m\u001b[0m\u001b[0m\n\u001b[0;32m-> 1233\u001b[0;31m         \u001b[0msock_info\u001b[0m \u001b[0;34m=\u001b[0m \u001b[0mself\u001b[0m\u001b[0;34m.\u001b[0m\u001b[0m_jvm\u001b[0m\u001b[0;34m.\u001b[0m\u001b[0mPythonRDD\u001b[0m\u001b[0;34m.\u001b[0m\u001b[0mrunJob\u001b[0m\u001b[0;34m(\u001b[0m\u001b[0mself\u001b[0m\u001b[0;34m.\u001b[0m\u001b[0m_jsc\u001b[0m\u001b[0;34m.\u001b[0m\u001b[0msc\u001b[0m\u001b[0;34m(\u001b[0m\u001b[0;34m)\u001b[0m\u001b[0;34m,\u001b[0m \u001b[0mmappedRDD\u001b[0m\u001b[0;34m.\u001b[0m\u001b[0m_jrdd\u001b[0m\u001b[0;34m,\u001b[0m \u001b[0mpartitions\u001b[0m\u001b[0;34m)\u001b[0m\u001b[0;34m\u001b[0m\u001b[0;34m\u001b[0m\u001b[0m\n\u001b[0m\u001b[1;32m   1234\u001b[0m         \u001b[0;32mreturn\u001b[0m \u001b[0mlist\u001b[0m\u001b[0;34m(\u001b[0m\u001b[0m_load_from_socket\u001b[0m\u001b[0;34m(\u001b[0m\u001b[0msock_info\u001b[0m\u001b[0;34m,\u001b[0m \u001b[0mmappedRDD\u001b[0m\u001b[0;34m.\u001b[0m\u001b[0m_jrdd_deserializer\u001b[0m\u001b[0;34m)\u001b[0m\u001b[0;34m)\u001b[0m\u001b[0;34m\u001b[0m\u001b[0;34m\u001b[0m\u001b[0m\n\u001b[1;32m   1235\u001b[0m \u001b[0;34m\u001b[0m\u001b[0m\n",
            "\u001b[0;32m/content/spark-3.1.2-bin-hadoop2.7/python/lib/py4j-0.10.9-src.zip/py4j/java_gateway.py\u001b[0m in \u001b[0;36m__call__\u001b[0;34m(self, *args)\u001b[0m\n\u001b[1;32m   1302\u001b[0m \u001b[0;34m\u001b[0m\u001b[0m\n\u001b[1;32m   1303\u001b[0m         \u001b[0manswer\u001b[0m \u001b[0;34m=\u001b[0m \u001b[0mself\u001b[0m\u001b[0;34m.\u001b[0m\u001b[0mgateway_client\u001b[0m\u001b[0;34m.\u001b[0m\u001b[0msend_command\u001b[0m\u001b[0;34m(\u001b[0m\u001b[0mcommand\u001b[0m\u001b[0;34m)\u001b[0m\u001b[0;34m\u001b[0m\u001b[0;34m\u001b[0m\u001b[0m\n\u001b[0;32m-> 1304\u001b[0;31m         return_value = get_return_value(\n\u001b[0m\u001b[1;32m   1305\u001b[0m             answer, self.gateway_client, self.target_id, self.name)\n\u001b[1;32m   1306\u001b[0m \u001b[0;34m\u001b[0m\u001b[0m\n",
            "\u001b[0;32m/content/spark-3.1.2-bin-hadoop2.7/python/pyspark/sql/utils.py\u001b[0m in \u001b[0;36mdeco\u001b[0;34m(*a, **kw)\u001b[0m\n\u001b[1;32m    115\u001b[0m                 \u001b[0;31m# Hide where the exception came from that shows a non-Pythonic\u001b[0m\u001b[0;34m\u001b[0m\u001b[0;34m\u001b[0m\u001b[0m\n\u001b[1;32m    116\u001b[0m                 \u001b[0;31m# JVM exception message.\u001b[0m\u001b[0;34m\u001b[0m\u001b[0;34m\u001b[0m\u001b[0m\n\u001b[0;32m--> 117\u001b[0;31m                 \u001b[0;32mraise\u001b[0m \u001b[0mconverted\u001b[0m \u001b[0;32mfrom\u001b[0m \u001b[0;32mNone\u001b[0m\u001b[0;34m\u001b[0m\u001b[0;34m\u001b[0m\u001b[0m\n\u001b[0m\u001b[1;32m    118\u001b[0m             \u001b[0;32melse\u001b[0m\u001b[0;34m:\u001b[0m\u001b[0;34m\u001b[0m\u001b[0;34m\u001b[0m\u001b[0m\n\u001b[1;32m    119\u001b[0m                 \u001b[0;32mraise\u001b[0m\u001b[0;34m\u001b[0m\u001b[0;34m\u001b[0m\u001b[0m\n",
            "\u001b[0;31mPythonException\u001b[0m: \n  An exception was thrown from the Python worker. Please see the stack trace below.\nTraceback (most recent call last):\n  File \"/content/spark-3.1.2-bin-hadoop2.7/python/lib/pyspark.zip/pyspark/worker.py\", line 604, in main\n    process()\n  File \"/content/spark-3.1.2-bin-hadoop2.7/python/lib/pyspark.zip/pyspark/worker.py\", line 596, in process\n    serializer.dump_stream(out_iter, outfile)\n  File \"/content/spark-3.1.2-bin-hadoop2.7/python/lib/pyspark.zip/pyspark/serializers.py\", line 211, in dump_stream\n    self.serializer.dump_stream(self._batched(iterator), stream)\n  File \"/content/spark-3.1.2-bin-hadoop2.7/python/lib/pyspark.zip/pyspark/serializers.py\", line 132, in dump_stream\n    for obj in iterator:\n  File \"/content/spark-3.1.2-bin-hadoop2.7/python/lib/pyspark.zip/pyspark/serializers.py\", line 200, in _batched\n    for item in iterator:\n  File \"/content/spark-3.1.2-bin-hadoop2.7/python/lib/pyspark.zip/pyspark/worker.py\", line 450, in mapper\n    result = tuple(f(*[a[o] for o in arg_offsets]) for (arg_offsets, f) in udfs)\n  File \"/content/spark-3.1.2-bin-hadoop2.7/python/lib/pyspark.zip/pyspark/worker.py\", line 450, in <genexpr>\n    result = tuple(f(*[a[o] for o in arg_offsets]) for (arg_offsets, f) in udfs)\n  File \"/content/spark-3.1.2-bin-hadoop2.7/python/lib/pyspark.zip/pyspark/worker.py\", line 83, in <lambda>\n    return lambda *a: toInternal(f(*a))\n  File \"/content/spark-3.1.2-bin-hadoop2.7/python/lib/pyspark.zip/pyspark/sql/types.py\", line 704, in toInternal\n    return self._cachedSqlType().toInternal(self.serialize(obj))\n  File \"/content/spark-3.1.2-bin-hadoop2.7/python/lib/pyspark.zip/pyspark/ml/linalg/__init__.py\", line 149, in serialize\n    values = [float(v) for v in obj]\n  File \"/content/spark-3.1.2-bin-hadoop2.7/python/lib/pyspark.zip/pyspark/ml/linalg/__init__.py\", line 149, in <listcomp>\n    values = [float(v) for v in obj]\nTypeError: only size-1 arrays can be converted to Python scalars\n"
          ]
        }
      ]
    },
    {
      "cell_type": "code",
      "source": [
        "from pyspark.ml.feature import VectorAssembler\n",
        "\n",
        "assembler = VectorAssembler(\n",
        "    inputCols=[\"sentence_embeddings_vec\"],\n",
        "    outputCol=\"features\")\n",
        "\n",
        "train_data = assembler.transform(train_data)\n",
        "test_data = assembler.transform(test_data)\n"
      ],
      "metadata": {
        "colab": {
          "base_uri": "https://localhost:8080/",
          "height": 783
        },
        "id": "-Zf9Erre7osN",
        "outputId": "ab01813d-1566-4ca9-d514-937e0cdd23b1"
      },
      "execution_count": 43,
      "outputs": [
        {
          "output_type": "error",
          "ename": "PythonException",
          "evalue": "ignored",
          "traceback": [
            "\u001b[0;31m---------------------------------------------------------------------------\u001b[0m",
            "\u001b[0;31mPythonException\u001b[0m                           Traceback (most recent call last)",
            "\u001b[0;32m<ipython-input-43-687353388aa1>\u001b[0m in \u001b[0;36m<cell line: 7>\u001b[0;34m()\u001b[0m\n\u001b[1;32m      5\u001b[0m     outputCol=\"features\")\n\u001b[1;32m      6\u001b[0m \u001b[0;34m\u001b[0m\u001b[0m\n\u001b[0;32m----> 7\u001b[0;31m \u001b[0mtrain_data\u001b[0m \u001b[0;34m=\u001b[0m \u001b[0massembler\u001b[0m\u001b[0;34m.\u001b[0m\u001b[0mtransform\u001b[0m\u001b[0;34m(\u001b[0m\u001b[0mtrain_data\u001b[0m\u001b[0;34m)\u001b[0m\u001b[0;34m\u001b[0m\u001b[0;34m\u001b[0m\u001b[0m\n\u001b[0m\u001b[1;32m      8\u001b[0m \u001b[0mtest_data\u001b[0m \u001b[0;34m=\u001b[0m \u001b[0massembler\u001b[0m\u001b[0;34m.\u001b[0m\u001b[0mtransform\u001b[0m\u001b[0;34m(\u001b[0m\u001b[0mtest_data\u001b[0m\u001b[0;34m)\u001b[0m\u001b[0;34m\u001b[0m\u001b[0;34m\u001b[0m\u001b[0m\n",
            "\u001b[0;32m/content/spark-3.1.2-bin-hadoop2.7/python/pyspark/ml/base.py\u001b[0m in \u001b[0;36mtransform\u001b[0;34m(self, dataset, params)\u001b[0m\n\u001b[1;32m    215\u001b[0m                 \u001b[0;32mreturn\u001b[0m \u001b[0mself\u001b[0m\u001b[0;34m.\u001b[0m\u001b[0mcopy\u001b[0m\u001b[0;34m(\u001b[0m\u001b[0mparams\u001b[0m\u001b[0;34m)\u001b[0m\u001b[0;34m.\u001b[0m\u001b[0m_transform\u001b[0m\u001b[0;34m(\u001b[0m\u001b[0mdataset\u001b[0m\u001b[0;34m)\u001b[0m\u001b[0;34m\u001b[0m\u001b[0;34m\u001b[0m\u001b[0m\n\u001b[1;32m    216\u001b[0m             \u001b[0;32melse\u001b[0m\u001b[0;34m:\u001b[0m\u001b[0;34m\u001b[0m\u001b[0;34m\u001b[0m\u001b[0m\n\u001b[0;32m--> 217\u001b[0;31m                 \u001b[0;32mreturn\u001b[0m \u001b[0mself\u001b[0m\u001b[0;34m.\u001b[0m\u001b[0m_transform\u001b[0m\u001b[0;34m(\u001b[0m\u001b[0mdataset\u001b[0m\u001b[0;34m)\u001b[0m\u001b[0;34m\u001b[0m\u001b[0;34m\u001b[0m\u001b[0m\n\u001b[0m\u001b[1;32m    218\u001b[0m         \u001b[0;32melse\u001b[0m\u001b[0;34m:\u001b[0m\u001b[0;34m\u001b[0m\u001b[0;34m\u001b[0m\u001b[0m\n\u001b[1;32m    219\u001b[0m             \u001b[0;32mraise\u001b[0m \u001b[0mValueError\u001b[0m\u001b[0;34m(\u001b[0m\u001b[0;34m\"Params must be a param map but got %s.\"\u001b[0m \u001b[0;34m%\u001b[0m \u001b[0mtype\u001b[0m\u001b[0;34m(\u001b[0m\u001b[0mparams\u001b[0m\u001b[0;34m)\u001b[0m\u001b[0;34m)\u001b[0m\u001b[0;34m\u001b[0m\u001b[0;34m\u001b[0m\u001b[0m\n",
            "\u001b[0;32m/content/spark-3.1.2-bin-hadoop2.7/python/pyspark/ml/wrapper.py\u001b[0m in \u001b[0;36m_transform\u001b[0;34m(self, dataset)\u001b[0m\n\u001b[1;32m    348\u001b[0m     \u001b[0;32mdef\u001b[0m \u001b[0m_transform\u001b[0m\u001b[0;34m(\u001b[0m\u001b[0mself\u001b[0m\u001b[0;34m,\u001b[0m \u001b[0mdataset\u001b[0m\u001b[0;34m)\u001b[0m\u001b[0;34m:\u001b[0m\u001b[0;34m\u001b[0m\u001b[0;34m\u001b[0m\u001b[0m\n\u001b[1;32m    349\u001b[0m         \u001b[0mself\u001b[0m\u001b[0;34m.\u001b[0m\u001b[0m_transfer_params_to_java\u001b[0m\u001b[0;34m(\u001b[0m\u001b[0;34m)\u001b[0m\u001b[0;34m\u001b[0m\u001b[0;34m\u001b[0m\u001b[0m\n\u001b[0;32m--> 350\u001b[0;31m         \u001b[0;32mreturn\u001b[0m \u001b[0mDataFrame\u001b[0m\u001b[0;34m(\u001b[0m\u001b[0mself\u001b[0m\u001b[0;34m.\u001b[0m\u001b[0m_java_obj\u001b[0m\u001b[0;34m.\u001b[0m\u001b[0mtransform\u001b[0m\u001b[0;34m(\u001b[0m\u001b[0mdataset\u001b[0m\u001b[0;34m.\u001b[0m\u001b[0m_jdf\u001b[0m\u001b[0;34m)\u001b[0m\u001b[0;34m,\u001b[0m \u001b[0mdataset\u001b[0m\u001b[0;34m.\u001b[0m\u001b[0msql_ctx\u001b[0m\u001b[0;34m)\u001b[0m\u001b[0;34m\u001b[0m\u001b[0;34m\u001b[0m\u001b[0m\n\u001b[0m\u001b[1;32m    351\u001b[0m \u001b[0;34m\u001b[0m\u001b[0m\n\u001b[1;32m    352\u001b[0m \u001b[0;34m\u001b[0m\u001b[0m\n",
            "\u001b[0;32m/content/spark-3.1.2-bin-hadoop2.7/python/lib/py4j-0.10.9-src.zip/py4j/java_gateway.py\u001b[0m in \u001b[0;36m__call__\u001b[0;34m(self, *args)\u001b[0m\n\u001b[1;32m   1302\u001b[0m \u001b[0;34m\u001b[0m\u001b[0m\n\u001b[1;32m   1303\u001b[0m         \u001b[0manswer\u001b[0m \u001b[0;34m=\u001b[0m \u001b[0mself\u001b[0m\u001b[0;34m.\u001b[0m\u001b[0mgateway_client\u001b[0m\u001b[0;34m.\u001b[0m\u001b[0msend_command\u001b[0m\u001b[0;34m(\u001b[0m\u001b[0mcommand\u001b[0m\u001b[0;34m)\u001b[0m\u001b[0;34m\u001b[0m\u001b[0;34m\u001b[0m\u001b[0m\n\u001b[0;32m-> 1304\u001b[0;31m         return_value = get_return_value(\n\u001b[0m\u001b[1;32m   1305\u001b[0m             answer, self.gateway_client, self.target_id, self.name)\n\u001b[1;32m   1306\u001b[0m \u001b[0;34m\u001b[0m\u001b[0m\n",
            "\u001b[0;32m/content/spark-3.1.2-bin-hadoop2.7/python/pyspark/sql/utils.py\u001b[0m in \u001b[0;36mdeco\u001b[0;34m(*a, **kw)\u001b[0m\n\u001b[1;32m    115\u001b[0m                 \u001b[0;31m# Hide where the exception came from that shows a non-Pythonic\u001b[0m\u001b[0;34m\u001b[0m\u001b[0;34m\u001b[0m\u001b[0m\n\u001b[1;32m    116\u001b[0m                 \u001b[0;31m# JVM exception message.\u001b[0m\u001b[0;34m\u001b[0m\u001b[0;34m\u001b[0m\u001b[0m\n\u001b[0;32m--> 117\u001b[0;31m                 \u001b[0;32mraise\u001b[0m \u001b[0mconverted\u001b[0m \u001b[0;32mfrom\u001b[0m \u001b[0;32mNone\u001b[0m\u001b[0;34m\u001b[0m\u001b[0;34m\u001b[0m\u001b[0m\n\u001b[0m\u001b[1;32m    118\u001b[0m             \u001b[0;32melse\u001b[0m\u001b[0;34m:\u001b[0m\u001b[0;34m\u001b[0m\u001b[0;34m\u001b[0m\u001b[0m\n\u001b[1;32m    119\u001b[0m                 \u001b[0;32mraise\u001b[0m\u001b[0;34m\u001b[0m\u001b[0;34m\u001b[0m\u001b[0m\n",
            "\u001b[0;31mPythonException\u001b[0m: \n  An exception was thrown from the Python worker. Please see the stack trace below.\nTraceback (most recent call last):\n  File \"/content/spark-3.1.2-bin-hadoop2.7/python/lib/pyspark.zip/pyspark/worker.py\", line 604, in main\n    process()\n  File \"/content/spark-3.1.2-bin-hadoop2.7/python/lib/pyspark.zip/pyspark/worker.py\", line 596, in process\n    serializer.dump_stream(out_iter, outfile)\n  File \"/content/spark-3.1.2-bin-hadoop2.7/python/lib/pyspark.zip/pyspark/serializers.py\", line 211, in dump_stream\n    self.serializer.dump_stream(self._batched(iterator), stream)\n  File \"/content/spark-3.1.2-bin-hadoop2.7/python/lib/pyspark.zip/pyspark/serializers.py\", line 132, in dump_stream\n    for obj in iterator:\n  File \"/content/spark-3.1.2-bin-hadoop2.7/python/lib/pyspark.zip/pyspark/serializers.py\", line 200, in _batched\n    for item in iterator:\n  File \"/content/spark-3.1.2-bin-hadoop2.7/python/lib/pyspark.zip/pyspark/worker.py\", line 450, in mapper\n    result = tuple(f(*[a[o] for o in arg_offsets]) for (arg_offsets, f) in udfs)\n  File \"/content/spark-3.1.2-bin-hadoop2.7/python/lib/pyspark.zip/pyspark/worker.py\", line 450, in <genexpr>\n    result = tuple(f(*[a[o] for o in arg_offsets]) for (arg_offsets, f) in udfs)\n  File \"/content/spark-3.1.2-bin-hadoop2.7/python/lib/pyspark.zip/pyspark/worker.py\", line 83, in <lambda>\n    return lambda *a: toInternal(f(*a))\n  File \"/content/spark-3.1.2-bin-hadoop2.7/python/lib/pyspark.zip/pyspark/sql/types.py\", line 704, in toInternal\n    return self._cachedSqlType().toInternal(self.serialize(obj))\n  File \"/content/spark-3.1.2-bin-hadoop2.7/python/lib/pyspark.zip/pyspark/ml/linalg/__init__.py\", line 149, in serialize\n    values = [float(v) for v in obj]\n  File \"/content/spark-3.1.2-bin-hadoop2.7/python/lib/pyspark.zip/pyspark/ml/linalg/__init__.py\", line 149, in <listcomp>\n    values = [float(v) for v in obj]\nTypeError: only size-1 arrays can be converted to Python scalars\n"
          ]
        }
      ]
    },
    {
      "cell_type": "code",
      "source": [
        "from pyspark.ml.feature import VectorAssembler\n",
        "\n",
        "assembler = VectorAssembler(\n",
        "    inputCols=[\"flattened_embeddings\"],\n",
        "    outputCol=\"features\")\n",
        "\n",
        "train_data = assembler.transform(train_data)\n",
        "test_data = assembler.transform(test_data)\n"
      ],
      "metadata": {
        "colab": {
          "base_uri": "https://localhost:8080/",
          "height": 375
        },
        "id": "q4JalXB07XeG",
        "outputId": "d9203d02-94da-4bf4-86ff-e90bcea93757"
      },
      "execution_count": 42,
      "outputs": [
        {
          "output_type": "error",
          "ename": "IllegalArgumentException",
          "evalue": "ignored",
          "traceback": [
            "\u001b[0;31m---------------------------------------------------------------------------\u001b[0m",
            "\u001b[0;31mIllegalArgumentException\u001b[0m                  Traceback (most recent call last)",
            "\u001b[0;32m<ipython-input-42-eccdf38fdea7>\u001b[0m in \u001b[0;36m<cell line: 7>\u001b[0;34m()\u001b[0m\n\u001b[1;32m      5\u001b[0m     outputCol=\"features\")\n\u001b[1;32m      6\u001b[0m \u001b[0;34m\u001b[0m\u001b[0m\n\u001b[0;32m----> 7\u001b[0;31m \u001b[0mtrain_data\u001b[0m \u001b[0;34m=\u001b[0m \u001b[0massembler\u001b[0m\u001b[0;34m.\u001b[0m\u001b[0mtransform\u001b[0m\u001b[0;34m(\u001b[0m\u001b[0mtrain_data\u001b[0m\u001b[0;34m)\u001b[0m\u001b[0;34m\u001b[0m\u001b[0;34m\u001b[0m\u001b[0m\n\u001b[0m\u001b[1;32m      8\u001b[0m \u001b[0mtest_data\u001b[0m \u001b[0;34m=\u001b[0m \u001b[0massembler\u001b[0m\u001b[0;34m.\u001b[0m\u001b[0mtransform\u001b[0m\u001b[0;34m(\u001b[0m\u001b[0mtest_data\u001b[0m\u001b[0;34m)\u001b[0m\u001b[0;34m\u001b[0m\u001b[0;34m\u001b[0m\u001b[0m\n",
            "\u001b[0;32m/content/spark-3.1.2-bin-hadoop2.7/python/pyspark/ml/base.py\u001b[0m in \u001b[0;36mtransform\u001b[0;34m(self, dataset, params)\u001b[0m\n\u001b[1;32m    215\u001b[0m                 \u001b[0;32mreturn\u001b[0m \u001b[0mself\u001b[0m\u001b[0;34m.\u001b[0m\u001b[0mcopy\u001b[0m\u001b[0;34m(\u001b[0m\u001b[0mparams\u001b[0m\u001b[0;34m)\u001b[0m\u001b[0;34m.\u001b[0m\u001b[0m_transform\u001b[0m\u001b[0;34m(\u001b[0m\u001b[0mdataset\u001b[0m\u001b[0;34m)\u001b[0m\u001b[0;34m\u001b[0m\u001b[0;34m\u001b[0m\u001b[0m\n\u001b[1;32m    216\u001b[0m             \u001b[0;32melse\u001b[0m\u001b[0;34m:\u001b[0m\u001b[0;34m\u001b[0m\u001b[0;34m\u001b[0m\u001b[0m\n\u001b[0;32m--> 217\u001b[0;31m                 \u001b[0;32mreturn\u001b[0m \u001b[0mself\u001b[0m\u001b[0;34m.\u001b[0m\u001b[0m_transform\u001b[0m\u001b[0;34m(\u001b[0m\u001b[0mdataset\u001b[0m\u001b[0;34m)\u001b[0m\u001b[0;34m\u001b[0m\u001b[0;34m\u001b[0m\u001b[0m\n\u001b[0m\u001b[1;32m    218\u001b[0m         \u001b[0;32melse\u001b[0m\u001b[0;34m:\u001b[0m\u001b[0;34m\u001b[0m\u001b[0;34m\u001b[0m\u001b[0m\n\u001b[1;32m    219\u001b[0m             \u001b[0;32mraise\u001b[0m \u001b[0mValueError\u001b[0m\u001b[0;34m(\u001b[0m\u001b[0;34m\"Params must be a param map but got %s.\"\u001b[0m \u001b[0;34m%\u001b[0m \u001b[0mtype\u001b[0m\u001b[0;34m(\u001b[0m\u001b[0mparams\u001b[0m\u001b[0;34m)\u001b[0m\u001b[0;34m)\u001b[0m\u001b[0;34m\u001b[0m\u001b[0;34m\u001b[0m\u001b[0m\n",
            "\u001b[0;32m/content/spark-3.1.2-bin-hadoop2.7/python/pyspark/ml/wrapper.py\u001b[0m in \u001b[0;36m_transform\u001b[0;34m(self, dataset)\u001b[0m\n\u001b[1;32m    348\u001b[0m     \u001b[0;32mdef\u001b[0m \u001b[0m_transform\u001b[0m\u001b[0;34m(\u001b[0m\u001b[0mself\u001b[0m\u001b[0;34m,\u001b[0m \u001b[0mdataset\u001b[0m\u001b[0;34m)\u001b[0m\u001b[0;34m:\u001b[0m\u001b[0;34m\u001b[0m\u001b[0;34m\u001b[0m\u001b[0m\n\u001b[1;32m    349\u001b[0m         \u001b[0mself\u001b[0m\u001b[0;34m.\u001b[0m\u001b[0m_transfer_params_to_java\u001b[0m\u001b[0;34m(\u001b[0m\u001b[0;34m)\u001b[0m\u001b[0;34m\u001b[0m\u001b[0;34m\u001b[0m\u001b[0m\n\u001b[0;32m--> 350\u001b[0;31m         \u001b[0;32mreturn\u001b[0m \u001b[0mDataFrame\u001b[0m\u001b[0;34m(\u001b[0m\u001b[0mself\u001b[0m\u001b[0;34m.\u001b[0m\u001b[0m_java_obj\u001b[0m\u001b[0;34m.\u001b[0m\u001b[0mtransform\u001b[0m\u001b[0;34m(\u001b[0m\u001b[0mdataset\u001b[0m\u001b[0;34m.\u001b[0m\u001b[0m_jdf\u001b[0m\u001b[0;34m)\u001b[0m\u001b[0;34m,\u001b[0m \u001b[0mdataset\u001b[0m\u001b[0;34m.\u001b[0m\u001b[0msql_ctx\u001b[0m\u001b[0;34m)\u001b[0m\u001b[0;34m\u001b[0m\u001b[0;34m\u001b[0m\u001b[0m\n\u001b[0m\u001b[1;32m    351\u001b[0m \u001b[0;34m\u001b[0m\u001b[0m\n\u001b[1;32m    352\u001b[0m \u001b[0;34m\u001b[0m\u001b[0m\n",
            "\u001b[0;32m/content/spark-3.1.2-bin-hadoop2.7/python/lib/py4j-0.10.9-src.zip/py4j/java_gateway.py\u001b[0m in \u001b[0;36m__call__\u001b[0;34m(self, *args)\u001b[0m\n\u001b[1;32m   1302\u001b[0m \u001b[0;34m\u001b[0m\u001b[0m\n\u001b[1;32m   1303\u001b[0m         \u001b[0manswer\u001b[0m \u001b[0;34m=\u001b[0m \u001b[0mself\u001b[0m\u001b[0;34m.\u001b[0m\u001b[0mgateway_client\u001b[0m\u001b[0;34m.\u001b[0m\u001b[0msend_command\u001b[0m\u001b[0;34m(\u001b[0m\u001b[0mcommand\u001b[0m\u001b[0;34m)\u001b[0m\u001b[0;34m\u001b[0m\u001b[0;34m\u001b[0m\u001b[0m\n\u001b[0;32m-> 1304\u001b[0;31m         return_value = get_return_value(\n\u001b[0m\u001b[1;32m   1305\u001b[0m             answer, self.gateway_client, self.target_id, self.name)\n\u001b[1;32m   1306\u001b[0m \u001b[0;34m\u001b[0m\u001b[0m\n",
            "\u001b[0;32m/content/spark-3.1.2-bin-hadoop2.7/python/pyspark/sql/utils.py\u001b[0m in \u001b[0;36mdeco\u001b[0;34m(*a, **kw)\u001b[0m\n\u001b[1;32m    115\u001b[0m                 \u001b[0;31m# Hide where the exception came from that shows a non-Pythonic\u001b[0m\u001b[0;34m\u001b[0m\u001b[0;34m\u001b[0m\u001b[0m\n\u001b[1;32m    116\u001b[0m                 \u001b[0;31m# JVM exception message.\u001b[0m\u001b[0;34m\u001b[0m\u001b[0;34m\u001b[0m\u001b[0m\n\u001b[0;32m--> 117\u001b[0;31m                 \u001b[0;32mraise\u001b[0m \u001b[0mconverted\u001b[0m \u001b[0;32mfrom\u001b[0m \u001b[0;32mNone\u001b[0m\u001b[0;34m\u001b[0m\u001b[0;34m\u001b[0m\u001b[0m\n\u001b[0m\u001b[1;32m    118\u001b[0m             \u001b[0;32melse\u001b[0m\u001b[0;34m:\u001b[0m\u001b[0;34m\u001b[0m\u001b[0;34m\u001b[0m\u001b[0m\n\u001b[1;32m    119\u001b[0m                 \u001b[0;32mraise\u001b[0m\u001b[0;34m\u001b[0m\u001b[0;34m\u001b[0m\u001b[0m\n",
            "\u001b[0;31mIllegalArgumentException\u001b[0m: flattened_embeddings does not exist. Available: condition_label, medical_abstract, document, token, normalized, clean_tokens, embeddings, sentence_embeddings, clean_text, finished_sentence_embeddings, sentence_embeddings_vec"
          ]
        }
      ]
    },
    {
      "cell_type": "code",
      "source": [
        "from pyspark.ml.linalg import Vectors, VectorUDT\n",
        "from pyspark.sql.functions import udf\n",
        "\n",
        "# Define a UDF to convert array of floats to vector\n",
        "list_to_vector_udf = udf(lambda l: Vectors.dense(l), VectorUDT())\n",
        "\n",
        "# Apply the UDF to the finished_sentence_embeddings column\n",
        "data_clean = data_clean.withColumn(\"sentence_embeddings_vec\", list_to_vector_udf(\"finished_sentence_embeddings\"))\n",
        "\n",
        "# Now split the data\n",
        "train_data, test_data = data_clean.randomSplit([0.8, 0.2], seed=12345)\n",
        "\n",
        "# Now you can use the VectorAssembler\n",
        "assembler = VectorAssembler(\n",
        "    inputCols=[\"sentence_embeddings_vec\"],\n",
        "    outputCol=\"features\")\n",
        "\n",
        "train_data = assembler.transform(train_data)\n",
        "test_data = assembler.transform(test_data)\n"
      ],
      "metadata": {
        "colab": {
          "base_uri": "https://localhost:8080/",
          "height": 783
        },
        "id": "w8Xacdnk5abw",
        "outputId": "b9a6f5ce-a45b-402f-d4dd-6360deea2760"
      },
      "execution_count": 39,
      "outputs": [
        {
          "output_type": "error",
          "ename": "PythonException",
          "evalue": "ignored",
          "traceback": [
            "\u001b[0;31m---------------------------------------------------------------------------\u001b[0m",
            "\u001b[0;31mPythonException\u001b[0m                           Traceback (most recent call last)",
            "\u001b[0;32m<ipython-input-39-0ff82c358588>\u001b[0m in \u001b[0;36m<cell line: 18>\u001b[0;34m()\u001b[0m\n\u001b[1;32m     16\u001b[0m     outputCol=\"features\")\n\u001b[1;32m     17\u001b[0m \u001b[0;34m\u001b[0m\u001b[0m\n\u001b[0;32m---> 18\u001b[0;31m \u001b[0mtrain_data\u001b[0m \u001b[0;34m=\u001b[0m \u001b[0massembler\u001b[0m\u001b[0;34m.\u001b[0m\u001b[0mtransform\u001b[0m\u001b[0;34m(\u001b[0m\u001b[0mtrain_data\u001b[0m\u001b[0;34m)\u001b[0m\u001b[0;34m\u001b[0m\u001b[0;34m\u001b[0m\u001b[0m\n\u001b[0m\u001b[1;32m     19\u001b[0m \u001b[0mtest_data\u001b[0m \u001b[0;34m=\u001b[0m \u001b[0massembler\u001b[0m\u001b[0;34m.\u001b[0m\u001b[0mtransform\u001b[0m\u001b[0;34m(\u001b[0m\u001b[0mtest_data\u001b[0m\u001b[0;34m)\u001b[0m\u001b[0;34m\u001b[0m\u001b[0;34m\u001b[0m\u001b[0m\n",
            "\u001b[0;32m/content/spark-3.1.2-bin-hadoop2.7/python/pyspark/ml/base.py\u001b[0m in \u001b[0;36mtransform\u001b[0;34m(self, dataset, params)\u001b[0m\n\u001b[1;32m    215\u001b[0m                 \u001b[0;32mreturn\u001b[0m \u001b[0mself\u001b[0m\u001b[0;34m.\u001b[0m\u001b[0mcopy\u001b[0m\u001b[0;34m(\u001b[0m\u001b[0mparams\u001b[0m\u001b[0;34m)\u001b[0m\u001b[0;34m.\u001b[0m\u001b[0m_transform\u001b[0m\u001b[0;34m(\u001b[0m\u001b[0mdataset\u001b[0m\u001b[0;34m)\u001b[0m\u001b[0;34m\u001b[0m\u001b[0;34m\u001b[0m\u001b[0m\n\u001b[1;32m    216\u001b[0m             \u001b[0;32melse\u001b[0m\u001b[0;34m:\u001b[0m\u001b[0;34m\u001b[0m\u001b[0;34m\u001b[0m\u001b[0m\n\u001b[0;32m--> 217\u001b[0;31m                 \u001b[0;32mreturn\u001b[0m \u001b[0mself\u001b[0m\u001b[0;34m.\u001b[0m\u001b[0m_transform\u001b[0m\u001b[0;34m(\u001b[0m\u001b[0mdataset\u001b[0m\u001b[0;34m)\u001b[0m\u001b[0;34m\u001b[0m\u001b[0;34m\u001b[0m\u001b[0m\n\u001b[0m\u001b[1;32m    218\u001b[0m         \u001b[0;32melse\u001b[0m\u001b[0;34m:\u001b[0m\u001b[0;34m\u001b[0m\u001b[0;34m\u001b[0m\u001b[0m\n\u001b[1;32m    219\u001b[0m             \u001b[0;32mraise\u001b[0m \u001b[0mValueError\u001b[0m\u001b[0;34m(\u001b[0m\u001b[0;34m\"Params must be a param map but got %s.\"\u001b[0m \u001b[0;34m%\u001b[0m \u001b[0mtype\u001b[0m\u001b[0;34m(\u001b[0m\u001b[0mparams\u001b[0m\u001b[0;34m)\u001b[0m\u001b[0;34m)\u001b[0m\u001b[0;34m\u001b[0m\u001b[0;34m\u001b[0m\u001b[0m\n",
            "\u001b[0;32m/content/spark-3.1.2-bin-hadoop2.7/python/pyspark/ml/wrapper.py\u001b[0m in \u001b[0;36m_transform\u001b[0;34m(self, dataset)\u001b[0m\n\u001b[1;32m    348\u001b[0m     \u001b[0;32mdef\u001b[0m \u001b[0m_transform\u001b[0m\u001b[0;34m(\u001b[0m\u001b[0mself\u001b[0m\u001b[0;34m,\u001b[0m \u001b[0mdataset\u001b[0m\u001b[0;34m)\u001b[0m\u001b[0;34m:\u001b[0m\u001b[0;34m\u001b[0m\u001b[0;34m\u001b[0m\u001b[0m\n\u001b[1;32m    349\u001b[0m         \u001b[0mself\u001b[0m\u001b[0;34m.\u001b[0m\u001b[0m_transfer_params_to_java\u001b[0m\u001b[0;34m(\u001b[0m\u001b[0;34m)\u001b[0m\u001b[0;34m\u001b[0m\u001b[0;34m\u001b[0m\u001b[0m\n\u001b[0;32m--> 350\u001b[0;31m         \u001b[0;32mreturn\u001b[0m \u001b[0mDataFrame\u001b[0m\u001b[0;34m(\u001b[0m\u001b[0mself\u001b[0m\u001b[0;34m.\u001b[0m\u001b[0m_java_obj\u001b[0m\u001b[0;34m.\u001b[0m\u001b[0mtransform\u001b[0m\u001b[0;34m(\u001b[0m\u001b[0mdataset\u001b[0m\u001b[0;34m.\u001b[0m\u001b[0m_jdf\u001b[0m\u001b[0;34m)\u001b[0m\u001b[0;34m,\u001b[0m \u001b[0mdataset\u001b[0m\u001b[0;34m.\u001b[0m\u001b[0msql_ctx\u001b[0m\u001b[0;34m)\u001b[0m\u001b[0;34m\u001b[0m\u001b[0;34m\u001b[0m\u001b[0m\n\u001b[0m\u001b[1;32m    351\u001b[0m \u001b[0;34m\u001b[0m\u001b[0m\n\u001b[1;32m    352\u001b[0m \u001b[0;34m\u001b[0m\u001b[0m\n",
            "\u001b[0;32m/content/spark-3.1.2-bin-hadoop2.7/python/lib/py4j-0.10.9-src.zip/py4j/java_gateway.py\u001b[0m in \u001b[0;36m__call__\u001b[0;34m(self, *args)\u001b[0m\n\u001b[1;32m   1302\u001b[0m \u001b[0;34m\u001b[0m\u001b[0m\n\u001b[1;32m   1303\u001b[0m         \u001b[0manswer\u001b[0m \u001b[0;34m=\u001b[0m \u001b[0mself\u001b[0m\u001b[0;34m.\u001b[0m\u001b[0mgateway_client\u001b[0m\u001b[0;34m.\u001b[0m\u001b[0msend_command\u001b[0m\u001b[0;34m(\u001b[0m\u001b[0mcommand\u001b[0m\u001b[0;34m)\u001b[0m\u001b[0;34m\u001b[0m\u001b[0;34m\u001b[0m\u001b[0m\n\u001b[0;32m-> 1304\u001b[0;31m         return_value = get_return_value(\n\u001b[0m\u001b[1;32m   1305\u001b[0m             answer, self.gateway_client, self.target_id, self.name)\n\u001b[1;32m   1306\u001b[0m \u001b[0;34m\u001b[0m\u001b[0m\n",
            "\u001b[0;32m/content/spark-3.1.2-bin-hadoop2.7/python/pyspark/sql/utils.py\u001b[0m in \u001b[0;36mdeco\u001b[0;34m(*a, **kw)\u001b[0m\n\u001b[1;32m    115\u001b[0m                 \u001b[0;31m# Hide where the exception came from that shows a non-Pythonic\u001b[0m\u001b[0;34m\u001b[0m\u001b[0;34m\u001b[0m\u001b[0m\n\u001b[1;32m    116\u001b[0m                 \u001b[0;31m# JVM exception message.\u001b[0m\u001b[0;34m\u001b[0m\u001b[0;34m\u001b[0m\u001b[0m\n\u001b[0;32m--> 117\u001b[0;31m                 \u001b[0;32mraise\u001b[0m \u001b[0mconverted\u001b[0m \u001b[0;32mfrom\u001b[0m \u001b[0;32mNone\u001b[0m\u001b[0;34m\u001b[0m\u001b[0;34m\u001b[0m\u001b[0m\n\u001b[0m\u001b[1;32m    118\u001b[0m             \u001b[0;32melse\u001b[0m\u001b[0;34m:\u001b[0m\u001b[0;34m\u001b[0m\u001b[0;34m\u001b[0m\u001b[0m\n\u001b[1;32m    119\u001b[0m                 \u001b[0;32mraise\u001b[0m\u001b[0;34m\u001b[0m\u001b[0;34m\u001b[0m\u001b[0m\n",
            "\u001b[0;31mPythonException\u001b[0m: \n  An exception was thrown from the Python worker. Please see the stack trace below.\nTraceback (most recent call last):\n  File \"/content/spark-3.1.2-bin-hadoop2.7/python/lib/pyspark.zip/pyspark/worker.py\", line 604, in main\n    process()\n  File \"/content/spark-3.1.2-bin-hadoop2.7/python/lib/pyspark.zip/pyspark/worker.py\", line 596, in process\n    serializer.dump_stream(out_iter, outfile)\n  File \"/content/spark-3.1.2-bin-hadoop2.7/python/lib/pyspark.zip/pyspark/serializers.py\", line 211, in dump_stream\n    self.serializer.dump_stream(self._batched(iterator), stream)\n  File \"/content/spark-3.1.2-bin-hadoop2.7/python/lib/pyspark.zip/pyspark/serializers.py\", line 132, in dump_stream\n    for obj in iterator:\n  File \"/content/spark-3.1.2-bin-hadoop2.7/python/lib/pyspark.zip/pyspark/serializers.py\", line 200, in _batched\n    for item in iterator:\n  File \"/content/spark-3.1.2-bin-hadoop2.7/python/lib/pyspark.zip/pyspark/worker.py\", line 450, in mapper\n    result = tuple(f(*[a[o] for o in arg_offsets]) for (arg_offsets, f) in udfs)\n  File \"/content/spark-3.1.2-bin-hadoop2.7/python/lib/pyspark.zip/pyspark/worker.py\", line 450, in <genexpr>\n    result = tuple(f(*[a[o] for o in arg_offsets]) for (arg_offsets, f) in udfs)\n  File \"/content/spark-3.1.2-bin-hadoop2.7/python/lib/pyspark.zip/pyspark/worker.py\", line 83, in <lambda>\n    return lambda *a: toInternal(f(*a))\n  File \"/content/spark-3.1.2-bin-hadoop2.7/python/lib/pyspark.zip/pyspark/sql/types.py\", line 704, in toInternal\n    return self._cachedSqlType().toInternal(self.serialize(obj))\n  File \"/content/spark-3.1.2-bin-hadoop2.7/python/lib/pyspark.zip/pyspark/ml/linalg/__init__.py\", line 149, in serialize\n    values = [float(v) for v in obj]\n  File \"/content/spark-3.1.2-bin-hadoop2.7/python/lib/pyspark.zip/pyspark/ml/linalg/__init__.py\", line 149, in <listcomp>\n    values = [float(v) for v in obj]\nTypeError: only size-1 arrays can be converted to Python scalars\n"
          ]
        }
      ]
    },
    {
      "cell_type": "code",
      "source": [
        "from sparknlp.base import EmbeddingsFinisher\n",
        "\n",
        "# Create an EmbeddingsFinisher\n",
        "finisher = EmbeddingsFinisher() \\\n",
        "    .setInputCols([\"sentence_embeddings\"]) \\\n",
        "    .setOutputCols([\"finished_sentence_embeddings\"]) \\\n",
        "    .setOutputAsVector(True) \\\n",
        "    .setCleanAnnotations(False)\n",
        "\n",
        "# Transform the data\n",
        "data_clean = finisher.transform(data_clean)\n",
        "\n",
        "# Now you can use the VectorAssembler\n",
        "assembler = VectorAssembler(\n",
        "    inputCols=[\"finished_sentence_embeddings\"],\n",
        "    outputCol=\"features\")\n",
        "\n",
        "train_data = assembler.transform(train_data)\n",
        "test_data = assembler.transform(test_data)\n"
      ],
      "metadata": {
        "colab": {
          "base_uri": "https://localhost:8080/",
          "height": 375
        },
        "id": "TRo2vxU-4xCm",
        "outputId": "25277219-5e60-4f20-f06f-afce952c3d65"
      },
      "execution_count": 36,
      "outputs": [
        {
          "output_type": "error",
          "ename": "IllegalArgumentException",
          "evalue": "ignored",
          "traceback": [
            "\u001b[0;31m---------------------------------------------------------------------------\u001b[0m",
            "\u001b[0;31mIllegalArgumentException\u001b[0m                  Traceback (most recent call last)",
            "\u001b[0;32m<ipython-input-36-838d18f2b845>\u001b[0m in \u001b[0;36m<cell line: 18>\u001b[0;34m()\u001b[0m\n\u001b[1;32m     16\u001b[0m     outputCol=\"features\")\n\u001b[1;32m     17\u001b[0m \u001b[0;34m\u001b[0m\u001b[0m\n\u001b[0;32m---> 18\u001b[0;31m \u001b[0mtrain_data\u001b[0m \u001b[0;34m=\u001b[0m \u001b[0massembler\u001b[0m\u001b[0;34m.\u001b[0m\u001b[0mtransform\u001b[0m\u001b[0;34m(\u001b[0m\u001b[0mtrain_data\u001b[0m\u001b[0;34m)\u001b[0m\u001b[0;34m\u001b[0m\u001b[0;34m\u001b[0m\u001b[0m\n\u001b[0m\u001b[1;32m     19\u001b[0m \u001b[0mtest_data\u001b[0m \u001b[0;34m=\u001b[0m \u001b[0massembler\u001b[0m\u001b[0;34m.\u001b[0m\u001b[0mtransform\u001b[0m\u001b[0;34m(\u001b[0m\u001b[0mtest_data\u001b[0m\u001b[0;34m)\u001b[0m\u001b[0;34m\u001b[0m\u001b[0;34m\u001b[0m\u001b[0m\n",
            "\u001b[0;32m/content/spark-3.1.2-bin-hadoop2.7/python/pyspark/ml/base.py\u001b[0m in \u001b[0;36mtransform\u001b[0;34m(self, dataset, params)\u001b[0m\n\u001b[1;32m    215\u001b[0m                 \u001b[0;32mreturn\u001b[0m \u001b[0mself\u001b[0m\u001b[0;34m.\u001b[0m\u001b[0mcopy\u001b[0m\u001b[0;34m(\u001b[0m\u001b[0mparams\u001b[0m\u001b[0;34m)\u001b[0m\u001b[0;34m.\u001b[0m\u001b[0m_transform\u001b[0m\u001b[0;34m(\u001b[0m\u001b[0mdataset\u001b[0m\u001b[0;34m)\u001b[0m\u001b[0;34m\u001b[0m\u001b[0;34m\u001b[0m\u001b[0m\n\u001b[1;32m    216\u001b[0m             \u001b[0;32melse\u001b[0m\u001b[0;34m:\u001b[0m\u001b[0;34m\u001b[0m\u001b[0;34m\u001b[0m\u001b[0m\n\u001b[0;32m--> 217\u001b[0;31m                 \u001b[0;32mreturn\u001b[0m \u001b[0mself\u001b[0m\u001b[0;34m.\u001b[0m\u001b[0m_transform\u001b[0m\u001b[0;34m(\u001b[0m\u001b[0mdataset\u001b[0m\u001b[0;34m)\u001b[0m\u001b[0;34m\u001b[0m\u001b[0;34m\u001b[0m\u001b[0m\n\u001b[0m\u001b[1;32m    218\u001b[0m         \u001b[0;32melse\u001b[0m\u001b[0;34m:\u001b[0m\u001b[0;34m\u001b[0m\u001b[0;34m\u001b[0m\u001b[0m\n\u001b[1;32m    219\u001b[0m             \u001b[0;32mraise\u001b[0m \u001b[0mValueError\u001b[0m\u001b[0;34m(\u001b[0m\u001b[0;34m\"Params must be a param map but got %s.\"\u001b[0m \u001b[0;34m%\u001b[0m \u001b[0mtype\u001b[0m\u001b[0;34m(\u001b[0m\u001b[0mparams\u001b[0m\u001b[0;34m)\u001b[0m\u001b[0;34m)\u001b[0m\u001b[0;34m\u001b[0m\u001b[0;34m\u001b[0m\u001b[0m\n",
            "\u001b[0;32m/content/spark-3.1.2-bin-hadoop2.7/python/pyspark/ml/wrapper.py\u001b[0m in \u001b[0;36m_transform\u001b[0;34m(self, dataset)\u001b[0m\n\u001b[1;32m    348\u001b[0m     \u001b[0;32mdef\u001b[0m \u001b[0m_transform\u001b[0m\u001b[0;34m(\u001b[0m\u001b[0mself\u001b[0m\u001b[0;34m,\u001b[0m \u001b[0mdataset\u001b[0m\u001b[0;34m)\u001b[0m\u001b[0;34m:\u001b[0m\u001b[0;34m\u001b[0m\u001b[0;34m\u001b[0m\u001b[0m\n\u001b[1;32m    349\u001b[0m         \u001b[0mself\u001b[0m\u001b[0;34m.\u001b[0m\u001b[0m_transfer_params_to_java\u001b[0m\u001b[0;34m(\u001b[0m\u001b[0;34m)\u001b[0m\u001b[0;34m\u001b[0m\u001b[0;34m\u001b[0m\u001b[0m\n\u001b[0;32m--> 350\u001b[0;31m         \u001b[0;32mreturn\u001b[0m \u001b[0mDataFrame\u001b[0m\u001b[0;34m(\u001b[0m\u001b[0mself\u001b[0m\u001b[0;34m.\u001b[0m\u001b[0m_java_obj\u001b[0m\u001b[0;34m.\u001b[0m\u001b[0mtransform\u001b[0m\u001b[0;34m(\u001b[0m\u001b[0mdataset\u001b[0m\u001b[0;34m.\u001b[0m\u001b[0m_jdf\u001b[0m\u001b[0;34m)\u001b[0m\u001b[0;34m,\u001b[0m \u001b[0mdataset\u001b[0m\u001b[0;34m.\u001b[0m\u001b[0msql_ctx\u001b[0m\u001b[0;34m)\u001b[0m\u001b[0;34m\u001b[0m\u001b[0;34m\u001b[0m\u001b[0m\n\u001b[0m\u001b[1;32m    351\u001b[0m \u001b[0;34m\u001b[0m\u001b[0m\n\u001b[1;32m    352\u001b[0m \u001b[0;34m\u001b[0m\u001b[0m\n",
            "\u001b[0;32m/content/spark-3.1.2-bin-hadoop2.7/python/lib/py4j-0.10.9-src.zip/py4j/java_gateway.py\u001b[0m in \u001b[0;36m__call__\u001b[0;34m(self, *args)\u001b[0m\n\u001b[1;32m   1302\u001b[0m \u001b[0;34m\u001b[0m\u001b[0m\n\u001b[1;32m   1303\u001b[0m         \u001b[0manswer\u001b[0m \u001b[0;34m=\u001b[0m \u001b[0mself\u001b[0m\u001b[0;34m.\u001b[0m\u001b[0mgateway_client\u001b[0m\u001b[0;34m.\u001b[0m\u001b[0msend_command\u001b[0m\u001b[0;34m(\u001b[0m\u001b[0mcommand\u001b[0m\u001b[0;34m)\u001b[0m\u001b[0;34m\u001b[0m\u001b[0;34m\u001b[0m\u001b[0m\n\u001b[0;32m-> 1304\u001b[0;31m         return_value = get_return_value(\n\u001b[0m\u001b[1;32m   1305\u001b[0m             answer, self.gateway_client, self.target_id, self.name)\n\u001b[1;32m   1306\u001b[0m \u001b[0;34m\u001b[0m\u001b[0m\n",
            "\u001b[0;32m/content/spark-3.1.2-bin-hadoop2.7/python/pyspark/sql/utils.py\u001b[0m in \u001b[0;36mdeco\u001b[0;34m(*a, **kw)\u001b[0m\n\u001b[1;32m    115\u001b[0m                 \u001b[0;31m# Hide where the exception came from that shows a non-Pythonic\u001b[0m\u001b[0;34m\u001b[0m\u001b[0;34m\u001b[0m\u001b[0m\n\u001b[1;32m    116\u001b[0m                 \u001b[0;31m# JVM exception message.\u001b[0m\u001b[0;34m\u001b[0m\u001b[0;34m\u001b[0m\u001b[0m\n\u001b[0;32m--> 117\u001b[0;31m                 \u001b[0;32mraise\u001b[0m \u001b[0mconverted\u001b[0m \u001b[0;32mfrom\u001b[0m \u001b[0;32mNone\u001b[0m\u001b[0;34m\u001b[0m\u001b[0;34m\u001b[0m\u001b[0m\n\u001b[0m\u001b[1;32m    118\u001b[0m             \u001b[0;32melse\u001b[0m\u001b[0;34m:\u001b[0m\u001b[0;34m\u001b[0m\u001b[0;34m\u001b[0m\u001b[0m\n\u001b[1;32m    119\u001b[0m                 \u001b[0;32mraise\u001b[0m\u001b[0;34m\u001b[0m\u001b[0;34m\u001b[0m\u001b[0m\n",
            "\u001b[0;31mIllegalArgumentException\u001b[0m: finished_sentence_embeddings does not exist. Available: condition_label, medical_abstract, document, token, normalized, clean_tokens, embeddings, sentence_embeddings, clean_text"
          ]
        }
      ]
    },
    {
      "cell_type": "code",
      "source": [
        "from sparknlp.functions import map_annotations_col\n",
        "from pyspark.sql.functions import udf\n",
        "from pyspark.ml.linalg import VectorUDT, Vectors\n",
        "\n",
        "# Define a UDF to flatten the sentence_embeddings column\n",
        "flatten = udf(lambda v: Vectors.dense(v), VectorUDT())\n",
        "\n",
        "# Apply the UDF to the sentence_embeddings column\n",
        "data_clean = data_clean.withColumn(\"sentence_embeddings\", flatten(map_annotations_col(\"sentence_embeddings\")))\n",
        "\n",
        "# Now you can use the VectorAssembler\n",
        "assembler = VectorAssembler(\n",
        "    inputCols=[\"sentence_embeddings\"],\n",
        "    outputCol=\"features\")\n",
        "\n",
        "train_data = assembler.transform(train_data)\n",
        "test_data = assembler.transform(test_data)\n"
      ],
      "metadata": {
        "colab": {
          "base_uri": "https://localhost:8080/",
          "height": 232
        },
        "id": "8ABvO-154iPN",
        "outputId": "5bba6253-caad-491a-e6c9-3d91eeafd693"
      },
      "execution_count": 35,
      "outputs": [
        {
          "output_type": "error",
          "ename": "TypeError",
          "evalue": "ignored",
          "traceback": [
            "\u001b[0;31m---------------------------------------------------------------------------\u001b[0m",
            "\u001b[0;31mTypeError\u001b[0m                                 Traceback (most recent call last)",
            "\u001b[0;32m<ipython-input-35-a161fc414fed>\u001b[0m in \u001b[0;36m<cell line: 9>\u001b[0;34m()\u001b[0m\n\u001b[1;32m      7\u001b[0m \u001b[0;34m\u001b[0m\u001b[0m\n\u001b[1;32m      8\u001b[0m \u001b[0;31m# Apply the UDF to the sentence_embeddings column\u001b[0m\u001b[0;34m\u001b[0m\u001b[0;34m\u001b[0m\u001b[0m\n\u001b[0;32m----> 9\u001b[0;31m \u001b[0mdata_clean\u001b[0m \u001b[0;34m=\u001b[0m \u001b[0mdata_clean\u001b[0m\u001b[0;34m.\u001b[0m\u001b[0mwithColumn\u001b[0m\u001b[0;34m(\u001b[0m\u001b[0;34m\"sentence_embeddings\"\u001b[0m\u001b[0;34m,\u001b[0m \u001b[0mflatten\u001b[0m\u001b[0;34m(\u001b[0m\u001b[0mmap_annotations_col\u001b[0m\u001b[0;34m(\u001b[0m\u001b[0;34m\"sentence_embeddings\"\u001b[0m\u001b[0;34m)\u001b[0m\u001b[0;34m)\u001b[0m\u001b[0;34m)\u001b[0m\u001b[0;34m\u001b[0m\u001b[0;34m\u001b[0m\u001b[0m\n\u001b[0m\u001b[1;32m     10\u001b[0m \u001b[0;34m\u001b[0m\u001b[0m\n\u001b[1;32m     11\u001b[0m \u001b[0;31m# Now you can use the VectorAssembler\u001b[0m\u001b[0;34m\u001b[0m\u001b[0;34m\u001b[0m\u001b[0m\n",
            "\u001b[0;31mTypeError\u001b[0m: map_annotations_col() missing 4 required positional arguments: 'f', 'column', 'output_column', and 'annotatyon_type'"
          ]
        }
      ]
    },
    {
      "cell_type": "code",
      "source": [
        "from pyspark.ml.classification import LogisticRegression\n",
        "from pyspark.ml.linalg import Vectors\n",
        "from pyspark.ml.feature import VectorAssembler\n",
        "\n",
        "# Convert the sentence embeddings to a format that can be used by the ML model\n",
        "assembler = VectorAssembler(\n",
        "    inputCols=[\"sentence_embeddings\"],\n",
        "    outputCol=\"features\")\n",
        "\n",
        "train_data = assembler.transform(train_data)\n",
        "test_data = assembler.transform(test_data)\n",
        "\n",
        "# Create a logistic regression model\n",
        "lr = LogisticRegression(featuresCol='features', labelCol='condition_label')\n",
        "\n",
        "# Train the model\n",
        "lr_model = lr.fit(train_data)\n",
        "\n",
        "# Make predictions on the test data\n",
        "predictions = lr_model.transform(test_data)\n",
        "\n",
        "# Evaluate the model\n",
        "from pyspark.ml.evaluation import MulticlassClassificationEvaluator\n",
        "\n",
        "evaluator = MulticlassClassificationEvaluator(\n",
        "    labelCol=\"condition_label\", predictionCol=\"prediction\", metricName=\"accuracy\")\n",
        "accuracy = evaluator.evaluate(predictions)\n",
        "print(\"Test set accuracy = \" + str(accuracy))\n"
      ],
      "metadata": {
        "colab": {
          "base_uri": "https://localhost:8080/",
          "height": 392
        },
        "id": "QPX5eU1w4NuA",
        "outputId": "48ee08f8-d24a-4517-a39e-9d5baef95247"
      },
      "execution_count": 34,
      "outputs": [
        {
          "output_type": "error",
          "ename": "IllegalArgumentException",
          "evalue": "ignored",
          "traceback": [
            "\u001b[0;31m---------------------------------------------------------------------------\u001b[0m",
            "\u001b[0;31mIllegalArgumentException\u001b[0m                  Traceback (most recent call last)",
            "\u001b[0;32m<ipython-input-34-1b08f6b02cf7>\u001b[0m in \u001b[0;36m<cell line: 10>\u001b[0;34m()\u001b[0m\n\u001b[1;32m      8\u001b[0m     outputCol=\"features\")\n\u001b[1;32m      9\u001b[0m \u001b[0;34m\u001b[0m\u001b[0m\n\u001b[0;32m---> 10\u001b[0;31m \u001b[0mtrain_data\u001b[0m \u001b[0;34m=\u001b[0m \u001b[0massembler\u001b[0m\u001b[0;34m.\u001b[0m\u001b[0mtransform\u001b[0m\u001b[0;34m(\u001b[0m\u001b[0mtrain_data\u001b[0m\u001b[0;34m)\u001b[0m\u001b[0;34m\u001b[0m\u001b[0;34m\u001b[0m\u001b[0m\n\u001b[0m\u001b[1;32m     11\u001b[0m \u001b[0mtest_data\u001b[0m \u001b[0;34m=\u001b[0m \u001b[0massembler\u001b[0m\u001b[0;34m.\u001b[0m\u001b[0mtransform\u001b[0m\u001b[0;34m(\u001b[0m\u001b[0mtest_data\u001b[0m\u001b[0;34m)\u001b[0m\u001b[0;34m\u001b[0m\u001b[0;34m\u001b[0m\u001b[0m\n\u001b[1;32m     12\u001b[0m \u001b[0;34m\u001b[0m\u001b[0m\n",
            "\u001b[0;32m/content/spark-3.1.2-bin-hadoop2.7/python/pyspark/ml/base.py\u001b[0m in \u001b[0;36mtransform\u001b[0;34m(self, dataset, params)\u001b[0m\n\u001b[1;32m    215\u001b[0m                 \u001b[0;32mreturn\u001b[0m \u001b[0mself\u001b[0m\u001b[0;34m.\u001b[0m\u001b[0mcopy\u001b[0m\u001b[0;34m(\u001b[0m\u001b[0mparams\u001b[0m\u001b[0;34m)\u001b[0m\u001b[0;34m.\u001b[0m\u001b[0m_transform\u001b[0m\u001b[0;34m(\u001b[0m\u001b[0mdataset\u001b[0m\u001b[0;34m)\u001b[0m\u001b[0;34m\u001b[0m\u001b[0;34m\u001b[0m\u001b[0m\n\u001b[1;32m    216\u001b[0m             \u001b[0;32melse\u001b[0m\u001b[0;34m:\u001b[0m\u001b[0;34m\u001b[0m\u001b[0;34m\u001b[0m\u001b[0m\n\u001b[0;32m--> 217\u001b[0;31m                 \u001b[0;32mreturn\u001b[0m \u001b[0mself\u001b[0m\u001b[0;34m.\u001b[0m\u001b[0m_transform\u001b[0m\u001b[0;34m(\u001b[0m\u001b[0mdataset\u001b[0m\u001b[0;34m)\u001b[0m\u001b[0;34m\u001b[0m\u001b[0;34m\u001b[0m\u001b[0m\n\u001b[0m\u001b[1;32m    218\u001b[0m         \u001b[0;32melse\u001b[0m\u001b[0;34m:\u001b[0m\u001b[0;34m\u001b[0m\u001b[0;34m\u001b[0m\u001b[0m\n\u001b[1;32m    219\u001b[0m             \u001b[0;32mraise\u001b[0m \u001b[0mValueError\u001b[0m\u001b[0;34m(\u001b[0m\u001b[0;34m\"Params must be a param map but got %s.\"\u001b[0m \u001b[0;34m%\u001b[0m \u001b[0mtype\u001b[0m\u001b[0;34m(\u001b[0m\u001b[0mparams\u001b[0m\u001b[0;34m)\u001b[0m\u001b[0;34m)\u001b[0m\u001b[0;34m\u001b[0m\u001b[0;34m\u001b[0m\u001b[0m\n",
            "\u001b[0;32m/content/spark-3.1.2-bin-hadoop2.7/python/pyspark/ml/wrapper.py\u001b[0m in \u001b[0;36m_transform\u001b[0;34m(self, dataset)\u001b[0m\n\u001b[1;32m    348\u001b[0m     \u001b[0;32mdef\u001b[0m \u001b[0m_transform\u001b[0m\u001b[0;34m(\u001b[0m\u001b[0mself\u001b[0m\u001b[0;34m,\u001b[0m \u001b[0mdataset\u001b[0m\u001b[0;34m)\u001b[0m\u001b[0;34m:\u001b[0m\u001b[0;34m\u001b[0m\u001b[0;34m\u001b[0m\u001b[0m\n\u001b[1;32m    349\u001b[0m         \u001b[0mself\u001b[0m\u001b[0;34m.\u001b[0m\u001b[0m_transfer_params_to_java\u001b[0m\u001b[0;34m(\u001b[0m\u001b[0;34m)\u001b[0m\u001b[0;34m\u001b[0m\u001b[0;34m\u001b[0m\u001b[0m\n\u001b[0;32m--> 350\u001b[0;31m         \u001b[0;32mreturn\u001b[0m \u001b[0mDataFrame\u001b[0m\u001b[0;34m(\u001b[0m\u001b[0mself\u001b[0m\u001b[0;34m.\u001b[0m\u001b[0m_java_obj\u001b[0m\u001b[0;34m.\u001b[0m\u001b[0mtransform\u001b[0m\u001b[0;34m(\u001b[0m\u001b[0mdataset\u001b[0m\u001b[0;34m.\u001b[0m\u001b[0m_jdf\u001b[0m\u001b[0;34m)\u001b[0m\u001b[0;34m,\u001b[0m \u001b[0mdataset\u001b[0m\u001b[0;34m.\u001b[0m\u001b[0msql_ctx\u001b[0m\u001b[0;34m)\u001b[0m\u001b[0;34m\u001b[0m\u001b[0;34m\u001b[0m\u001b[0m\n\u001b[0m\u001b[1;32m    351\u001b[0m \u001b[0;34m\u001b[0m\u001b[0m\n\u001b[1;32m    352\u001b[0m \u001b[0;34m\u001b[0m\u001b[0m\n",
            "\u001b[0;32m/content/spark-3.1.2-bin-hadoop2.7/python/lib/py4j-0.10.9-src.zip/py4j/java_gateway.py\u001b[0m in \u001b[0;36m__call__\u001b[0;34m(self, *args)\u001b[0m\n\u001b[1;32m   1302\u001b[0m \u001b[0;34m\u001b[0m\u001b[0m\n\u001b[1;32m   1303\u001b[0m         \u001b[0manswer\u001b[0m \u001b[0;34m=\u001b[0m \u001b[0mself\u001b[0m\u001b[0;34m.\u001b[0m\u001b[0mgateway_client\u001b[0m\u001b[0;34m.\u001b[0m\u001b[0msend_command\u001b[0m\u001b[0;34m(\u001b[0m\u001b[0mcommand\u001b[0m\u001b[0;34m)\u001b[0m\u001b[0;34m\u001b[0m\u001b[0;34m\u001b[0m\u001b[0m\n\u001b[0;32m-> 1304\u001b[0;31m         return_value = get_return_value(\n\u001b[0m\u001b[1;32m   1305\u001b[0m             answer, self.gateway_client, self.target_id, self.name)\n\u001b[1;32m   1306\u001b[0m \u001b[0;34m\u001b[0m\u001b[0m\n",
            "\u001b[0;32m/content/spark-3.1.2-bin-hadoop2.7/python/pyspark/sql/utils.py\u001b[0m in \u001b[0;36mdeco\u001b[0;34m(*a, **kw)\u001b[0m\n\u001b[1;32m    115\u001b[0m                 \u001b[0;31m# Hide where the exception came from that shows a non-Pythonic\u001b[0m\u001b[0;34m\u001b[0m\u001b[0;34m\u001b[0m\u001b[0m\n\u001b[1;32m    116\u001b[0m                 \u001b[0;31m# JVM exception message.\u001b[0m\u001b[0;34m\u001b[0m\u001b[0;34m\u001b[0m\u001b[0m\n\u001b[0;32m--> 117\u001b[0;31m                 \u001b[0;32mraise\u001b[0m \u001b[0mconverted\u001b[0m \u001b[0;32mfrom\u001b[0m \u001b[0;32mNone\u001b[0m\u001b[0;34m\u001b[0m\u001b[0;34m\u001b[0m\u001b[0m\n\u001b[0m\u001b[1;32m    118\u001b[0m             \u001b[0;32melse\u001b[0m\u001b[0;34m:\u001b[0m\u001b[0;34m\u001b[0m\u001b[0;34m\u001b[0m\u001b[0m\n\u001b[1;32m    119\u001b[0m                 \u001b[0;32mraise\u001b[0m\u001b[0;34m\u001b[0m\u001b[0;34m\u001b[0m\u001b[0m\n",
            "\u001b[0;31mIllegalArgumentException\u001b[0m: Data type array<struct<annotatorType:string,begin:int,end:int,result:string,metadata:map<string,string>,embeddings:array<float>>> of column sentence_embeddings is not supported."
          ]
        }
      ]
    }
  ]
}