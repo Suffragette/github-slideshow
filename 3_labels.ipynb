{
  "nbformat": 4,
  "nbformat_minor": 0,
  "metadata": {
    "colab": {
      "provenance": [],
      "authorship_tag": "ABX9TyMlr6rJrj92MjxrYPerPwIm",
      "include_colab_link": true
    },
    "kernelspec": {
      "name": "python3",
      "display_name": "Python 3"
    },
    "language_info": {
      "name": "python"
    }
  },
  "cells": [
    {
      "cell_type": "markdown",
      "metadata": {
        "id": "view-in-github",
        "colab_type": "text"
      },
      "source": [
        "<a href=\"https://colab.research.google.com/github/Suffragette/github-slideshow/blob/master/3_labels.ipynb\" target=\"_parent\"><img src=\"https://colab.research.google.com/assets/colab-badge.svg\" alt=\"Open In Colab\"/></a>"
      ]
    },
    {
      "cell_type": "code",
      "source": [
        "!apt-get update\n",
        "!apt-get install openjdk-8-jdk-headless -qq > /dev/null\n",
        "!wget -q https://archive.apache.org/dist/spark/spark-3.1.2/spark-3.1.2-bin-hadoop2.7.tgz\n",
        "!tar xf spark-3.1.2-bin-hadoop2.7.tgz\n",
        "!pip install -q findspark\n",
        "!pip install pyspark==3.1.2\n",
        "!pip install spark-nlp==3.3.1\n",
        "\n",
        "import os\n",
        "os.environ[\"JAVA_HOME\"] = \"/usr/lib/jvm/java-8-openjdk-amd64\"\n",
        "os.environ[\"SPARK_HOME\"] = \"/content/spark-3.1.2-bin-hadoop2.7\"\n",
        "\n",
        "import findspark\n",
        "findspark.init()\n",
        "\n",
        "from pyspark.sql import SparkSession\n",
        "import sparknlp\n",
        "\n",
        "spark = SparkSession.builder \\\n",
        "    .appName(\"Spark NLP\") \\\n",
        "    .master(\"local[4]\") \\\n",
        "    .config(\"spark.driver.memory\",\"16G\") \\\n",
        "    .config(\"spark.driver.maxResultSize\", \"0\") \\\n",
        "    .config(\"spark.kryoserializer.buffer.max\", \"2000M\") \\\n",
        "    .config(\"spark.jars.packages\", \"com.johnsnowlabs.nlp:spark-nlp_2.12:3.3.1\") \\\n",
        "    .getOrCreate()\n",
        "\n",
        "print(\"Spark NLP version: \", sparknlp.version())\n",
        "print(\"Apache Spark version: \", spark.version)\n"
      ],
      "metadata": {
        "id": "Duo0jJKTReHL",
        "colab": {
          "base_uri": "https://localhost:8080/"
        },
        "outputId": "0cfdb267-e112-495d-ecce-f254cb11e2df"
      },
      "execution_count": 55,
      "outputs": [
        {
          "output_type": "stream",
          "name": "stdout",
          "text": [
            "\r0% [Working]\r            \rGet:1 http://security.ubuntu.com/ubuntu focal-security InRelease [114 kB]\n",
            "\r0% [Connecting to archive.ubuntu.com] [1 InRelease 14.2 kB/114 kB 12%] [Connect\r                                                                               \rHit:2 https://cloud.r-project.org/bin/linux/ubuntu focal-cran40/ InRelease\n",
            "\r0% [Connecting to archive.ubuntu.com (91.189.91.38)] [1 InRelease 47.5 kB/114 k\r                                                                               \rHit:3 https://developer.download.nvidia.com/compute/cuda/repos/ubuntu2004/x86_64  InRelease\n",
            "\r0% [Waiting for headers] [1 InRelease 59.1 kB/114 kB 52%] [Connecting to ppa.la\r                                                                               \rHit:4 http://archive.ubuntu.com/ubuntu focal InRelease\n",
            "\r0% [1 InRelease 108 kB/114 kB 95%] [Connecting to ppa.launchpad.net (185.125.19\r                                                                               \r0% [Waiting for headers] [Connecting to ppa.launchpad.net (185.125.190.52)]\r                                                                           \rGet:5 http://archive.ubuntu.com/ubuntu focal-updates InRelease [114 kB]\n",
            "Hit:6 http://ppa.launchpad.net/c2d4u.team/c2d4u4.0+/ubuntu focal InRelease\n",
            "Get:7 http://archive.ubuntu.com/ubuntu focal-backports InRelease [108 kB]\n",
            "Hit:8 http://ppa.launchpad.net/cran/libgit2/ubuntu focal InRelease\n",
            "Hit:9 http://ppa.launchpad.net/deadsnakes/ppa/ubuntu focal InRelease\n",
            "Hit:10 http://ppa.launchpad.net/graphics-drivers/ppa/ubuntu focal InRelease\n",
            "Hit:11 http://ppa.launchpad.net/ubuntugis/ppa/ubuntu focal InRelease\n",
            "Fetched 336 kB in 1s (237 kB/s)\n",
            "Reading package lists... Done\n",
            "Requirement already satisfied: pyspark==3.1.2 in /usr/local/lib/python3.10/dist-packages (3.1.2)\n",
            "Requirement already satisfied: py4j==0.10.9 in /usr/local/lib/python3.10/dist-packages (from pyspark==3.1.2) (0.10.9)\n",
            "Requirement already satisfied: spark-nlp==3.3.1 in /usr/local/lib/python3.10/dist-packages (3.3.1)\n",
            "Spark NLP version:  3.3.1\n",
            "Apache Spark version:  3.1.2\n"
          ]
        }
      ]
    },
    {
      "cell_type": "code",
      "source": [
        "from google.colab import drive\n",
        "drive.mount('/content/drive')\n"
      ],
      "metadata": {
        "id": "OwpjxuaVTbkm",
        "colab": {
          "base_uri": "https://localhost:8080/"
        },
        "outputId": "98f607b0-968c-4d6c-8d0e-ea3ada50008f"
      },
      "execution_count": 56,
      "outputs": [
        {
          "output_type": "stream",
          "name": "stdout",
          "text": [
            "Drive already mounted at /content/drive; to attempt to forcibly remount, call drive.mount(\"/content/drive\", force_remount=True).\n"
          ]
        }
      ]
    },
    {
      "cell_type": "code",
      "source": [
        "from pyspark.sql import SparkSession\n",
        "\n",
        "# Create a SparkSession\n",
        "spark = SparkSession.builder.getOrCreate()\n",
        "\n",
        "# Load the data\n",
        "# Load the data\n",
        "labels = spark.read.csv(\"/content/drive/MyDrive/Chatgpt/Τεχνικές Διαχείρισης και Εξόρυξης για  Δεδομένα Μεγάλου Όγκου/Medical-Abstracts-TC-Corpus-main/medical_tc_labels.csv\", inferSchema=True, header=True)\n",
        "train = spark.read.csv(\"/content/drive/MyDrive/Chatgpt/Τεχνικές Διαχείρισης και Εξόρυξης για  Δεδομένα Μεγάλου Όγκου/Medical-Abstracts-TC-Corpus-main/medical_tc_train.csv\", inferSchema=True, header=True)\n",
        "test = spark.read.csv(\"/content/drive/MyDrive/Chatgpt/Τεχνικές Διαχείρισης και Εξόρυξης για  Δεδομένα Μεγάλου Όγκου/Medical-Abstracts-TC-Corpus-main/medical_tc_test.csv\", inferSchema=True, header=True)\n",
        "\n",
        "\n",
        "# Show the first few rows of the DataFrame\n",
        "data.show()\n"
      ],
      "metadata": {
        "id": "jHn84pKyScca",
        "colab": {
          "base_uri": "https://localhost:8080/"
        },
        "outputId": "0b4da9e5-0a47-4cf5-c83f-c41fb712b931"
      },
      "execution_count": 57,
      "outputs": [
        {
          "output_type": "stream",
          "name": "stdout",
          "text": [
            "+---------------+--------------------+\n",
            "|condition_label|    medical_abstract|\n",
            "+---------------+--------------------+\n",
            "|              5|Tissue changes ar...|\n",
            "|              1|Neuropeptide Y an...|\n",
            "|              2|Sexually transmit...|\n",
            "|              1|Lipolytic factors...|\n",
            "|              3|Does carotid rest...|\n",
            "|              3|The shoulder in m...|\n",
            "|              2|The management of...|\n",
            "|              4|Pharmacomechanica...|\n",
            "|              5|Color Doppler dia...|\n",
            "|              5|Noninvasive diagn...|\n",
            "|              4|Sodium sensitive ...|\n",
            "|              1|Imaging bone tumo...|\n",
            "|              5|Closure of a bron...|\n",
            "|              1|Utility of frozen...|\n",
            "|              4|Antihypertensive ...|\n",
            "|              2|Gallbladder perfo...|\n",
            "|              1|Left ventricular ...|\n",
            "|              4|Tongue ischemia f...|\n",
            "|              5|In vitro and in v...|\n",
            "|              1|Chondrosarcoma of...|\n",
            "+---------------+--------------------+\n",
            "only showing top 20 rows\n",
            "\n"
          ]
        }
      ]
    },
    {
      "cell_type": "code",
      "source": [
        "print(data.columns)\n"
      ],
      "metadata": {
        "id": "Yy9BeFzAUbhR",
        "colab": {
          "base_uri": "https://localhost:8080/"
        },
        "outputId": "0889c6c3-6d22-4eab-b5cb-6c53394e8ef7"
      },
      "execution_count": 58,
      "outputs": [
        {
          "output_type": "stream",
          "name": "stdout",
          "text": [
            "['condition_label', 'medical_abstract']\n"
          ]
        }
      ]
    },
    {
      "cell_type": "code",
      "source": [
        "from sparknlp.base import DocumentAssembler, Finisher\n",
        "from sparknlp.annotator import Tokenizer, Normalizer, StopWordsCleaner\n",
        "\n",
        "# Assemble the text column into a Document type column\n",
        "document_assembler = DocumentAssembler() \\\n",
        "    .setInputCol(\"medical_abstract\") \\\n",
        "    .setOutputCol(\"document\")\n",
        "\n",
        "# Tokenize the document\n",
        "tokenizer = Tokenizer() \\\n",
        "    .setInputCols([\"document\"]) \\\n",
        "    .setOutputCol(\"token\")\n",
        "\n",
        "# Normalize the tokens (remove punctuation and convert to lowercase)\n",
        "normalizer = Normalizer() \\\n",
        "    .setInputCols([\"token\"]) \\\n",
        "    .setOutputCol(\"normalized\")\n",
        "\n",
        "# Remove stopwords\n",
        "stopwords_cleaner = StopWordsCleaner() \\\n",
        "    .setInputCols([\"normalized\"]) \\\n",
        "    .setOutputCol(\"clean_tokens\") \\\n",
        "    .setCaseSensitive(False)\n",
        "\n",
        "# Finish the preprocessing (convert the result back to a string column)\n",
        "finisher = Finisher() \\\n",
        "    .setInputCols([\"clean_tokens\"]) \\\n",
        "    .setOutputCols([\"clean_text\"]) \\\n",
        "    .setOutputAsArray(False) \\\n",
        "    .setCleanAnnotations(False)\n",
        "\n",
        "# Define the stages of the pipeline\n",
        "stages = [document_assembler, tokenizer, normalizer, stopwords_cleaner, finisher]\n",
        "\n",
        "# Create a pipeline\n",
        "from pyspark.ml import Pipeline\n",
        "pipeline = Pipeline().setStages(stages)\n",
        "\n",
        "# Fit the pipeline to the training data\n",
        "model = pipeline.fit(train)\n",
        "\n",
        "# Transform the training and test data\n",
        "train_clean = model.transform(train)\n",
        "test_clean = model.transform(test)\n",
        "\n",
        "# Fit the pipeline to the test data and transform it\n",
        "test_clean = model.transform(test)\n",
        "\n",
        "# Show the first few rows of the cleaned training data\n",
        "train_clean.show()\n",
        "\n",
        "# Show the first few rows of the cleaned test data\n",
        "test_clean.show()\n",
        "\n"
      ],
      "metadata": {
        "id": "-HotsT_5UH0L",
        "colab": {
          "base_uri": "https://localhost:8080/"
        },
        "outputId": "27e5903c-f38d-4355-c8c9-7dc68dcdd3c2"
      },
      "execution_count": 62,
      "outputs": [
        {
          "output_type": "stream",
          "name": "stdout",
          "text": [
            "+---------------+--------------------+--------------------+--------------------+--------------------+--------------------+--------------------+\n",
            "|condition_label|    medical_abstract|            document|               token|          normalized|        clean_tokens|          clean_text|\n",
            "+---------------+--------------------+--------------------+--------------------+--------------------+--------------------+--------------------+\n",
            "|              5|Tissue changes ar...|[{document, 0, 10...|[{token, 0, 5, Ti...|[{token, 0, 5, Ti...|[{token, 0, 5, Ti...|Tissue@changes@ar...|\n",
            "|              1|Neuropeptide Y an...|[{document, 0, 12...|[{token, 0, 11, N...|[{token, 0, 11, N...|[{token, 0, 11, N...|Neuropeptide@Y@ne...|\n",
            "|              2|Sexually transmit...|[{document, 0, 17...|[{token, 0, 7, Se...|[{token, 0, 7, Se...|[{token, 0, 7, Se...|Sexually@transmit...|\n",
            "|              1|Lipolytic factors...|[{document, 0, 10...|[{token, 0, 8, Li...|[{token, 0, 8, Li...|[{token, 0, 8, Li...|Lipolytic@factors...|\n",
            "|              3|Does carotid rest...|[{document, 0, 14...|[{token, 0, 3, Do...|[{token, 0, 3, Do...|[{token, 5, 11, c...|carotid@restenosi...|\n",
            "|              3|The shoulder in m...|[{document, 0, 56...|[{token, 0, 2, Th...|[{token, 0, 2, Th...|[{token, 4, 11, s...|shoulder@multiple...|\n",
            "|              2|The management of...|[{document, 0, 91...|[{token, 0, 2, Th...|[{token, 0, 2, Th...|[{token, 4, 13, m...|management@postop...|\n",
            "|              4|Pharmacomechanica...|[{document, 0, 13...|[{token, 0, 17, P...|[{token, 0, 17, P...|[{token, 0, 17, P...|Pharmacomechanica...|\n",
            "|              5|Color Doppler dia...|[{document, 0, 15...|[{token, 0, 4, Co...|[{token, 0, 4, Co...|[{token, 0, 4, Co...|Color@Doppler@dia...|\n",
            "|              5|Noninvasive diagn...|[{document, 0, 14...|[{token, 0, 10, N...|[{token, 0, 10, N...|[{token, 0, 10, N...|Noninvasive@diagn...|\n",
            "|              4|Sodium sensitive ...|[{document, 0, 18...|[{token, 0, 5, So...|[{token, 0, 5, So...|[{token, 0, 5, So...|Sodium@sensitive@...|\n",
            "|              1|Imaging bone tumo...|[{document, 0, 12...|[{token, 0, 6, Im...|[{token, 0, 6, Im...|[{token, 0, 6, Im...|Imaging@bone@tumo...|\n",
            "|              5|Closure of a bron...|[{document, 0, 64...|[{token, 0, 6, Cl...|[{token, 0, 6, Cl...|[{token, 0, 6, Cl...|Closure@bronchopl...|\n",
            "|              1|Utility of frozen...|[{document, 0, 19...|[{token, 0, 6, Ut...|[{token, 0, 6, Ut...|[{token, 0, 6, Ut...|Utility@frozensec...|\n",
            "|              4|Antihypertensive ...|[{document, 0, 11...|[{token, 0, 15, A...|[{token, 0, 15, A...|[{token, 0, 15, A...|Antihypertensive@...|\n",
            "|              2|Gallbladder perfo...|[{document, 0, 12...|[{token, 0, 10, G...|[{token, 0, 10, G...|[{token, 0, 10, G...|Gallbladder@perfo...|\n",
            "|              1|Left ventricular ...|[{document, 0, 61...|[{token, 0, 3, Le...|[{token, 0, 3, Le...|[{token, 0, 3, Le...|Left@ventricular@...|\n",
            "|              4|Tongue ischemia f...|[{document, 0, 33...|[{token, 0, 5, To...|[{token, 0, 5, To...|[{token, 0, 5, To...|Tongue@ischemia@s...|\n",
            "|              5|In vitro and in v...|[{document, 0, 25...|[{token, 0, 1, In...|[{token, 0, 1, In...|[{token, 3, 7, vi...|vitro@vivo@effect...|\n",
            "|              1|Chondrosarcoma of...|[{document, 0, 85...|[{token, 0, 13, C...|[{token, 0, 13, C...|[{token, 0, 13, C...|Chondrosarcoma@ja...|\n",
            "+---------------+--------------------+--------------------+--------------------+--------------------+--------------------+--------------------+\n",
            "only showing top 20 rows\n",
            "\n",
            "+---------------+--------------------+--------------------+--------------------+--------------------+--------------------+--------------------+\n",
            "|condition_label|    medical_abstract|            document|               token|          normalized|        clean_tokens|          clean_text|\n",
            "+---------------+--------------------+--------------------+--------------------+--------------------+--------------------+--------------------+\n",
            "|              3|Obstructive sleep...|[{document, 0, 15...|[{token, 0, 10, O...|[{token, 0, 10, O...|[{token, 0, 10, O...|Obstructive@sleep...|\n",
            "|              5|Neutrophil functi...|[{document, 0, 16...|[{token, 0, 9, Ne...|[{token, 0, 9, Ne...|[{token, 0, 9, Ne...|Neutrophil@functi...|\n",
            "|              5|A phase II study ...|[{document, 0, 18...|[{token, 0, 0, A,...|[{token, 0, 0, A,...|[{token, 2, 6, ph...|phase@II@study@co...|\n",
            "|              1|Flow cytometric D...|[{document, 0, 19...|[{token, 0, 3, Fl...|[{token, 0, 3, Fl...|[{token, 0, 3, Fl...|Flow@cytometric@D...|\n",
            "|              4|Paraneoplastic va...|[{document, 0, 68...|[{token, 0, 13, P...|[{token, 0, 13, P...|[{token, 0, 13, P...|Paraneoplastic@va...|\n",
            "|              1|Treatment of chil...|[{document, 0, 12...|[{token, 0, 8, Tr...|[{token, 0, 8, Tr...|[{token, 0, 8, Tr...|Treatment@childho...|\n",
            "|              1|Expression of maj...|[{document, 0, 80...|[{token, 0, 9, Ex...|[{token, 0, 9, Ex...|[{token, 0, 9, Ex...|Expression@major@...|\n",
            "|              1|Questionable role...|[{document, 0, 10...|[{token, 0, 11, Q...|[{token, 0, 11, Q...|[{token, 0, 11, Q...|Questionable@role...|\n",
            "|              5|Reversibility of ...|[{document, 0, 22...|[{token, 0, 12, R...|[{token, 0, 12, R...|[{token, 0, 12, R...|Reversibility@hep...|\n",
            "|              2|Current status of...|[{document, 0, 10...|[{token, 0, 6, Cu...|[{token, 0, 6, Cu...|[{token, 0, 6, Cu...|Current@status@du...|\n",
            "|              5|The importance of...|[{document, 0, 52...|[{token, 0, 2, Th...|[{token, 0, 2, Th...|[{token, 4, 13, i...|importance@congen...|\n",
            "|              1|Human papillomavi...|[{document, 0, 70...|[{token, 0, 4, Hu...|[{token, 0, 4, Hu...|[{token, 0, 4, Hu...|Human@papillomavi...|\n",
            "|              5|Gentamicin iontop...|[{document, 0, 98...|[{token, 0, 9, Ge...|[{token, 0, 9, Ge...|[{token, 0, 9, Ge...|Gentamicin@iontop...|\n",
            "|              1|Repeat hepatic re...|[{document, 0, 78...|[{token, 0, 5, Re...|[{token, 0, 5, Re...|[{token, 0, 5, Re...|Repeat@hepatic@re...|\n",
            "|              5|Evidence for intr...|[{document, 0, 15...|[{token, 0, 7, Ev...|[{token, 0, 7, Ev...|[{token, 0, 7, Ev...|Evidence@intralum...|\n",
            "|              5|Glutamic acid and...|[{document, 0, 13...|[{token, 0, 7, Gl...|[{token, 0, 7, Gl...|[{token, 0, 7, Gl...|Glutamic@acid@gam...|\n",
            "|              5|A useful techniqu...|[{document, 0, 14...|[{token, 0, 0, A,...|[{token, 0, 0, A,...|[{token, 2, 7, us...|useful@technique@...|\n",
            "|              5|The natural histo...|[{document, 0, 11...|[{token, 0, 2, Th...|[{token, 0, 2, Th...|[{token, 4, 10, n...|natural@history@u...|\n",
            "|              3|Hereditary intern...|[{document, 0, 17...|[{token, 0, 9, He...|[{token, 0, 9, He...|[{token, 0, 9, He...|Hereditary@intern...|\n",
            "|              5|Immune response o...|[{document, 0, 95...|[{token, 0, 5, Im...|[{token, 0, 5, Im...|[{token, 0, 5, Im...|Immune@response@p...|\n",
            "+---------------+--------------------+--------------------+--------------------+--------------------+--------------------+--------------------+\n",
            "only showing top 20 rows\n",
            "\n"
          ]
        }
      ]
    }
  ]
}