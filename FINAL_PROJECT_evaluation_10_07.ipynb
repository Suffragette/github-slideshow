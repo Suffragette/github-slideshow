{
  "nbformat": 4,
  "nbformat_minor": 0,
  "metadata": {
    "colab": {
      "provenance": [],
      "authorship_tag": "ABX9TyN1MLqRe9PiQ07pYuwFRC97",
      "include_colab_link": true
    },
    "kernelspec": {
      "name": "python3",
      "display_name": "Python 3"
    },
    "language_info": {
      "name": "python"
    }
  },
  "cells": [
    {
      "cell_type": "markdown",
      "metadata": {
        "id": "view-in-github",
        "colab_type": "text"
      },
      "source": [
        "<a href=\"https://colab.research.google.com/github/Suffragette/github-slideshow/blob/master/FINAL_PROJECT_evaluation_10_07.ipynb\" target=\"_parent\"><img src=\"https://colab.research.google.com/assets/colab-badge.svg\" alt=\"Open In Colab\"/></a>"
      ]
    },
    {
      "cell_type": "code",
      "execution_count": 1,
      "metadata": {
        "id": "hMl1YSWtuchU"
      },
      "outputs": [],
      "source": [
        "!apt-get install openjdk-8-jdk-headless -qq > /dev/null\n"
      ]
    },
    {
      "cell_type": "code",
      "source": [
        "import os\n",
        "os.environ[\"JAVA_HOME\"] = \"/usr/lib/jvm/java-8-openjdk-amd64\"\n",
        "os.environ[\"PATH\"] = os.environ[\"JAVA_HOME\"] + \"/bin:\" + os.environ[\"PATH\"]\n"
      ],
      "metadata": {
        "id": "PXAiciY3uv9g"
      },
      "execution_count": 2,
      "outputs": []
    },
    {
      "cell_type": "code",
      "source": [
        "!pip install pyspark==3.1.2\n",
        "!pip install spark-nlp==3.3.1\n"
      ],
      "metadata": {
        "colab": {
          "base_uri": "https://localhost:8080/"
        },
        "id": "hCew9aFOu2iw",
        "outputId": "82583975-f66d-434d-8f3b-ce25908190a7"
      },
      "execution_count": 3,
      "outputs": [
        {
          "output_type": "stream",
          "name": "stdout",
          "text": [
            "Collecting pyspark==3.1.2\n",
            "  Downloading pyspark-3.1.2.tar.gz (212.4 MB)\n",
            "\u001b[2K     \u001b[90m━━━━━━━━━━━━━━━━━━━━━━━━━━━━━━━━━━━━━━━\u001b[0m \u001b[32m212.4/212.4 MB\u001b[0m \u001b[31m3.4 MB/s\u001b[0m eta \u001b[36m0:00:00\u001b[0m\n",
            "\u001b[?25h  Preparing metadata (setup.py) ... \u001b[?25l\u001b[?25hdone\n",
            "Collecting py4j==0.10.9 (from pyspark==3.1.2)\n",
            "  Downloading py4j-0.10.9-py2.py3-none-any.whl (198 kB)\n",
            "\u001b[2K     \u001b[90m━━━━━━━━━━━━━━━━━━━━━━━━━━━━━━━━━━━━━━\u001b[0m \u001b[32m198.6/198.6 kB\u001b[0m \u001b[31m20.0 MB/s\u001b[0m eta \u001b[36m0:00:00\u001b[0m\n",
            "\u001b[?25hBuilding wheels for collected packages: pyspark\n",
            "  Building wheel for pyspark (setup.py) ... \u001b[?25l\u001b[?25hdone\n",
            "  Created wheel for pyspark: filename=pyspark-3.1.2-py2.py3-none-any.whl size=212880756 sha256=20875e5c705af95aa76ecbd37dc891c2a6400d4fcbe59db75e007c0daa857176\n",
            "  Stored in directory: /root/.cache/pip/wheels/ef/70/50/7882e1bcb5693225f7cc86698f10953201b48b3f36317c2d18\n",
            "Successfully built pyspark\n",
            "Installing collected packages: py4j, pyspark\n",
            "  Attempting uninstall: py4j\n",
            "    Found existing installation: py4j 0.10.9.7\n",
            "    Uninstalling py4j-0.10.9.7:\n",
            "      Successfully uninstalled py4j-0.10.9.7\n",
            "Successfully installed py4j-0.10.9 pyspark-3.1.2\n",
            "Collecting spark-nlp==3.3.1\n",
            "  Downloading spark_nlp-3.3.1-py2.py3-none-any.whl (122 kB)\n",
            "\u001b[2K     \u001b[90m━━━━━━━━━━━━━━━━━━━━━━━━━━━━━━━━━━━━━━━\u001b[0m \u001b[32m122.3/122.3 kB\u001b[0m \u001b[31m3.9 MB/s\u001b[0m eta \u001b[36m0:00:00\u001b[0m\n",
            "\u001b[?25hInstalling collected packages: spark-nlp\n",
            "Successfully installed spark-nlp-3.3.1\n"
          ]
        }
      ]
    },
    {
      "cell_type": "code",
      "source": [
        "!java -version\n",
        "!echo $JAVA_HOME\n"
      ],
      "metadata": {
        "colab": {
          "base_uri": "https://localhost:8080/"
        },
        "id": "TmQcGqNeBlKl",
        "outputId": "a02bfa44-a843-49da-b343-996d29ab993a"
      },
      "execution_count": 4,
      "outputs": [
        {
          "output_type": "stream",
          "name": "stdout",
          "text": [
            "openjdk version \"1.8.0_362\"\n",
            "OpenJDK Runtime Environment (build 1.8.0_362-8u372-ga~us1-0ubuntu1~20.04-b09)\n",
            "OpenJDK 64-Bit Server VM (build 25.362-b09, mixed mode)\n",
            "/usr/lib/jvm/java-8-openjdk-amd64\n"
          ]
        }
      ]
    },
    {
      "cell_type": "code",
      "source": [
        "import sparknlp\n",
        "spark = sparknlp.start()\n"
      ],
      "metadata": {
        "id": "lh9jDfenvFHG"
      },
      "execution_count": 5,
      "outputs": []
    },
    {
      "cell_type": "code",
      "source": [
        "!wget -O train_data.csv https://raw.githubusercontent.com/sebischair/Medical-Abstracts-TC-Corpus/main/medical_tc_train.csv\n",
        "!wget -O test_data.csv https://raw.githubusercontent.com/sebischair/Medical-Abstracts-TC-Corpus/main/medical_tc_test.csv\n",
        "\n",
        "train_data = spark.read.csv(\"train_data.csv\", inferSchema=True, header=True)\n",
        "test_data = spark.read.csv(\"test_data.csv\", inferSchema=True, header=True)\n"
      ],
      "metadata": {
        "colab": {
          "base_uri": "https://localhost:8080/"
        },
        "id": "S7s6HVa8xSae",
        "outputId": "45999fa6-b0ec-4222-fa03-f881117b961a"
      },
      "execution_count": 6,
      "outputs": [
        {
          "output_type": "stream",
          "name": "stdout",
          "text": [
            "--2023-07-10 07:16:34--  https://raw.githubusercontent.com/sebischair/Medical-Abstracts-TC-Corpus/main/medical_tc_train.csv\n",
            "Resolving raw.githubusercontent.com (raw.githubusercontent.com)... 185.199.108.133, 185.199.109.133, 185.199.110.133, ...\n",
            "Connecting to raw.githubusercontent.com (raw.githubusercontent.com)|185.199.108.133|:443... connected.\n",
            "HTTP request sent, awaiting response... 200 OK\n",
            "Length: 14254503 (14M) [text/plain]\n",
            "Saving to: ‘train_data.csv’\n",
            "\n",
            "train_data.csv      100%[===================>]  13.59M  --.-KB/s    in 0.08s   \n",
            "\n",
            "2023-07-10 07:16:35 (178 MB/s) - ‘train_data.csv’ saved [14254503/14254503]\n",
            "\n",
            "--2023-07-10 07:16:35--  https://raw.githubusercontent.com/sebischair/Medical-Abstracts-TC-Corpus/main/medical_tc_test.csv\n",
            "Resolving raw.githubusercontent.com (raw.githubusercontent.com)... 185.199.108.133, 185.199.109.133, 185.199.110.133, ...\n",
            "Connecting to raw.githubusercontent.com (raw.githubusercontent.com)|185.199.108.133|:443... connected.\n",
            "HTTP request sent, awaiting response... 200 OK\n",
            "Length: 3586836 (3.4M) [text/plain]\n",
            "Saving to: ‘test_data.csv’\n",
            "\n",
            "test_data.csv       100%[===================>]   3.42M  --.-KB/s    in 0.04s   \n",
            "\n",
            "2023-07-10 07:16:35 (77.0 MB/s) - ‘test_data.csv’ saved [3586836/3586836]\n",
            "\n"
          ]
        }
      ]
    },
    {
      "cell_type": "code",
      "source": [
        "print(train_data.columns)\n"
      ],
      "metadata": {
        "colab": {
          "base_uri": "https://localhost:8080/"
        },
        "id": "R_d5isZBx-_M",
        "outputId": "69c9662f-4e44-4379-9b37-8c96478d8f0a"
      },
      "execution_count": 7,
      "outputs": [
        {
          "output_type": "stream",
          "name": "stdout",
          "text": [
            "['condition_label', 'medical_abstract']\n"
          ]
        }
      ]
    },
    {
      "cell_type": "code",
      "source": [
        "from google.colab import drive\n",
        "drive.mount('/content/gdrive')\n"
      ],
      "metadata": {
        "id": "eIS9_L5KtywY",
        "colab": {
          "base_uri": "https://localhost:8080/"
        },
        "outputId": "18e39a95-cb7f-4b98-e8cf-480c414dd8c9"
      },
      "execution_count": 8,
      "outputs": [
        {
          "output_type": "stream",
          "name": "stdout",
          "text": [
            "Mounted at /content/gdrive\n"
          ]
        }
      ]
    },
    {
      "cell_type": "code",
      "source": [
        "from pyspark.ml import PipelineModel\n",
        "\n",
        "model = PipelineModel.load(\"/content/gdrive/MyDrive/ΥΔΑ/ΜΑΚΡΗΣ\")\n",
        "\n"
      ],
      "metadata": {
        "id": "EAj9TgtjEwjl"
      },
      "execution_count": 9,
      "outputs": []
    },
    {
      "cell_type": "code",
      "source": [
        "from pyspark.ml import PipelineModel\n",
        "from pyspark.sql.functions import col\n",
        "\n",
        "# Load the trained model\n",
        "model = PipelineModel.load(\"/content/gdrive/MyDrive/ΥΔΑ/ΜΑΚΡΗΣ\")\n",
        "\n",
        "# Check if 'bert_embeddings' column exists in the test data\n",
        "if 'bert_embeddings' in test_data.columns:\n",
        "    # If it exists, drop the column\n",
        "    test_data = test_data.drop('bert_embeddings')\n",
        "\n",
        "# Make predictions on the test data\n",
        "predictions = model.transform(test_data)\n"
      ],
      "metadata": {
        "id": "sql6avDjxI97"
      },
      "execution_count": 10,
      "outputs": []
    },
    {
      "cell_type": "code",
      "source": [
        "print(predictions.columns)\n"
      ],
      "metadata": {
        "id": "fljMmRL3H_jL",
        "colab": {
          "base_uri": "https://localhost:8080/"
        },
        "outputId": "9a23dfc6-01d0-49c0-e47e-e66888b2228d"
      },
      "execution_count": 11,
      "outputs": [
        {
          "output_type": "stream",
          "name": "stdout",
          "text": [
            "['condition_label', 'medical_abstract', 'document', 'token', 'normalized', 'cleanTokens', 'glove_embeddings', 'bert_embeddings', 'bert_sentence_embeddings', 'class']\n"
          ]
        }
      ]
    },
    {
      "cell_type": "code",
      "source": [
        "predictions.select('class').show()\n"
      ],
      "metadata": {
        "id": "JFnQxaseITE6",
        "colab": {
          "base_uri": "https://localhost:8080/"
        },
        "outputId": "ea3071af-fbe3-4130-e538-9583d578b1a0"
      },
      "execution_count": 12,
      "outputs": [
        {
          "output_type": "stream",
          "name": "stdout",
          "text": [
            "+--------------------+\n",
            "|               class|\n",
            "+--------------------+\n",
            "|[{category, 0, 15...|\n",
            "|[{category, 0, 16...|\n",
            "|[{category, 0, 18...|\n",
            "|[{category, 0, 19...|\n",
            "|[{category, 0, 68...|\n",
            "|[{category, 0, 12...|\n",
            "|[{category, 0, 80...|\n",
            "|[{category, 0, 10...|\n",
            "|[{category, 0, 22...|\n",
            "|[{category, 0, 10...|\n",
            "|[{category, 0, 52...|\n",
            "|[{category, 0, 70...|\n",
            "|[{category, 0, 98...|\n",
            "|[{category, 0, 78...|\n",
            "|[{category, 0, 15...|\n",
            "|[{category, 0, 13...|\n",
            "|[{category, 0, 14...|\n",
            "|[{category, 0, 11...|\n",
            "|[{category, 0, 17...|\n",
            "|[{category, 0, 95...|\n",
            "+--------------------+\n",
            "only showing top 20 rows\n",
            "\n"
          ]
        }
      ]
    },
    {
      "cell_type": "code",
      "source": [
        "from pyspark.sql.functions import col\n",
        "\n",
        "# Extract the 'result' field from each dictionary in the 'class' column\n",
        "predictions = predictions.withColumn('predicted_class', col('class').getItem('result'))\n",
        "\n",
        "# Show the predicted classes\n",
        "predictions.select('predicted_class').show()\n"
      ],
      "metadata": {
        "id": "QkUoNfdRLmtZ",
        "colab": {
          "base_uri": "https://localhost:8080/"
        },
        "outputId": "dc54dc10-ae47-49a8-b21e-eec63c09784e"
      },
      "execution_count": 13,
      "outputs": [
        {
          "output_type": "stream",
          "name": "stdout",
          "text": [
            "+---------------+\n",
            "|predicted_class|\n",
            "+---------------+\n",
            "|            [4]|\n",
            "|            [4]|\n",
            "|            [4]|\n",
            "|            [4]|\n",
            "|            [4]|\n",
            "|            [4]|\n",
            "|            [4]|\n",
            "|            [4]|\n",
            "|            [4]|\n",
            "|            [4]|\n",
            "|            [4]|\n",
            "|            [4]|\n",
            "|            [4]|\n",
            "|            [4]|\n",
            "|            [4]|\n",
            "|            [4]|\n",
            "|            [4]|\n",
            "|            [4]|\n",
            "|            [4]|\n",
            "|            [4]|\n",
            "+---------------+\n",
            "only showing top 20 rows\n",
            "\n"
          ]
        }
      ]
    },
    {
      "cell_type": "code",
      "source": [
        "from pyspark.sql.functions import col\n",
        "\n",
        "# Extract the first item from each list in the 'predicted_class' column\n",
        "predictions = predictions.withColumn('predicted_class', col('predicted_class').getItem(0))\n",
        "\n",
        "# Show the predicted classes\n",
        "predictions.select('predicted_class').show()\n"
      ],
      "metadata": {
        "id": "Dzf7gXBFL-bs",
        "colab": {
          "base_uri": "https://localhost:8080/"
        },
        "outputId": "a6a24c93-2bbe-4772-807a-f4f7206c76cc"
      },
      "execution_count": 14,
      "outputs": [
        {
          "output_type": "stream",
          "name": "stdout",
          "text": [
            "+---------------+\n",
            "|predicted_class|\n",
            "+---------------+\n",
            "|              4|\n",
            "|              4|\n",
            "|              4|\n",
            "|              4|\n",
            "|              4|\n",
            "|              4|\n",
            "|              4|\n",
            "|              4|\n",
            "|              4|\n",
            "|              4|\n",
            "|              4|\n",
            "|              4|\n",
            "|              4|\n",
            "|              4|\n",
            "|              4|\n",
            "|              4|\n",
            "|              4|\n",
            "|              4|\n",
            "|              4|\n",
            "|              4|\n",
            "+---------------+\n",
            "only showing top 20 rows\n",
            "\n"
          ]
        }
      ]
    },
    {
      "cell_type": "code",
      "source": [
        "from sparknlp.annotator import ClassifierDLApproach\n"
      ],
      "metadata": {
        "id": "uFgReYLgSMtv"
      },
      "execution_count": 15,
      "outputs": []
    },
    {
      "cell_type": "code",
      "source": [
        "from sparknlp.annotator import SentenceEmbeddings\n",
        "from sparknlp.base import DocumentAssembler\n",
        "from sparknlp.annotator import Tokenizer, Normalizer, StopWordsCleaner, WordEmbeddingsModel, BertEmbeddings\n",
        "from pyspark.ml import Pipeline\n",
        "\n",
        "# Define the stages of the pipeline\n",
        "document_assembler = DocumentAssembler() \\\n",
        "    .setInputCol(\"medical_abstract\") \\\n",
        "    .setOutputCol(\"document\")\n",
        "\n",
        "tokenizer = Tokenizer() \\\n",
        "    .setInputCols([\"document\"]) \\\n",
        "    .setOutputCol(\"token\")\n",
        "\n",
        "normalizer = Normalizer() \\\n",
        "    .setInputCols([\"token\"]) \\\n",
        "    .setOutputCol(\"normalized\")\n",
        "\n",
        "stopwords_cleaner = StopWordsCleaner() \\\n",
        "    .setInputCols([\"normalized\"]) \\\n",
        "    .setOutputCol(\"cleanTokens\")\n",
        "\n",
        "word_embeddings = WordEmbeddingsModel.pretrained() \\\n",
        "    .setInputCols([\"document\", \"cleanTokens\"]) \\\n",
        "    .setOutputCol(\"glove_embeddings\")\n",
        "\n",
        "bert_embeddings = BertEmbeddings.pretrained() \\\n",
        "    .setInputCols([\"document\", \"cleanTokens\"]) \\\n",
        "    .setOutputCol(\"bert_embeddings\")\n",
        "\n",
        "sentence_embeddings_bert = SentenceEmbeddings() \\\n",
        "    .setInputCols([\"document\", \"bert_embeddings\"]) \\\n",
        "    .setOutputCol(\"bert_sentence_embeddings\") \\\n",
        "    .setPoolingStrategy(\"AVERAGE\")\n",
        "\n",
        "classifier = ClassifierDLApproach() \\\n",
        "    .setInputCols([\"document\", \"bert_sentence_embeddings\"]) \\\n",
        "    .setOutputCol(\"class\") \\\n",
        "    .setLabelColumn(\"condition_label\") \\\n",
        "    .setMaxEpochs(10) \\\n",
        "    .setEnableOutputLogs(True)\n",
        "\n",
        "# Add the classifier to the pipeline\n",
        "pipeline = Pipeline(stages=[\n",
        "    document_assembler,\n",
        "    tokenizer,\n",
        "    normalizer,\n",
        "    stopwords_cleaner,\n",
        "    word_embeddings,\n",
        "    bert_embeddings,\n",
        "    sentence_embeddings_bert,\n",
        "    classifier\n",
        "])\n",
        "\n",
        "# Fit the pipeline to the training data\n",
        "model = pipeline.fit(train_data)\n"
      ],
      "metadata": {
        "id": "f6POSrXGRyZ1",
        "colab": {
          "base_uri": "https://localhost:8080/"
        },
        "outputId": "967a45a7-875e-419f-824d-00cfb1b306ca"
      },
      "execution_count": 16,
      "outputs": [
        {
          "output_type": "stream",
          "name": "stdout",
          "text": [
            "glove_100d download started this may take some time.\n",
            "Approximate size to download 145.3 MB\n",
            "[OK!]\n",
            "small_bert_L2_768 download started this may take some time.\n",
            "Approximate size to download 139.6 MB\n",
            "[OK!]\n"
          ]
        }
      ]
    },
    {
      "cell_type": "code",
      "source": [
        "# Transform the test data\n",
        "predictions = model.transform(test_data)\n",
        "\n",
        "# Show some prediction results\n",
        "predictions.select(\"medical_abstract\", \"condition_label\", \"class.result\").show(truncate=False)\n"
      ],
      "metadata": {
        "id": "cEoU20CmgG0k",
        "colab": {
          "base_uri": "https://localhost:8080/"
        },
        "outputId": "6c62547f-1225-4c0e-c124-6a0c02479377"
      },
      "execution_count": 17,
      "outputs": [
        {
          "output_type": "stream",
          "name": "stdout",
          "text": [
            "+--------------------------------------------------------------------------------------------------------------------------------------------------------------------------------------------------------------------------------------------------------------------------------------------------------------------------------------------------------------------------------------------------------------------------------------------------------------------------------------------------------------------------------------------------------------------------------------------------------------------------------------------------------------------------------------------------------------------------------------------------------------------------------------------------------------------------------------------------------------------------------------------------------------------------------------------------------------------------------------------------------------------------------------------------------------------------------------------------------------------------------------------------------------------------------------------------------------------------------------------------------------------------------------------------------------------------------------------------------------------------------------------------------------------------------------------------------------------------------------------------------------------------------------------------------------------------------------------------------------------------------------------------------------------------------------------------------------------------------------------------------------------------------------------------------------------------------------------------------------------------------------------------------------------------------------------------------------------------------------------------------------------------------------------------------------------------------------------------------------------------------------------------------------------------------------------------------------------------------------------------------------------------------------------------------------------------------------------------------+---------------+------+\n",
            "|medical_abstract                                                                                                                                                                                                                                                                                                                                                                                                                                                                                                                                                                                                                                                                                                                                                                                                                                                                                                                                                                                                                                                                                                                                                                                                                                                                                                                                                                                                                                                                                                                                                                                                                                                                                                                                                                                                                                                                                                                                                                                                                                                                                                                                                                                                                                                                                                                                        |condition_label|result|\n",
            "+--------------------------------------------------------------------------------------------------------------------------------------------------------------------------------------------------------------------------------------------------------------------------------------------------------------------------------------------------------------------------------------------------------------------------------------------------------------------------------------------------------------------------------------------------------------------------------------------------------------------------------------------------------------------------------------------------------------------------------------------------------------------------------------------------------------------------------------------------------------------------------------------------------------------------------------------------------------------------------------------------------------------------------------------------------------------------------------------------------------------------------------------------------------------------------------------------------------------------------------------------------------------------------------------------------------------------------------------------------------------------------------------------------------------------------------------------------------------------------------------------------------------------------------------------------------------------------------------------------------------------------------------------------------------------------------------------------------------------------------------------------------------------------------------------------------------------------------------------------------------------------------------------------------------------------------------------------------------------------------------------------------------------------------------------------------------------------------------------------------------------------------------------------------------------------------------------------------------------------------------------------------------------------------------------------------------------------------------------------+---------------+------+\n",
            "|Obstructive sleep apnea following topical oropharyngeal anesthesia in loud snorers. Previous studies support the presence of an upper airway reflex mechanism that contributes to the maintenance of upper airway patency during sleep. We investigated the possibility that interference with this reflex mechanism contributes to the development of obstructive sleep apnea. Eight otherwise asymptomatic snorers (seven male and one female), age 39 +/- 5.3 yr (mean +/- SEM), underwent overnight sleep studies on three successive nights. An acclimatization night was followed by two study nights randomly assigned to control (C) and oropharyngeal anesthesia (OPA). On the OPA night topical anesthesia was induced using 10% lidocaine spray and 0.25% bupivacaine gargle. A saline placebo was used on night C. All subjects slept well on both study nights (mean sleep duration was 6.2 h on both study nights), and sleep stage distribution was similar on both nights. Obstructive apneas and hypopneas (OAH) rose from 114 +/- 43 during C to 170 +/- 49 during OPA (p less than 0.02). Central apneas and hypopneas (CAH) were unchanged between the two nights (8 +/- 4.9 versus 7 +/- 3). The duration of OAH was similar on both study nights (20 +/- 1.9 s during C versus 20 +/- 1.5 s during OPA). The frequency of movement arousals terminating OAH tended to be higher during OPA (7 +/- 2.9/h) than during C (3 +/- 0.7); P = NS. The frequency of oxyhemoglobin desaturations was also higher during OPA (5 +/- 2.1/h) than during C (3 +/- 1.4), p less than 0.07.                                                                                                                                                                                                                                                                                                                                                                                                                                                                                                                                                                                                                                                                                                                                                    |3              |[4]   |\n",
            "|Neutrophil function and pyogenic infections in bone marrow transplant recipients. In a consecutive entry trial, the incidence and time course of decreased neutrophil function was assessed in 20 patients treated with allogeneic bone marrow transplantation (BMT). The aim of the study was to assess the prognostic value of low neutrophil function for late pyogenic infections. Chemotaxis, superoxide production, and phagocytic-bactericidal activity were studied before and 2, 6, 9, and 12 months after BMT. Skin window migration was quantitatively assessed 2 months after BMT. Infectious complications were recorded prospectively with preset criteria during 1 year. Six of the 20 leukemic patients had defective neutrophil function before BMT. Two months after BMT all 10 patients with greater than stage II graft-versus-host disease (GVHD), and 6 of 10 patients with less than or equal to stage II GVHD had at least one decreased function. At this time, patients with subsequent pyogenic infections had lower chemotaxis (P less than .05), phagocytic-bactericidal activity (P less than .005), and superoxide production (P less than .025) than those without. Defective skin window migration and combined defects were predictive for late pyogenic infections. At 9 months all tests were normal in seven patients surviving without GVHD. In contrast, at 9 months three of three patients, and at 1 year two of three with chronic GVHD had still decreased neutrophil function. In conclusion, neutrophil function is frequently impaired during the first months after BMT. Combined neutrophil defects predispose to pyogenic infections and indicate the patient at risk.                                                                                                                                                                                                                                                                                                                                                                                                                                                                                                                                                                                                                                 |5              |[5]   |\n",
            "|A phase II study of combined methotrexate and teniposide infusions prior to reinduction therapy in relapsed childhood acute lymphoblastic leukemia: a Pediatric Oncology Group study. Teniposide (VM-26) can increase intracellular methotrexate (MTX) and its polyglutamate derivatives in vitro and thus has the potential to improve the therapeutic index of regimens containing MTX. In this phase II study, children and adolescents with acute lymphoblastic leukemia (ALL) in first or second marrow relapse were randomly assigned to receive either simultaneous (n = 11) or sequential (n = 12) continuous infusions of MTX and VM-26 prior to reinduction. Infusions of VM-26 were begun 12 hours after completion of MTX infusion in the sequential group. Dosages were individually adjusted to maintain plasma concentration levels of 10 microns for MTX and 15 microns for VM-26; total infusion times were 24 and 72 hours, respectively. Significant toxicity in the first six patients who received the scheduled 72-hour VM-26 infusion (including one drug-related death) prompted a 50% reduction in infusion duration. The reduced dose was associated with similar but more manageable toxicity. Examination of bone marrow aspirates 10 days after therapy was begun showed one complete and two partial marrow remissions; a fourth patient who had an aplastic marrow on day 10 received no further chemotherapy and had a complete remission (CR) documented on day 31. There was no obvious clinical advantage associated with either infusion schedule, although small sample sizes preclude definitive conclusions. The 17% response rate to the MTX/VM-26 therapeutic window in patients with refractory disease suggests the need for further investigation to evaluate alternative schedules and concomitant therapy for this drug combination.                                                                                                                                                                                                                                                                                                                                                                                                                                                                      |5              |[4]   |\n",
            "|Flow cytometric DNA analysis of parathyroid tumors. Implication of aneuploidy for pathologic and biologic classification. The previous cytometric studies on parathyroid tumors have provided conflicting data regarding the relationship between DNA content and histopathology, resulting from differences in technical methods and data analysis. This study measured nuclear DNA of parathyroid tumors by flow cytometry in fresh material and determined whether DNA aneuploidy really assists in making a pathologic diagnosis of carcinoma or not. From May 1987 through April 1989, 65 consecutive patients operated on for primary hyperparathyroidism had DNA analysis of the freshly excised parathyroid tumors. Three of the patients had metastatic lesions of parathyroid carcinoma in the lung, cervical lymph nodes, and lung and mediastinal lymph nodes, respectively. Pathologic classifications of the lesions from the other 62 patients were 54 adenomas, four carcinomas, and four hyperplasias. In all the latter patients, hyperplasia was associated with a multiple endocrine neoplasia syndrome. Unequivocal evidence of aneuploidy was found in all of the metastatic lesions and 60% of the primary lesions of the carcinomas, in 9% of the adenomas and in 50% of the hyperplasias. Therefore, parathyroid carcinomas were more apt to be aneuploid than were adenomas (P = 0.0015, both-sided testing). In each of the cases of aneuploid hyperplasia, a small aneuploid peak was found. The high incidence of aneuploidy in patients with multiple endocrine neoplasia type 1 may indicate the presence of clonal heterogeneity of hyperplastic glands and the presence of an abnormal subset of cells that have malignant potential. Cell distribution analysis did not provide any significant information beyond ploidy level. In conclusion, DNA flow cytometric analysis of DNA ploidy patterns is a valuable adjunct to the histopathologic diagnosis of parathyroid neoplasms.                                                                                                                                                                                                                                                                                                                                  |1              |[5]   |\n",
            "|Paraneoplastic vasculitic neuropathy: a treatable neuropathy. Paraneoplastic vasculitic neuropathy has been recently described. We report the first case of this disorder which responded both clinically and electrophysiologically to cyclophosphamide treatment. A 54-year-old woman with a history of metastatic endometrial carcinoma in remission had asymmetrical polyneuropathy, electrophysiological findings consistent with a diffuse axonal neuropathy, high sedimentation rate and spinal fluid protein, and microvasculitis with axonal degeneration on nerve biopsy. The patient was treated with 150 mg of cyclophosphamide daily with gradual clinical and electrophysiological improvement.                                                                                                                                                                                                                                                                                                                                                                                                                                                                                                                                                                                                                                                                                                                                                                                                                                                                                                                                                                                                                                                                                                                                                                                                                                                                                                                                                                                                                                                                                                                                                                                                                                           |4              |[4]   |\n",
            "|Treatment of childhood angiomatous diseases with recombinant interferon alfa-2a. A heterogeneous group of five patients with progressive, invasive angiomatous diseases including pulmonary hemangiomatosis, angiosarcoma, or massive hemangioma with associated consumptive coagulopathy were treated with interferon alfa-2a for periods of 17 to 33 months. One patient with a large thoracic hemangioma, cardiorespiratory failure, and consumptive coagulopathy died after less than 2 months of treatment. The remaining four patients have shown beneficial responses, including (1) regression of abnormal vessels on pulmonary angiogram and improved exercise tolerance in pulmonary hemangiomatosis (two patients), (2) decreased corticosteroid and/or platelet transfusion requirements in consumptive coagulopathy (two patients), and (3) decreased size and number of tumor nodules in the one patient with angiosarcoma arising in preexisting angiomatous lesions. Responses occurred during periods of 2 to 20 months of treatment. There was no measurable progression of angiomatous lesions in any patient receiving interferon at the therapeutic dose, except possibly in the one who died. Each of the four surviving patients had improved linear growth and weight gain during interferon treatment.                                                                                                                                                                                                                                                                                                                                                                                                                                                                                                                                                                                                                                                                                                                                                                                                                                                                                                                                                                                                                         |1              |[4]   |\n",
            "|Expression of major histocompatibility complex class II antigens and interleukin-1 by epithelial cells of Warthin's tumor. The immunoreactivity for class II antigens of the major histocompatibility complex and interleukin-1 (IL-1) in Warthin's tumor (WT) cells was studied. In addition to macrophages, dendritic cells, and capillary endothelia, the luminal tumor cells and some keratinocytes in the metaplastic squamous foci exhibited immunoreactivity for both class II antigens and IL-1. The distribution of the class II antigens in the luminal tumor cells was limited to their basolateral membrane. These data, together with previous findings, strongly suggest that the luminal tumor cells of WT introduce the luminal antigen to the underlying lymphoid tissue and, thus, act as an antigen-presenting cell.                                                                                                                                                                                                                                                                                                                                                                                                                                                                                                                                                                                                                                                                                                                                                                                                                                                                                                                                                                                                                                                                                                                                                                                                                                                                                                                                                                                                                                                                                                                 |1              |[4]   |\n",
            "|Questionable role of CNS radioprophylaxis in the therapeutic management of childhood rhabdomyosarcoma with meningeal extension. A series of 15 consecutive children with head and neck nonorbital rhabdomyosarcoma (RMSA) with meningeal extension were prospectively treated with chemotherapy consisting of Adriamycin (doxorubicin; Adria Laboratory, Columbus, OH) (ADM), vincristine (VCR), cyclophosphamide (CPM), and dactinomycin (DACT) followed by radiotherapy (60 Gy) to the primary tumor volume, along with intrathecal methotrexate (IT MTX). Thirteen of 15 responded to preradiation chemotherapy. Four of 13 relapsed. Relapse occurred at the level of the primary tumor in three of four. The 3-year progression-free survival (PFS) was 59%, similar to that achieved in a previous series treated with a comparable therapeutic approach that also included whole-brain radiotherapy as a prophylaxis of possible occult meningeal seeding. It is concluded that CNS prophylaxis with radiotherapy is questionable in the management of childhood RMSA with meningeal extension.                                                                                                                                                                                                                                                                                                                                                                                                                                                                                                                                                                                                                                                                                                                                                                                                                                                                                                                                                                                                                                                                                                                                                                                                                                                  |1              |[4]   |\n",
            "|Reversibility of hepatic fibrosis in experimentally induced cholestasis in rat. The reversibility of hepatic fibrosis was investigated in an experimental model of extrahepatic cholestasis in the rat after common bile duct ligation for 2 weeks, followed by bilioduodenal anastomosis for 3 weeks. Bile duct ligation resulted in a transitory marked elevation in the serum concentration of 5'-nucleotidase, alkaline phosphatase, and bilirubin during the first 3 days. Then these levels decreased to threefold, twofold, and 100-fold the normal values, respectively, during the following 4 weeks. Histologic examination of the liver disclosed extensive bile duct proliferation and the formation of periportal fibrosis, with only slight inflammation and necrosis. The distribution of the major components of the hepatic extracellular matrix was analyzed 2 weeks after bile duct ligation, using the indirect immunoperoxidase method. Fibrous septa were found to be strongly stained for collagens I, pro-III, III and IV, fibronectin, and laminin. The most intense staining was found in enlarged periportal areas, collagen IV and laminin being particularly abundant around newly formed bile ducts. These changes paralleled high steady-state levels of alpha 1(I) and alpha 1(IV) collagen and B2 chain laminin mRNAs. Relief of the obstruction for 2 weeks resulted in a shift in the serum concentration of 5'-nucleotidase, alkaline phosphatase, and bilirubin toward normal values. A dramatic resorption of bile duct proliferations and periportal fibrosis were observed. Three weeks after bile duct repermeabilization, immunohistochemical study showed that the pattern of distribution of extracellular matrix components was almost normal, except for collagen IV, which remained abundant in the sinusoids when compared with the normal liver. In parallel, the steady-state B2-chain laminin mRNA level became lower than in cholestatic livers, whereas alpha 1(I) and alpha 1(IV) mRNAs were almost undetectable. These results show that hepatic fibrosis induced by experimental extrahepatic cholestasis in rat disappears in less than 3 weeks after relief of bile duct obstruction, suggesting that an active degradation of matrix protein occurs, except for collagen IV in the sinusoid. |5              |[4]   |\n",
            "|Current status of duplex Doppler ultrasound in the examination of the abdominal vasculature. Duplex Doppler ultrasound has come to play a central role in the diagnosis of a broad spectrum of vascular diseases such as carotid artery occlusive disease and deep vein thrombosis. The role of duplex Doppler in the evaluation of intra-abdominal vascular disease remains unclear. This article summarizes the current status of duplex scanning in the investigation of the mesenteric arteries, the renal arteries, and the portal venous system. The examination is technically demanding, operator-dependent, time-consuming, and frequently unsatisfactory due to bowel gas, obesity, complex anatomy, or postoperative alterations in the normal anatomic patterns. Its advantages reside primarily in the absence of toxicity and in the generation of physiologic as well as anatomic information. In centers with the proper instrumentation and a skilled technician, duplex examination can be useful in the diagnosis and management of abdominal vascular disease and avoids the inherent dangers of contrast angiography.                                                                                                                                                                                                                                                                                                                                                                                                                                                                                                                                                                                                                                                                                                                                                                                                                                                                                                                                                                                                                                                                                                                                                                                                              |2              |[4]   |\n",
            "|The importance of congenital hypertrophy of the retinal pigment epithelium in familial adenomatous polyposis. We describe a family with familial adenomatous polyposis (FAP) and congenital hypertrophy of the retinal pigment epithelium (RPE). Three of five members with FAP showed flat, well-demarcated, round to oval pigmented patches of congenital hypertrophy of the RPE. We stress the importance of congenital hypertrophy of the RPE as a clinical marker in identifying patients with FAP since they are at risk for cancer.                                                                                                                                                                                                                                                                                                                                                                                                                                                                                                                                                                                                                                                                                                                                                                                                                                                                                                                                                                                                                                                                                                                                                                                                                                                                                                                                                                                                                                                                                                                                                                                                                                                                                                                                                                                                              |5              |[5]   |\n",
            "|Human papillomavirus in women with vulvar intraepithelial neoplasia III. Untreated cases of vulvar intraepithelial neoplasia (VIN) III may progress to invasive vulvar carcinoma. Tissues from 29 New Zealand women with VIN III were examined for the presence of human papillomavirus (HPV) types 6, 11, 16 and 18 by in situ hybridization and polymerase chain reaction. HPV 16, the only HPV type detected in the lesions, was identified in about half the cases. HPV-positive women were younger than HPV-negative women, and their lesions displayed koilocytosis more often. In four of five cases in which there was a progression to invasive cancer, HPV 16 was detected in both the VIN III and invasive cancer tissue.                                                                                                                                                                                                                                                                                                                                                                                                                                                                                                                                                                                                                                                                                                                                                                                                                                                                                                                                                                                                                                                                                                                                                                                                                                                                                                                                                                                                                                                                                                                                                                                                                    |1              |[5]   |\n",
            "|Gentamicin iontophoresis in the treatment of bacterial otitis externa in the guinea pig model. Pseudomonas otitis externa is one of the most common infections treated by otolaryngologists. Infections induced in 30 guinea pigs appeared similar to that seen in humans. The ears were then placed into four treatment groups: group A, which received a single cleaning; group B, which received a single cleaning followed by gentamicin drops 4 times daily; group C, which received a single cleaning followed by a single gentamicin iontophoresis treatment; and group D, the control group, which received no treatment. Infections were analyzed by grading edema, purulence, and erythema. An average of 10.2 days was required for control group to return to normal appearance. Groups A, B, and C had mean resolution times of 5.9, 4.7, and 4.3 days, respectively. Gentamicin iontophoresis appears to be promising, with results as good as drop therapy in otitis externa in the guinea pig model.                                                                                                                                                                                                                                                                                                                                                                                                                                                                                                                                                                                                                                                                                                                                                                                                                                                                                                                                                                                                                                                                                                                                                                                                                                                                                                                                    |5              |[4]   |\n",
            "|Repeat hepatic resection for primary and metastatic carcinoma of the liver. During the last 15 years, 19 patients underwent repeated hepatic resections for malignant lesions of the liver. The first hepatic resection had been performed four to 40 months earlier for treatment of hepatocellular carcinoma (nine patients) or hepatic metastases (ten patients), eight of which were of colorectal origin. Repeat resection was an extensive hepatectomy in six, a segmentectomy in six and a local excision in seven. In one patient, three wedge resections and, finally, hepatic transplantation were subsequently performed after an initial extended right lobectomy. The operative mortality rate was 5.2 per cent. The three year actuarial survival rate was 64 per cent after the second resection.                                                                                                                                                                                                                                                                                                                                                                                                                                                                                                                                                                                                                                                                                                                                                                                                                                                                                                                                                                                                                                                                                                                                                                                                                                                                                                                                                                                                                                                                                                                                        |1              |[4]   |\n",
            "|Evidence for intraluminal Ca++ regulatory site defect in sarcoplasmic reticulum from malignant hyperthermia pig muscle. Malignant hyperthermia (MH) is a pharmacogenetic disease of humans and various animal species that predisposes to a life-threatening, anesthetic agent-induced syndrome. MH is thought to be a consequence of abnormal, sustained increases in myoplasmic Ca++ and sarcoplasmic reticulum (SR) membranes from MH muscle have been shown to have a Ca++ release channel defect. In the present study we have tested a hypothesis that the abnormal Ca++ release mechanism in MH can be expressed when Ca++ is loaded in the presence of pyrophosphate. SR membrane vesicles isolated from normal and MH pig muscle were loaded with Ca++ in the presence and absence of pyrophosphate until Ca(++)-induced Ca++ release occurred. Under both circumstances the threshold amount of Ca++ loaded until Ca++ release occurred was lower in the SR from MH pig skeletal muscle. This difference in amount of Ca++ preload is not explained by results obtained comparing rates of Ca++ uptake, number of ryanodine binding sites or the amounts of calsequestrin among SR vesicles from MH and normal muscle. We conclude from this study that use of pyrophosphate for Ca++ loading does not ablate the abnormal Ca++ release in SR from MH muscle, suggesting the study can be done on small amounts of SR from biopsied human muscle. The data also suggest that abnormality in an intraluminal, low affinity Ca++ binding site regulating Ca++ release occurs in the SR membrane of MH pig muscle.                                                                                                                                                                                                                                                                                                                                                                                                                                                                                                                                                                                                                                                                                                                               |5              |[5]   |\n",
            "|Glutamic acid and gamma-aminobutyric acid neurotransmitters in central control of breathing. We review recent cross-disciplinary experimental and theoretical investigations on metabolism of the amino acid neurotransmitters glutamic acid and gamma-aminobutyric acid (GABA) in the brain during hypoxia and hypercapnia and their possible role in central control of breathing. The roles of classical modifiers of central chemical drive to breathing (H+ and cholinergic mechanisms) are summarized. A brief perspective on the current widespread interest in GABA and glutamate in central control is given. The basic biochemistry of these amino acids and their roles in ammonia and bicarbonate metabolism are discussed. This review further addresses recent work on central respiratory effects of inhibitory GABA and excitatory glutamate. Current understanding of the sites and mechanisms of action of these amino acids on or near the ventral surface of the medulla is reviewed. We focus particularly on tracer kinetic investigations of glutamatergic and GABAergic mechanisms in hypoxia and hypercapnia and their possible role in the ventilatory response to hypoxia. We conclude with some speculative remarks on the critical importance of these investigations and suggest specific directions of research in central mechanisms of respiratory control.                                                                                                                                                                                                                                                                                                                                                                                                                                                                                                                                                                                                                                                                                                                                                                                                                                                                                                                                                            |5              |[4]   |\n",
            "|A useful technique for measurement of back strength in osteoporotic and elderly patients. Improvement of back extensor strength (BES) can be used as a therapeutic method for patients with chronic back pain and osteoporosis. The method of evaluation must be reliable and accurate without compromising the condition of the patient. We report the development of a back isometric dynamometer (BID-2000) designed specifically by two of us to address these concerns in elderly patients with osteopenia or osteoporosis. As the demographics of the general population change, increasing numbers of patients will need the type of monitoring that the BID-2000 provides. Aging has been shown to cause a reduction in the number of functional muscle motor units. To examine this effect on BES, we tested 50 normal, healthy women who were 30 to 79 years old. Proper testing of BES in patients with fragile vertebrae should include isometric measurement in the prone position, maneuverability of the device to allow comfortable positioning of the patient, and simplicity of technique to minimize repetitious performance of maximal contraction. The BID-2000 incorporates each of these features and also provides meaningful results inexpensively. The device offers a safe, reliable (coefficient of variation = 2.33%), and valid (P = 0.001) method of evaluation. The results of our study demonstrated moderate, steady reduction of BES with increasing age and with each successive decade.                                                                                                                                                                                                                                                                                                                                                                                                                                                                                                                                                                                                                                                                                                                                                                                                                            |5              |[4]   |\n",
            "|The natural history of ultraviolet radiation-induced herpes simplex labialis and response to therapy with peroral and topical formulations of acyclovir. The lips of 196 patients with a history of sun-induced herpes labialis were exposed to experimental ultraviolet radiation (UVR) and treated with acyclovir (ACV) or placebo at different times and by different routes. Of 98 placebo recipients, 39 (40%) developed 43 lesions inside or within 10 mm of the irradiated zone. The temporal distribution of lesions was bimodal. 11 (26%) occurring within 48 h (immediate) and 32 (72%) 2-7 days after UVR exposure (delayed). Prophylactic peroral ACV begun 7 days before or 5 min after UVR prevented the development of the delayed but not the immediate lesions (P less than .001). When peroral ACV was started 48 h after UVR, delayed lesions developed but were less severe (P = .01-.05). Prophylactic topical ACV begun 5 min after UVR did not reduce lesion frequency or severity. ACV therapy can be efficacious, but some rapidly developing lesions are unresponsive to treatment. This suggests that more than one process may contribute to the pathogenesis of herpes labialis.                                                                                                                                                                                                                                                                                                                                                                                                                                                                                                                                                                                                                                                                                                                                                                                                                                                                                                                                                                                                                                                                                                                                           |5              |[4]   |\n",
            "|Hereditary internal anal sphincter myopathy causing proctalgia fugax and constipation. A newly identified condition. A newly identified myopathy of the internal anal sphincter is described. In the affected family, at least one member from each of five generations had severe proctalgia fugax; onset was usually in the third to fifth decades of life. Three members of the family have been studied in detail. Each had severe pain intermittently during the day and hourly during the night. Constipation was an associated symptom, in particular difficulty with rectal evacuation. Clinically the internal anal sphincter was thickened and of decreased compliance. The maximum anal canal pressure was usually increased with marked ultraslow wave activity. Anal endosonography confirmed a grossly thickened internal anal sphincter. Two patients were treated by internal anal sphincter strip myectomy; one showed marked improvement and one was relieved of the constipation but had only slight improvement of the pain. The hypertrophied muscle in two of the patients showed unique myopathic changes, consisting of vacuolar changes with periodic acid-Schiff-positive polyglycosan bodies in the smooth muscle fibers and increased endomysial fibrosis. In vitro organ-bath studies showed insensitivity of the muscle to noradrenaline, isoprenaline, carbachol, dimethylpiperazinium, and electrical-field stimulation. Immunohistochemical studies for substance P, calcitonin gene-related peptide, galanin, neuropeptide Y, and vasoactive intestinal peptide showed staining in a similar distribution to that in control tissue. A specific autosomal-dominant inherited myopathy of the internal anal sphincter that causes anal pain and constipation has been identified and characterized.                                                                                                                                                                                                                                                                                                                                                                                                                                                                                                                    |3              |[4]   |\n",
            "|Immune response of peripheral blood mononuclear cells to HBx-antigen of hepatitis B virus. The hepatitis B virus genome encodes a transcriptional transactivator protein designated HBxAg. We have investigated whether this antigen is a target structure for human T-lymphocytes. Using recombinant HBxAg protein, we found HBxAg-specific stimulation of peripheral blood mononuclear cells in patients with acute hepatitis B virus infection (6 of 6) and chronic hepatitis B virus infection (6 of 17) but not in healthy individuals. With HBxAg-specific synthetic polypeptides, several T-cell epitopes were identified. Most were located in the carboxyterminal half of the HBxAg protein. Five T-cell clones specific for a T-cell epitope located at the carboxyterminal region of HBxAg were established and found to belong to the CD2/CD4-positive, CD8-negative subtype. These data establish for the first time HBxAg as an antigen in the cellular immune response.                                                                                                                                                                                                                                                                                                                                                                                                                                                                                                                                                                                                                                                                                                                                                                                                                                                                                                                                                                                                                                                                                                                                                                                                                                                                                                                                                                  |5              |[4]   |\n",
            "+--------------------------------------------------------------------------------------------------------------------------------------------------------------------------------------------------------------------------------------------------------------------------------------------------------------------------------------------------------------------------------------------------------------------------------------------------------------------------------------------------------------------------------------------------------------------------------------------------------------------------------------------------------------------------------------------------------------------------------------------------------------------------------------------------------------------------------------------------------------------------------------------------------------------------------------------------------------------------------------------------------------------------------------------------------------------------------------------------------------------------------------------------------------------------------------------------------------------------------------------------------------------------------------------------------------------------------------------------------------------------------------------------------------------------------------------------------------------------------------------------------------------------------------------------------------------------------------------------------------------------------------------------------------------------------------------------------------------------------------------------------------------------------------------------------------------------------------------------------------------------------------------------------------------------------------------------------------------------------------------------------------------------------------------------------------------------------------------------------------------------------------------------------------------------------------------------------------------------------------------------------------------------------------------------------------------------------------------------------+---------------+------+\n",
            "only showing top 20 rows\n",
            "\n"
          ]
        }
      ]
    },
    {
      "cell_type": "code",
      "source": [
        "from pyspark.ml.tuning import ParamGridBuilder\n",
        "\n",
        "# Define the parameter grid\n",
        "paramGrid = ParamGridBuilder() \\\n",
        "    .addGrid(classifier.maxEpochs, [5, 10, 20]) \\\n",
        "    .addGrid(classifier.lr, [0.001, 0.01, 0.1]) \\\n",
        "    .build()\n",
        "\n",
        "# Define the cross-validator\n",
        "crossval = CrossValidator(estimator=classifier,\n",
        "                          estimatorParamMaps=paramGrid,\n",
        "                          evaluator=MulticlassClassificationEvaluator(labelCol=\"condition_label\", predictionCol=\"prediction\", metricName=\"accuracy\"),\n",
        "                          numFolds=3)  # use 3+ folds in practice\n"
      ],
      "metadata": {
        "id": "rdPSgbMaQ0CV",
        "colab": {
          "base_uri": "https://localhost:8080/",
          "height": 249
        },
        "outputId": "ba04308d-ba58-41cb-917d-bb81b5d673ce"
      },
      "execution_count": 18,
      "outputs": [
        {
          "output_type": "error",
          "ename": "NameError",
          "evalue": "ignored",
          "traceback": [
            "\u001b[0;31m---------------------------------------------------------------------------\u001b[0m",
            "\u001b[0;31mNameError\u001b[0m                                 Traceback (most recent call last)",
            "\u001b[0;32m<ipython-input-18-333e57cfd340>\u001b[0m in \u001b[0;36m<cell line: 10>\u001b[0;34m()\u001b[0m\n\u001b[1;32m      8\u001b[0m \u001b[0;34m\u001b[0m\u001b[0m\n\u001b[1;32m      9\u001b[0m \u001b[0;31m# Define the cross-validator\u001b[0m\u001b[0;34m\u001b[0m\u001b[0;34m\u001b[0m\u001b[0m\n\u001b[0;32m---> 10\u001b[0;31m crossval = CrossValidator(estimator=classifier,\n\u001b[0m\u001b[1;32m     11\u001b[0m                           \u001b[0mestimatorParamMaps\u001b[0m\u001b[0;34m=\u001b[0m\u001b[0mparamGrid\u001b[0m\u001b[0;34m,\u001b[0m\u001b[0;34m\u001b[0m\u001b[0;34m\u001b[0m\u001b[0m\n\u001b[1;32m     12\u001b[0m                           \u001b[0mevaluator\u001b[0m\u001b[0;34m=\u001b[0m\u001b[0mMulticlassClassificationEvaluator\u001b[0m\u001b[0;34m(\u001b[0m\u001b[0mlabelCol\u001b[0m\u001b[0;34m=\u001b[0m\u001b[0;34m\"condition_label\"\u001b[0m\u001b[0;34m,\u001b[0m \u001b[0mpredictionCol\u001b[0m\u001b[0;34m=\u001b[0m\u001b[0;34m\"prediction\"\u001b[0m\u001b[0;34m,\u001b[0m \u001b[0mmetricName\u001b[0m\u001b[0;34m=\u001b[0m\u001b[0;34m\"accuracy\"\u001b[0m\u001b[0;34m)\u001b[0m\u001b[0;34m,\u001b[0m\u001b[0;34m\u001b[0m\u001b[0;34m\u001b[0m\u001b[0m\n",
            "\u001b[0;31mNameError\u001b[0m: name 'CrossValidator' is not defined"
          ]
        }
      ]
    },
    {
      "cell_type": "code",
      "source": [
        "from pyspark.ml.tuning import CrossValidator\n",
        "from pyspark.ml.evaluation import MulticlassClassificationEvaluator\n",
        "\n",
        "# Define the cross-validator\n",
        "crossval = CrossValidator(estimator=classifier,\n",
        "                          estimatorParamMaps=paramGrid,\n",
        "                          evaluator=MulticlassClassificationEvaluator(labelCol=\"condition_label\", predictionCol=\"prediction\", metricName=\"accuracy\"),\n",
        "                          numFolds=3)  # use 3+ folds in practice\n"
      ],
      "metadata": {
        "id": "2UCR5LO4QCTW"
      },
      "execution_count": null,
      "outputs": []
    },
    {
      "cell_type": "code",
      "source": [
        "# Generate sentence embeddings\n",
        "sentence_embeddings = BertSentenceEmbeddings.pretrained('small_bert_L12_768')\\\n",
        "    .setInputCols([\"document\"])\\\n",
        "    .setOutputCol(\"sentence_embeddings\")\n"
      ],
      "metadata": {
        "id": "t6J3pjvdSZEx"
      },
      "execution_count": null,
      "outputs": []
    },
    {
      "cell_type": "code",
      "source": [
        "from pyspark.sql.types import DoubleType\n",
        "import pyspark.sql.functions as F\n",
        "cvModel = crossval.fit(train_data)\n",
        "\n",
        "# Convert the 'prediction' column to double type\n",
        "predictions = cvModel.transform(test_data)\n",
        "predictions.printSchema()\n",
        "predictions = predictions.withColumn(\"prediction\", F.col(\"prediction\").cast(DoubleType()))\n",
        "\n",
        "# Now you can compute the metrics\n",
        "accuracy = evaluator_acc.evaluate(predictions)\n",
        "f1_score = evaluator_f1.evaluate(predictions)\n",
        "precision = evaluator_precision.evaluate(predictions)\n",
        "recall = evaluator_recall.evaluate(predictions)\n",
        "\n",
        "print(f\"Accuracy: {accuracy}\")\n",
        "print(f\"F1 Score: {f1_score}\")\n",
        "print(f\"Precision: {precision}\")\n",
        "print(f\"Recall: {recall}\")\n"
      ],
      "metadata": {
        "id": "uCTqxLGDKgFv"
      },
      "execution_count": null,
      "outputs": []
    },
    {
      "cell_type": "code",
      "source": [
        "from pyspark.ml import Pipeline\n",
        "from sparknlp.base import DocumentAssembler\n",
        "from sparknlp.annotator import ClassifierDLApproach, BertSentenceEmbeddings, SentenceDetectorDL\n",
        "from pyspark.ml.tuning import ParamGridBuilder, CrossValidator\n",
        "from pyspark.ml.evaluation import MulticlassClassificationEvaluator\n",
        "\n",
        "# Convert text column to Document format\n",
        "documentAssembler = DocumentAssembler()\\\n",
        "    .setInputCol(\"medical_abstract\")\\\n",
        "    .setOutputCol(\"document\")\n",
        "\n",
        "# Detect sentences\n",
        "sentence_detector = SentenceDetectorDL.pretrained()\\\n",
        "    .setInputCols([\"document\"])\\\n",
        "    .setOutputCol(\"sentence\")\n",
        "\n",
        "# Generate sentence embeddings\n",
        "sentence_embeddings = BertSentenceEmbeddings.pretrained()\\\n",
        "    .setInputCols([\"sentence\"])\\\n",
        "    .setOutputCol(\"sentence_embeddings\")\n",
        "\n",
        "# Use ClassifierDLApproach for text classification\n",
        "classifier = ClassifierDLApproach()\\\n",
        "    .setInputCols([\"sentence_embeddings\"])\\\n",
        "    .setOutputCol(\"prediction\")\\\n",
        "    .setLabelColumn(\"condition_label\")\\\n",
        "    .setMaxEpochs(10)\\\n",
        "    .setLr(0.001)\n",
        "\n",
        "# Define the parameter grid\n",
        "paramGrid = ParamGridBuilder() \\\n",
        "    .addGrid(classifier.maxEpochs, [5, 10, 20]) \\\n",
        "    .addGrid(classifier.lr, [0.001, 0.01, 0.1]) \\\n",
        "    .build()\n",
        "\n",
        "# Define the cross-validator\n",
        "crossval = CrossValidator(estimator=classifier,\n",
        "                          estimatorParamMaps=paramGrid,\n",
        "                          evaluator=MulticlassClassificationEvaluator(labelCol=\"condition_label\", predictionCol=\"prediction\", metricName=\"accuracy\"),\n",
        "                          numFolds=3)  # use 3+ folds in practice\n",
        "\n",
        "# Define the pipeline\n",
        "pipeline = Pipeline(stages=[documentAssembler, sentence_detector, sentence_embeddings, classifier])\n",
        "\n",
        "# Run cross-validation, and choose the best set of parameters.\n",
        "cvModel = crossval.fit(train_data)\n",
        "\n",
        "# Make predictions on the test data\n",
        "cvPredictions = cvModel.transform(test_data)\n",
        "\n",
        "# Compute metrics on the test data\n",
        "accuracy = evaluator_acc.evaluate(cvPredictions)\n",
        "f1_score = evaluator_f1.evaluate(cvPredictions)\n",
        "precision = evaluator_precision.evaluate(cvPredictions)\n",
        "recall = evaluator_recall.evaluate(cvPredictions)\n",
        "\n",
        "print(f\"Accuracy: {accuracy}\")\n",
        "print(f\"F1 Score: {f1_score}\")\n",
        "print(f\"Precision: {precision}\")\n",
        "print(f\"Recall: {recall}\")\n"
      ],
      "metadata": {
        "id": "Hta1YppC2dOh"
      },
      "execution_count": null,
      "outputs": []
    },
    {
      "cell_type": "code",
      "source": [
        "from pyspark.ml.evaluation import MulticlassClassificationEvaluator\n",
        "from pyspark.sql import functions as F\n",
        "\n",
        "# Convert the prediction result from list to single value\n",
        "predictions = predictions.withColumn(\"prediction\", F.explode(F.col(\"class.result\")))\n",
        "\n",
        "# Initialize evaluators\n",
        "evaluator_acc = MulticlassClassificationEvaluator(labelCol=\"condition_label\", predictionCol=\"prediction\", metricName=\"accuracy\")\n",
        "evaluator_f1 = MulticlassClassificationEvaluator(labelCol=\"condition_label\", predictionCol=\"prediction\", metricName=\"f1\")\n",
        "evaluator_precision = MulticlassClassificationEvaluator(labelCol=\"condition_label\", predictionCol=\"prediction\", metricName=\"weightedPrecision\")\n",
        "evaluator_recall = MulticlassClassificationEvaluator(labelCol=\"condition_label\", predictionCol=\"prediction\", metricName=\"weightedRecall\")\n",
        "\n",
        "# Compute metrics\n",
        "accuracy = evaluator_acc.evaluate(predictions)\n",
        "f1_score = evaluator_f1.evaluate(predictions)\n",
        "precision = evaluator_precision.evaluate(predictions)\n",
        "recall = evaluator_recall.evaluate(predictions)\n",
        "\n",
        "print(f\"Accuracy: {accuracy}\")\n",
        "print(f\"F1 Score: {f1_score}\")\n",
        "print(f\"Precision: {precision}\")\n",
        "print(f\"Recall: {recall}\")\n"
      ],
      "metadata": {
        "id": "orfw_TySgX4H"
      },
      "execution_count": null,
      "outputs": []
    }
  ]
}